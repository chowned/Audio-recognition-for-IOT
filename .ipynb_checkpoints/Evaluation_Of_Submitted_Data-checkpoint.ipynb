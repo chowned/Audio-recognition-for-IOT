{
 "cells": [
  {
   "cell_type": "code",
   "execution_count": 3,
   "id": "76af8f3f",
   "metadata": {},
   "outputs": [
    {
     "name": "stdout",
     "output_type": "stream",
     "text": [
      "31\n"
     ]
    }
   ],
   "source": [
    "import pandas as pd\n",
    "import os\n",
    "import shutil\n",
    "import librosa\n",
    "import numpy as np\n",
    "import soundfile as sf\n",
    "from concurrent.futures import ThreadPoolExecutor\n",
    "import tensorflow as tf\n",
    "import random\n",
    "import tensorflow_io as tfio\n",
    "import preprocessing as pr\n",
    "from tensorflow import keras\n",
    "import tensorflow_model_optimization as tfmot\n",
    "import argparse as ap\n",
    "from glob import glob\n",
    "import preprocessing as pr"
   ]
  },
  {
   "cell_type": "code",
   "execution_count": 5,
   "id": "bc964dbe",
   "metadata": {},
   "outputs": [
    {
     "name": "stdout",
     "output_type": "stream",
     "text": [
      "Files to be evaluated:  1455\n",
      "WARNING:tensorflow:No training configuration found in save file, so the model was *not* compiled. Compile it manually.\n"
     ]
    }
   ],
   "source": [
    "saved_model_dir = f'./saved_models/last_model_used'\n",
    "\n",
    "# Evaluation\n",
    "filenames = glob('../../datasets/dsl_data/Test_Dataset_Truncated/*')\n",
    "print(\"Files to be evaluated: \",len(filenames))\n",
    "\n",
    "model = keras.models.load_model(saved_model_dir)\n",
    "# predictions_single = model.predict(img)"
   ]
  },
  {
   "cell_type": "code",
   "execution_count": 20,
   "id": "0b3df37f",
   "metadata": {},
   "outputs": [
    {
     "name": "stdout",
     "output_type": "stream",
     "text": [
      "0\n"
     ]
    },
    {
     "ename": "NameError",
     "evalue": "name 'linear_to_mel_weight_matrix' is not defined",
     "output_type": "error",
     "traceback": [
      "\u001b[1;31m---------------------------------------------------------------------------\u001b[0m",
      "\u001b[1;31mNameError\u001b[0m                                 Traceback (most recent call last)",
      "Cell \u001b[1;32mIn [20], line 20\u001b[0m\n\u001b[0;32m     13\u001b[0m stft \u001b[38;5;241m=\u001b[39m tf\u001b[38;5;241m.\u001b[39msignal\u001b[38;5;241m.\u001b[39mstft(\n\u001b[0;32m     14\u001b[0m     audio,\n\u001b[0;32m     15\u001b[0m     frame_length\u001b[38;5;241m=\u001b[39m\u001b[38;5;241m512\u001b[39m,\n\u001b[0;32m     16\u001b[0m     frame_step\u001b[38;5;241m=\u001b[39m\u001b[38;5;241m512\u001b[39m,\n\u001b[0;32m     17\u001b[0m     fft_length\u001b[38;5;241m=\u001b[39m\u001b[38;5;241m512\u001b[39m\n\u001b[0;32m     18\u001b[0m )\n\u001b[0;32m     19\u001b[0m spectrogram \u001b[38;5;241m=\u001b[39m tf\u001b[38;5;241m.\u001b[39mabs(stft)\n\u001b[1;32m---> 20\u001b[0m mel_spectrogram \u001b[38;5;241m=\u001b[39m tf\u001b[38;5;241m.\u001b[39mmatmul(spectrogram, \u001b[43mlinear_to_mel_weight_matrix\u001b[49m)\n\u001b[0;32m     21\u001b[0m log_mel_spectrogram \u001b[38;5;241m=\u001b[39m tf\u001b[38;5;241m.\u001b[39mmath\u001b[38;5;241m.\u001b[39mlog(mel_spectrogram \u001b[38;5;241m+\u001b[39m \u001b[38;5;241m1.e-6\u001b[39m)\n\u001b[0;32m     22\u001b[0m log_mel_spectrogram \u001b[38;5;241m=\u001b[39m tf\u001b[38;5;241m.\u001b[39mexpand_dims(log_mel_spectrogram, \u001b[38;5;241m-\u001b[39m\u001b[38;5;241m1\u001b[39m)  \u001b[38;5;66;03m# channel axis\u001b[39;00m\n",
      "\u001b[1;31mNameError\u001b[0m: name 'linear_to_mel_weight_matrix' is not defined"
     ]
    }
   ],
   "source": [
    "with open(\"Evaluation_Dataset_Result.csv\", \"w\") as file:\n",
    "    file.write(\"Id,Predicted\")\n",
    "    file.write(\"\\n\") \n",
    "    file.write(\"\")\n",
    "    for filename in filenames:\n",
    "        identifier = filename.replace(\"\\\\\", \"/\").split('/')[-1].split('.')[0]\n",
    "        #filename = filename.split('/')[-1].split('.')[0]\n",
    "        print(identifier)\n",
    "        audio_binary = tf.io.read_file(filename)\n",
    "        audio, sampling_rate = tf.audio.decode_wav(audio_binary)\n",
    "        audio = tf.squeeze(audio, axis=-1) #all our audio are mono, drop extra axis\n",
    "        audio_padded = audio\n",
    "        stft = tf.signal.stft(\n",
    "            audio,\n",
    "            frame_length=pr.frame_length,\n",
    "            frame_step=pr.frame_step,\n",
    "            fft_length=pr.frame_length\n",
    "        )\n",
    "        spectrogram = tf.abs(stft)\n",
    "        mel_spectrogram = tf.matmul(spectrogram, pr.linear_to_mel_weight_matrix)\n",
    "        log_mel_spectrogram = tf.math.log(mel_spectrogram + 1.e-6)\n",
    "        log_mel_spectrogram = tf.expand_dims(log_mel_spectrogram, -1)  # channel axis\n",
    "        mfcss = tf.signal.mfccs_from_log_mel_spectrograms(log_mel_spectrogram)\n",
    "        \n",
    "        prediction = model.predict(mfcss)\n",
    "        print(prediction)\n",
    "        file.write(\"\")\n",
    "        "
   ]
  },
  {
   "cell_type": "code",
   "execution_count": null,
   "id": "498fc0bc",
   "metadata": {},
   "outputs": [],
   "source": [
    "for filename in filenames:\n",
    "    audio_binary = tf.io.read_file(filename)\n",
    "    path_parts = tf.strings.split(filename, '_')\n",
    "    path_end = path_parts[-1]\n",
    "    file_parts = tf.strings.split(path_end, '.')\n",
    "    true_label = file_parts[0]\n",
    "    label_id = tf.argmax(true_label == LABELS)\n",
    "    audio, sampling_rate = tf.audio.decode_wav(audio_binary)\n",
    "    audio = tf.squeeze(audio, axis=-1) #all our audio are mono, drop extra axis\n",
    "    audio_padded = audio\n",
    "    stft = tf.signal.stft(\n",
    "        audio,\n",
    "        frame_length=frame_length,\n",
    "        frame_step=frame_step,\n",
    "        fft_length=frame_length\n",
    "    )\n",
    "    spectrogram = tf.abs(stft)\n",
    "    mel_spectrogram = tf.matmul(spectrogram, linear_to_mel_weight_matrix)\n",
    "    log_mel_spectrogram = tf.math.log(mel_spectrogram + 1.e-6)\n",
    "    log_mel_spectrogram = tf.expand_dims(log_mel_spectrogram, -1)  # channel axis\n",
    "    mfcss = tf.signal.mfccs_from_log_mel_spectrograms(log_mel_spectrogram)"
   ]
  }
 ],
 "metadata": {
  "kernelspec": {
   "display_name": "Python 3 (ipykernel)",
   "language": "python",
   "name": "python3"
  },
  "language_info": {
   "codemirror_mode": {
    "name": "ipython",
    "version": 3
   },
   "file_extension": ".py",
   "mimetype": "text/x-python",
   "name": "python",
   "nbconvert_exporter": "python",
   "pygments_lexer": "ipython3",
   "version": "3.10.8"
  }
 },
 "nbformat": 4,
 "nbformat_minor": 5
}
