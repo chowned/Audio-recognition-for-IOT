{
 "cells": [
  {
   "cell_type": "markdown",
   "id": "5806340e",
   "metadata": {},
   "source": [
    "# new release of tensorflow, version 2.10 cannot be retrieved\n",
    "!pip install tensorflow\n",
    "!pip install tensorflow-io\n",
    "!pip install cherrypy==18.8.0\n",
    "!pip install paho-mqtt==1.6.1\n",
    "!pip install redis==4.3.4\n",
    "!pip install librosa\n",
    "!pip install tensorflow_model_optimization\n",
    "!pip install pandas\n",
    "!pip install keras\n",
    "!pip install pydub\n",
    "!pip install noisereduce"
   ]
  },
  {
   "cell_type": "code",
   "execution_count": 35,
   "id": "5df89252",
   "metadata": {},
   "outputs": [],
   "source": [
    "import os\n",
    "import sounddevice as sd\n",
    "import numpy as np\n",
    "import time\n",
    "from time import time\n",
    "from time import sleep\n",
    "from scipy.io.wavfile import write\n",
    "import argparse as ap\n",
    "import tensorflow as tf\n",
    "import tensorflow_io as tfio\n",
    "import uuid\n",
    "import redis\n",
    "import psutil\n",
    "# import myConnection as mc\n",
    "from datetime import datetime\n",
    "import argparse as ap\n",
    "import pandas as pd\n",
    "import random\n",
    "import paho.mqtt.client as mqtt"
   ]
  },
  {
   "cell_type": "code",
   "execution_count": 36,
   "id": "0d918d3f",
   "metadata": {},
   "outputs": [],
   "source": [
    "import noisereduce as nr\n",
    "from scipy.io.wavfile import write\n",
    "from scipy.io import wavfile"
   ]
  },
  {
   "cell_type": "code",
   "execution_count": 37,
   "id": "60b549b4",
   "metadata": {},
   "outputs": [
    {
     "name": "stdout",
     "output_type": "stream",
     "text": [
      "\n"
     ]
    }
   ],
   "source": [
    "try:\n",
    "    os.chdir('./datasets/dsl_data/')\n",
    "except:\n",
    "    print(\"\")\n",
    "\n",
    "seed = 42\n",
    "os.environ['PYTHONHASHSEED'] = str(seed)\n",
    "os.environ['TF_DETERMINISTIC_OPS'] = '1'\n",
    "random.seed(seed)\n",
    "tf.random.set_seed(seed)\n",
    "np.random.seed(seed)"
   ]
  },
  {
   "cell_type": "code",
   "execution_count": 38,
   "id": "46591eb6",
   "metadata": {},
   "outputs": [],
   "source": [
    "parser = ap.ArgumentParser()\n",
    "\n",
    "parser.add_argument('--resolution', default=8000, type=int, help=\"Resolution for capturing audio\")\n",
    "# blocksize\n",
    "#parser.add_argument('--blocksize', default=32000, type=int, help=\"Blocksize for captured audio, change only if you previously changed\")\n",
    "parser.add_argument('--downsampling_rate', default=8000, type=int, help=\"Resolution for capturing audio\")\n",
    "parser.add_argument('--device', default=0, type=int, help=\"Default device is 0, change for others\")\n",
    "\n",
    "\n",
    "parser.add_argument('--output_directory', default='.',type=str, help='Used to specify output folder')\n",
    "\n",
    "\n",
    "args = parser.parse_args(['--device','31','--resolution','8000' ])\n",
    "#args = parser.parse_args()"
   ]
  },
  {
   "cell_type": "code",
   "execution_count": 39,
   "id": "b5459695",
   "metadata": {},
   "outputs": [],
   "source": [
    "blocksize = 4 * args.resolution\n",
    "LABELS = ['change languagenone', 'activatemusic', 'deactivatelights', 'increasevolume', 'decreasevolume', 'increaseheat', 'decreaseheat', 'nannan']"
   ]
  },
  {
   "cell_type": "code",
   "execution_count": 40,
   "id": "5c543c6e",
   "metadata": {},
   "outputs": [
    {
     "name": "stdout",
     "output_type": "stream",
     "text": [
      "['change languagenone', 'activatemusic', 'deactivatelights', 'increasevolume', 'decreasevolume', 'increaseheat', 'decreaseheat', 'nannan']\n"
     ]
    }
   ],
   "source": [
    "print(LABELS)"
   ]
  },
  {
   "cell_type": "markdown",
   "id": "07481e54",
   "metadata": {},
   "source": [
    "# Necessary preprocessing args"
   ]
  },
  {
   "cell_type": "code",
   "execution_count": 41,
   "id": "9af86cd7",
   "metadata": {},
   "outputs": [],
   "source": [
    "frame_length_in_s = 0.04#0.032*2 # /2 for resnet18\n",
    "frame_step_in_s  = frame_length_in_s#frame_length_in_s\n",
    "\n",
    "PREPROCESSING_ARGS = {\n",
    "    'downsampling_rate': args.resolution,\n",
    "    'frame_length_in_s': frame_length_in_s,\n",
    "    'frame_step_in_s': frame_step_in_s,\n",
    "}\n",
    "\n",
    "num_mel_bins = (int) ((args.resolution - args.resolution * PREPROCESSING_ARGS['frame_length_in_s'])/(args.resolution*PREPROCESSING_ARGS['frame_step_in_s']))+1\n",
    "# print(num_mel_bins)\n",
    "\n",
    "PREPROCESSING_ARGS = {\n",
    "    **PREPROCESSING_ARGS,\n",
    "    'num_mel_bins': num_mel_bins,\n",
    "    'lower_frequency': 20,   #40\n",
    "    'upper_frequency': args.resolution/2, #4000\n",
    "}\n",
    "\n",
    "downsampling_rate = PREPROCESSING_ARGS['downsampling_rate']\n",
    "sampling_rate_int64 = tf.cast(downsampling_rate, tf.int64)\n",
    "frame_length = int(downsampling_rate * PREPROCESSING_ARGS['frame_length_in_s'])\n",
    "#print(\"Frame_length: {}\".format(frame_length))\n",
    "frame_step = int(downsampling_rate * PREPROCESSING_ARGS['frame_step_in_s'])\n",
    "#print(\"Frame_length: {}\".format(frame_step))\n",
    "num_spectrogram_bins = frame_length // 2 + 1\n",
    "num_mel_bins = PREPROCESSING_ARGS['num_mel_bins']\n",
    "lower_frequency = PREPROCESSING_ARGS['lower_frequency']\n",
    "upper_frequency = PREPROCESSING_ARGS['upper_frequency']\n",
    "\n",
    "linear_to_mel_weight_matrix = tf.signal.linear_to_mel_weight_matrix(\n",
    "    num_mel_bins=num_mel_bins,\n",
    "    num_spectrogram_bins=num_spectrogram_bins,\n",
    "    sample_rate=downsampling_rate,\n",
    "    lower_edge_hertz=lower_frequency,\n",
    "    upper_edge_hertz=upper_frequency\n",
    ")"
   ]
  },
  {
   "cell_type": "code",
   "execution_count": 42,
   "id": "6351949e",
   "metadata": {},
   "outputs": [],
   "source": [
    "modelName = \"model_24\"\n",
    "\n",
    "interpreter = tf.lite.Interpreter(model_path=f'./tflite_models/{modelName}.tflite')\n",
    "interpreter.allocate_tensors()\n",
    "input_details = interpreter.get_input_details()\n",
    "output_details = interpreter.get_output_details()"
   ]
  },
  {
   "cell_type": "code",
   "execution_count": 43,
   "id": "b37cd396",
   "metadata": {},
   "outputs": [],
   "source": [
    "mqtt_topic = \"topic/ML4IOT_Project_Polito\""
   ]
  },
  {
   "cell_type": "code",
   "execution_count": 44,
   "id": "41a9b9c6",
   "metadata": {},
   "outputs": [],
   "source": [
    "def get_audio_from_numpy(indata):\n",
    "    indata = tf.convert_to_tensor(indata, dtype=tf.float32)\n",
    "    #print(\"Shape of indata: \",tf.reduce_max(indata))\n",
    "    indata = 2 * ((indata + 32768) / (32767 + 32768)) -1\n",
    "    indata = tf.squeeze(indata)\n",
    "    #print(\"After of indata: \",tf.reduce_max(indata))\n",
    "    return indata\n",
    "\n",
    "def get_spectrogram(indata, frame_length_in_s, frame_step_in_s):\n",
    "    data = get_audio_from_numpy(indata)\n",
    "    \n",
    "    sampling_rate_float32 = tf.cast(args.downsampling_rate, tf.float32)\n",
    "    frame_length = int(frame_length_in_s * sampling_rate_float32)\n",
    "    frame_step = int(frame_step_in_s * sampling_rate_float32)\n",
    "\n",
    "    stft = tf.signal.stft(\n",
    "        data,\n",
    "        frame_length=frame_length,\n",
    "        frame_step=frame_step,\n",
    "        fft_length=frame_length\n",
    "    )\n",
    "    spectrogram = tf.abs(stft)\n",
    "\n",
    "    return spectrogram"
   ]
  },
  {
   "cell_type": "code",
   "execution_count": 45,
   "id": "2d449f40",
   "metadata": {},
   "outputs": [],
   "source": [
    "def send_prediction_as_mqtt(file):\n",
    "    # f'./{args.output_directory}/{timestamp}.wav'\n",
    "    \n",
    "    #print(type(predicted_label))\n",
    "    #print(predicted_label.shape)\n",
    "    #print(predicted_label)\n",
    "    print(\"predicted label:\",predicted_label)\n",
    "    print(\"max:\",predicted_label.max())\n",
    "    index = ( np.where(predicted_label == predicted_label.max() )  )\n",
    "    index = index[0][0]\n",
    "    print(\"index\",index)\n",
    "    print(\"label\",LABELS[index])\n",
    "    print()\n",
    "    "
   ]
  },
  {
   "cell_type": "markdown",
   "id": "e3d33bf7",
   "metadata": {},
   "source": [
    "print(LABELS[index])"
   ]
  },
  {
   "cell_type": "code",
   "execution_count": 46,
   "id": "2fd3fda4",
   "metadata": {},
   "outputs": [],
   "source": [
    "def prediction_on_indata(indata):\n",
    "    frame_length_in_s = 0.04\n",
    "    frame_step_in_s   = frame_length_in_s\n",
    "    #audio = get_audio_from_numpy(indata)\n",
    "    audio_binary = tf.io.read_file(indata)\n",
    "    audio, sampling_rate = tf.audio.decode_wav(audio_binary)\n",
    "    audio = tf.squeeze(audio, axis=-1) #all our audio are mono, drop extra axis\n",
    "    \n",
    "    \n",
    "    frame_length = int(frame_length_in_s * args.resolution)\n",
    "    frame_step = int(frame_step_in_s * args.resolution)\n",
    "    stft = tf.signal.stft(\n",
    "        audio,\n",
    "        frame_length=frame_length,\n",
    "        frame_step=frame_step,\n",
    "        fft_length=frame_length\n",
    "    )\n",
    "    \n",
    "    spectrogram = tf.abs(stft)\n",
    "    \n",
    "    mel_spectrogram = tf.matmul(spectrogram, linear_to_mel_weight_matrix)\n",
    "    log_mel_spectrogram = tf.math.log(mel_spectrogram + 1.e-6)\n",
    "    log_mel_spectrogram = tf.expand_dims(log_mel_spectrogram, 0)  # batch axis\n",
    "    log_mel_spectrogram = tf.expand_dims(log_mel_spectrogram, -1)  # channel axis\n",
    "    mfcss = tf.signal.mfccs_from_log_mel_spectrograms(log_mel_spectrogram)\n",
    "    #print(\"Shape \",input_details[0])\n",
    "    interpreter.set_tensor(input_details[0]['index'], mfcss)\n",
    "    interpreter.invoke()\n",
    "    output = interpreter.get_tensor(output_details[0]['index'])\n",
    "\n",
    "    #print(\"change languagenone\",output[0][0]*100,\"%\")\n",
    "    #print(\"activatemusic\",output[0][1]*100,\"%\")\n",
    "    #print(\"deactivatelights\",output[0][2]*100,\"%\")\n",
    "    #print(\"increasevolume\",output[0][3]*100,\"%\")\n",
    "    #print(\"decreasevolume\",output[0][4]*100,\"%\")\n",
    "    #print(\"increaseheat\",output[0][5]*100,\"%\")\n",
    "    #print(\"decreaseheat\",output[0][6]*100,\"%\")\n",
    "    #print(\"nannan\",output[0][7]*100,\"%\")\n",
    "    \n",
    "    send_prediction_as_mqtt(output[0])\n",
    "    return"
   ]
  },
  {
   "cell_type": "code",
   "execution_count": 47,
   "id": "7f469c8a",
   "metadata": {},
   "outputs": [],
   "source": [
    "values = sd.query_devices()\n",
    "device = 0\n",
    "\n",
    "for value in values:\n",
    "    if value['name'] == 'default':\n",
    "        device = value['index']"
   ]
  },
  {
   "cell_type": "code",
   "execution_count": 48,
   "id": "ddeb2816",
   "metadata": {},
   "outputs": [],
   "source": [
    "def callback(indata, frames, callback_time, status):\n",
    "    timestamp = time()\n",
    "\n",
    "    write(f'./{args.output_directory}/{timestamp}.wav', args.resolution, indata)\n",
    "    \n",
    "    rate,data = wavfile.read(f'./{args.output_directory}/{timestamp}.wav')\n",
    "    indata = nr.reduce_noise(y=data, sr=rate) #sr=indata.shape[0])\n",
    "    #print(indata.shape[0])\n",
    "\n",
    "    os.remove(f'./{args.output_directory}/{timestamp}.wav')\n",
    "    wavfile.write(f'./{args.output_directory}/{timestamp}.wav',args.downsampling_rate,indata)\n",
    "   \n",
    "    \n",
    "    prediction_on_indata(f'./{args.output_directory}/{timestamp}.wav')\n",
    "    \n",
    "    print(\"Elapsed time: \",time()-timestamp)"
   ]
  },
  {
   "cell_type": "code",
   "execution_count": 49,
   "id": "58d4840f",
   "metadata": {},
   "outputs": [
    {
     "name": "stdout",
     "output_type": "stream",
     "text": [
      "\n",
      "before\n"
     ]
    },
    {
     "name": "stderr",
     "output_type": "stream",
     "text": [
      "Exception ignored from cffi callback <function _StreamBase.__init__.<locals>.callback_ptr at 0x7f651843f9c0>:\n",
      "Traceback (most recent call last):\n",
      "  File \"/home/gaetano/.local/lib/python3.11/site-packages/sounddevice.py\", line 846, in callback_ptr\n",
      "    return _wrap_callback(callback, data, frames, time, status)\n",
      "           ^^^^^^^^^^^^^^^^^^^^^^^^^^^^^^^^^^^^^^^^^^^^^^^^^^^^\n",
      "  File \"/home/gaetano/.local/lib/python3.11/site-packages/sounddevice.py\", line 2687, in _wrap_callback\n",
      "    callback(*args)\n",
      "  File \"/tmp/ipykernel_38858/2402715777.py\", line 16, in callback\n",
      "  File \"/tmp/ipykernel_38858/3767703333.py\", line 40, in prediction_on_indata\n",
      "  File \"/tmp/ipykernel_38858/3306615471.py\", line 7, in send_prediction_as_mqtt\n",
      "NameError: name 'predicted_label' is not defined\n"
     ]
    },
    {
     "name": "stdout",
     "output_type": "stream",
     "text": [
      "after\n",
      "\n",
      "\n"
     ]
    },
    {
     "name": "stderr",
     "output_type": "stream",
     "text": [
      "Exception ignored from cffi callback <function _StreamBase.__init__.<locals>.callback_ptr at 0x7f64f37e7ec0>:\n",
      "Traceback (most recent call last):\n",
      "  File \"/home/gaetano/.local/lib/python3.11/site-packages/sounddevice.py\", line 846, in callback_ptr\n",
      "    return _wrap_callback(callback, data, frames, time, status)\n",
      "           ^^^^^^^^^^^^^^^^^^^^^^^^^^^^^^^^^^^^^^^^^^^^^^^^^^^^\n",
      "  File \"/home/gaetano/.local/lib/python3.11/site-packages/sounddevice.py\", line 2687, in _wrap_callback\n",
      "    callback(*args)\n",
      "  File \"/tmp/ipykernel_38858/2402715777.py\", line 16, in callback\n",
      "  File \"/tmp/ipykernel_38858/3767703333.py\", line 40, in prediction_on_indata\n",
      "  File \"/tmp/ipykernel_38858/3306615471.py\", line 7, in send_prediction_as_mqtt\n",
      "NameError: name 'predicted_label' is not defined\n"
     ]
    },
    {
     "name": "stdout",
     "output_type": "stream",
     "text": [
      "before\n",
      "after\n",
      "\n"
     ]
    },
    {
     "name": "stderr",
     "output_type": "stream",
     "text": [
      "Exception ignored from cffi callback <function _StreamBase.__init__.<locals>.callback_ptr at 0x7f64f37e74c0>:\n",
      "Traceback (most recent call last):\n",
      "  File \"/home/gaetano/.local/lib/python3.11/site-packages/sounddevice.py\", line 846, in callback_ptr\n",
      "    return _wrap_callback(callback, data, frames, time, status)\n",
      "           ^^^^^^^^^^^^^^^^^^^^^^^^^^^^^^^^^^^^^^^^^^^^^^^^^^^^\n",
      "  File \"/home/gaetano/.local/lib/python3.11/site-packages/sounddevice.py\", line 2687, in _wrap_callback\n",
      "    callback(*args)\n",
      "  File \"/tmp/ipykernel_38858/2402715777.py\", line 16, in callback\n",
      "  File \"/tmp/ipykernel_38858/3767703333.py\", line 40, in prediction_on_indata\n",
      "  File \"/tmp/ipykernel_38858/3306615471.py\", line 7, in send_prediction_as_mqtt\n",
      "NameError: name 'predicted_label' is not defined\n"
     ]
    },
    {
     "name": "stdout",
     "output_type": "stream",
     "text": [
      "before\n",
      "after\n"
     ]
    },
    {
     "ename": "KeyboardInterrupt",
     "evalue": "",
     "output_type": "error",
     "traceback": [
      "\u001b[0;31m---------------------------------------------------------------------------\u001b[0m",
      "\u001b[0;31mKeyboardInterrupt\u001b[0m                         Traceback (most recent call last)",
      "Cell \u001b[0;32mIn[49], line 9\u001b[0m\n\u001b[1;32m      6\u001b[0m             \u001b[38;5;28mprint\u001b[39m(\u001b[38;5;124m\"\u001b[39m\u001b[38;5;124m\"\u001b[39m) \u001b[38;5;66;03m# to print a new line, improving readability in the terminal\u001b[39;00m\n\u001b[1;32m      8\u001b[0m \u001b[38;5;28;01mif\u001b[39;00m \u001b[38;5;18m__name__\u001b[39m \u001b[38;5;241m==\u001b[39m \u001b[38;5;124m'\u001b[39m\u001b[38;5;124m__main__\u001b[39m\u001b[38;5;124m'\u001b[39m:\n\u001b[0;32m----> 9\u001b[0m     \u001b[43mmain\u001b[49m\u001b[43m(\u001b[49m\u001b[43m)\u001b[49m\n",
      "Cell \u001b[0;32mIn[49], line 5\u001b[0m, in \u001b[0;36mmain\u001b[0;34m()\u001b[0m\n\u001b[1;32m      1\u001b[0m \u001b[38;5;28;01mdef\u001b[39;00m \u001b[38;5;21mmain\u001b[39m():\n\u001b[1;32m      2\u001b[0m \n\u001b[1;32m      3\u001b[0m     \u001b[38;5;66;03m#print(LABELS)\u001b[39;00m\n\u001b[1;32m      4\u001b[0m     \u001b[38;5;28;01mwhile\u001b[39;00m \u001b[38;5;28;01mTrue\u001b[39;00m:\n\u001b[0;32m----> 5\u001b[0m \u001b[43m        \u001b[49m\u001b[38;5;28;43;01mwith\u001b[39;49;00m\u001b[43m \u001b[49m\u001b[43msd\u001b[49m\u001b[38;5;241;43m.\u001b[39;49m\u001b[43mInputStream\u001b[49m\u001b[43m(\u001b[49m\u001b[43mdevice\u001b[49m\u001b[38;5;241;43m=\u001b[39;49m\u001b[43mdevice\u001b[49m\u001b[43m,\u001b[49m\u001b[43m \u001b[49m\u001b[43mchannels\u001b[49m\u001b[38;5;241;43m=\u001b[39;49m\u001b[38;5;241;43m1\u001b[39;49m\u001b[43m,\u001b[49m\u001b[43m \u001b[49m\u001b[43mdtype\u001b[49m\u001b[38;5;241;43m=\u001b[39;49m\u001b[38;5;124;43m'\u001b[39;49m\u001b[38;5;124;43mint16\u001b[39;49m\u001b[38;5;124;43m'\u001b[39;49m\u001b[43m,\u001b[49m\u001b[43m \u001b[49m\u001b[43msamplerate\u001b[49m\u001b[38;5;241;43m=\u001b[39;49m\u001b[43margs\u001b[49m\u001b[38;5;241;43m.\u001b[39;49m\u001b[43mresolution\u001b[49m\u001b[43m,\u001b[49m\u001b[43m \u001b[49m\u001b[43mblocksize\u001b[49m\u001b[38;5;241;43m=\u001b[39;49m\u001b[43mblocksize\u001b[49m\u001b[43m,\u001b[49m\u001b[43m \u001b[49m\u001b[43mcallback\u001b[49m\u001b[38;5;241;43m=\u001b[39;49m\u001b[43mcallback\u001b[49m\u001b[43m)\u001b[49m\u001b[43m:\u001b[49m\n\u001b[1;32m      6\u001b[0m \u001b[43m            \u001b[49m\u001b[38;5;28;43mprint\u001b[39;49m\u001b[43m(\u001b[49m\u001b[38;5;124;43m\"\u001b[39;49m\u001b[38;5;124;43m\"\u001b[39;49m\u001b[43m)\u001b[49m\n",
      "File \u001b[0;32m~/.local/lib/python3.11/site-packages/sounddevice.py:1100\u001b[0m, in \u001b[0;36m_StreamBase.__exit__\u001b[0;34m(self, *args)\u001b[0m\n\u001b[1;32m   1098\u001b[0m \u001b[38;5;28;01mdef\u001b[39;00m \u001b[38;5;21m__exit__\u001b[39m(\u001b[38;5;28mself\u001b[39m, \u001b[38;5;241m*\u001b[39margs):\n\u001b[1;32m   1099\u001b[0m \u001b[38;5;250m    \u001b[39m\u001b[38;5;124;03m\"\"\"Stop and close the stream when exiting a \"with\" statement.\"\"\"\u001b[39;00m\n\u001b[0;32m-> 1100\u001b[0m     \u001b[38;5;28;43mself\u001b[39;49m\u001b[38;5;241;43m.\u001b[39;49m\u001b[43mstop\u001b[49m\u001b[43m(\u001b[49m\u001b[43m)\u001b[49m\n\u001b[1;32m   1101\u001b[0m     \u001b[38;5;28mself\u001b[39m\u001b[38;5;241m.\u001b[39mclose()\n",
      "File \u001b[0;32m~/.local/lib/python3.11/site-packages/sounddevice.py:1126\u001b[0m, in \u001b[0;36m_StreamBase.stop\u001b[0;34m(self, ignore_errors)\u001b[0m\n\u001b[1;32m   1115\u001b[0m \u001b[38;5;28;01mdef\u001b[39;00m \u001b[38;5;21mstop\u001b[39m(\u001b[38;5;28mself\u001b[39m, ignore_errors\u001b[38;5;241m=\u001b[39m\u001b[38;5;28;01mTrue\u001b[39;00m):\n\u001b[1;32m   1116\u001b[0m \u001b[38;5;250m    \u001b[39m\u001b[38;5;124;03m\"\"\"Terminate audio processing.\u001b[39;00m\n\u001b[1;32m   1117\u001b[0m \n\u001b[1;32m   1118\u001b[0m \u001b[38;5;124;03m    This waits until all pending audio buffers have been played\u001b[39;00m\n\u001b[0;32m   (...)\u001b[0m\n\u001b[1;32m   1124\u001b[0m \n\u001b[1;32m   1125\u001b[0m \u001b[38;5;124;03m    \"\"\"\u001b[39;00m\n\u001b[0;32m-> 1126\u001b[0m     err \u001b[38;5;241m=\u001b[39m \u001b[43m_lib\u001b[49m\u001b[38;5;241;43m.\u001b[39;49m\u001b[43mPa_StopStream\u001b[49m\u001b[43m(\u001b[49m\u001b[38;5;28;43mself\u001b[39;49m\u001b[38;5;241;43m.\u001b[39;49m\u001b[43m_ptr\u001b[49m\u001b[43m)\u001b[49m\n\u001b[1;32m   1127\u001b[0m     \u001b[38;5;28;01mif\u001b[39;00m \u001b[38;5;129;01mnot\u001b[39;00m ignore_errors:\n\u001b[1;32m   1128\u001b[0m         _check(err, \u001b[38;5;124m'\u001b[39m\u001b[38;5;124mError stopping stream\u001b[39m\u001b[38;5;124m'\u001b[39m)\n",
      "\u001b[0;31mKeyboardInterrupt\u001b[0m: "
     ]
    }
   ],
   "source": [
    "def main():\n",
    "\n",
    "    #print(LABELS)\n",
    "    while True:\n",
    "        with sd.InputStream(device=device, channels=1, dtype='int16', samplerate=args.resolution, blocksize=blocksize, callback=callback):\n",
    "            print(\"\") # to print a new line, improving readability in the terminal\n",
    "\n",
    "if __name__ == '__main__':\n",
    "    main()"
   ]
  },
  {
   "cell_type": "markdown",
   "id": "2f127f79",
   "metadata": {},
   "source": [
    "# Test"
   ]
  },
  {
   "cell_type": "code",
   "execution_count": null,
   "id": "275c126c",
   "metadata": {
    "scrolled": true
   },
   "outputs": [],
   "source": [
    "import functools\n",
    "\n",
    "print(\"Test area\")\n",
    "\n",
    "blocksize = 4 * args.resolution\n",
    "\n",
    "identifier = 0\n",
    "label = \"\"\n",
    "\n",
    "def callback2(indata, frames, callback_time, status):\n",
    "    \"\"\"This is called (from a separate thread) for each audio block.\"\"\"\n",
    "    # print(is_silence(indata))\n",
    "    # print(type(indata))  # Type is numpy.ndarray \n",
    "    global identifier\n",
    "    global label\n",
    "    \n",
    "    write(f'./{args.output_directory}/{identifier}_{label}.wav', args.resolution, indata)\n",
    "    filesize_in_bytes = os.path.getsize(f'./{args.output_directory}/{identifier}_{label}.wav')\n",
    "    filesize_in_kb = filesize_in_bytes / 1024\n",
    "    print(f'Size: {filesize_in_kb:.2f}KB')\n",
    "    \n",
    "\n",
    "\n",
    "# set up your global variables as before\n",
    "\n",
    "def callback(indata, frames, callback_time, status):\n",
    "    global identifier\n",
    "    global label\n",
    "    \n",
    "    # reduce noise in the audio data\n",
    "    \n",
    "    # write the audio data to file\n",
    "    write(f'./{args.output_directory}/{identifier}_{label}.wav', args.resolution, indata)\n",
    "    filesize_in_bytes = os.path.getsize(f'./{args.output_directory}/{identifier}_{label}.wav')\n",
    "    filesize_in_kb = filesize_in_bytes / 1024\n",
    "    print(f'Size: {filesize_in_kb:.2f}KB')\n",
    "    \n",
    "    \n",
    "    rate,data = wavfile.read(f'./{args.output_directory}/{identifier}_{label}.wav')\n",
    "    reduced_noise = nr.reduce_noise(y=data, sr=rate)\n",
    "    os.remove(f'./{args.output_directory}/{identifier}_{label}.wav')\n",
    "    wavfile.write(f'./{args.output_directory}/{identifier}_{label}.wav',rate,reduced_noise)\n",
    "    \n",
    "    \n",
    "#callback_with_args = functools.partial(my_callback, identifier=identifier, label=label)\n",
    "\n",
    "# 10 fron on screen microphone\n",
    "# 14 from microphone nada?\n",
    "\n",
    "def test(ident,lab):\n",
    "    print(\"New Recording!\")\n",
    "    global identifier\n",
    "    global label\n",
    "    identifier = ident\n",
    "    label = lab\n",
    "    with sd.InputStream(device=args.device, channels=1, dtype='int16', samplerate=args.resolution, blocksize=blocksize, callback=callback):\n",
    "        print(\"\")"
   ]
  },
  {
   "cell_type": "code",
   "execution_count": null,
   "id": "d3fa8238",
   "metadata": {},
   "outputs": [],
   "source": []
  },
  {
   "cell_type": "code",
   "execution_count": null,
   "id": "285f1638",
   "metadata": {},
   "outputs": [],
   "source": [
    "filename1 = \"./Train_Dataset_Truncated/0_change languagenone.wav\"\n",
    "filename2 = \"./Train_Dataset_Truncated/15_deactivatelights.wav\"\n",
    "    \n",
    "    \n",
    "filename21 = \"./Train_Dataset_Truncated/113_increasevolume.wav\"\n",
    "filename22 = \"./Train_Dataset_Truncated/151_increasevolume.wav\"\n",
    "filename23 = \"./Train_Dataset_Truncated/212_increaseheat.wav\"\n",
    "    \n",
    "filename3 = \"./AudioFiles/1678717382.0476763.wav\"   \n",
    "filename4 = \"./AudioFiles/1678717386.5524414.wav\"\n",
    "filename5 = \"./AudioFiles/1678717391.0566754.wav\"\n",
    "filename6 = \"./AudioFiles/1678717395.5633824.wav\"  \n",
    "direct=\"./AudioFiles/\"\n",
    "filename7 = direct+\"4_increasevolume.wav\"\n",
    "\n",
    "                \n",
    "def test2(filename):\n",
    "    print(\"Prediction for\",filename)\n",
    "    frame_length_in_s = 0.04\n",
    "    frame_step_in_s   = frame_length_in_s\n",
    "    global state\n",
    "    audio_binary = tf.io.read_file(filename)\n",
    "    audio, sampling_rate = tf.audio.decode_wav(audio_binary)\n",
    "    audio = tf.squeeze(audio, axis=-1) #all our audio are mono, drop extra axis\n",
    "    \n",
    "    frame_length = int(frame_length_in_s * args.resolution)\n",
    "    frame_step = int(frame_step_in_s * args.resolution)\n",
    "    stft = tf.signal.stft(\n",
    "        audio,\n",
    "        frame_length=frame_length,\n",
    "        frame_step=frame_step,\n",
    "        fft_length=frame_length\n",
    "    )\n",
    "    \n",
    "    spectrogram = tf.abs(stft)\n",
    "    \n",
    "    mel_spectrogram = tf.matmul(spectrogram, linear_to_mel_weight_matrix)\n",
    "    log_mel_spectrogram = tf.math.log(mel_spectrogram + 1.e-6)\n",
    "    log_mel_spectrogram = tf.expand_dims(log_mel_spectrogram, 0)  # batch axis\n",
    "    log_mel_spectrogram = tf.expand_dims(log_mel_spectrogram, -1)  # channel axis\n",
    "    mfcss = tf.signal.mfccs_from_log_mel_spectrograms(log_mel_spectrogram)\n",
    "    #print(\"Shape \",input_details[0])\n",
    "    interpreter.set_tensor(input_details[0]['index'], mfcss)\n",
    "    interpreter.invoke()\n",
    "    output = interpreter.get_tensor(output_details[0]['index'])\n",
    "\n",
    "    print(\"change languagenone\",output[0][0]*100,\"%\")\n",
    "    print(\"activatemusic\",output[0][1]*100,\"%\")\n",
    "    print(\"deactivatelights\",output[0][2]*100,\"%\")\n",
    "    print(\"increasevolume\",output[0][3]*100,\"%\")\n",
    "    print(\"decreasevolume\",output[0][4]*100,\"%\")\n",
    "    print(\"increaseheat\",output[0][5]*100,\"%\")\n",
    "    print(\"decreaseheat\",output[0][6]*100,\"%\")\n",
    "    #print(\"nannan\",output[0][7]*100,\"%\")\n",
    "    \n",
    "    send_prediction_as_mqtt(output[0])"
   ]
  },
  {
   "cell_type": "code",
   "execution_count": null,
   "id": "1fda8bf7",
   "metadata": {},
   "outputs": [],
   "source": [
    "test(16,\"decreaseheat\")"
   ]
  },
  {
   "cell_type": "code",
   "execution_count": null,
   "id": "fa60a52d",
   "metadata": {},
   "outputs": [],
   "source": [
    "direct=\"./AudioFiles/\"\n",
    "filename7 = direct+\"16_decreaseheat.wav\""
   ]
  },
  {
   "cell_type": "code",
   "execution_count": null,
   "id": "114dafc4",
   "metadata": {
    "scrolled": true
   },
   "outputs": [],
   "source": [
    "test2(filename7)"
   ]
  }
 ],
 "metadata": {
  "kernelspec": {
   "display_name": "Kernel IoT",
   "language": "python",
   "name": "mykernel"
  },
  "language_info": {
   "codemirror_mode": {
    "name": "ipython",
    "version": 3
   },
   "file_extension": ".py",
   "mimetype": "text/x-python",
   "name": "python",
   "nbconvert_exporter": "python",
   "pygments_lexer": "ipython3",
   "version": "3.11.3"
  }
 },
 "nbformat": 4,
 "nbformat_minor": 5
}
