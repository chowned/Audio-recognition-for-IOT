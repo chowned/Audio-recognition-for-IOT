{
 "cells": [
  {
   "cell_type": "code",
   "execution_count": 1,
   "id": "5df89252",
   "metadata": {},
   "outputs": [
    {
     "name": "stderr",
     "output_type": "stream",
     "text": [
      "2023-03-13 12:19:22.890723: I tensorflow/core/platform/cpu_feature_guard.cc:193] This TensorFlow binary is optimized with oneAPI Deep Neural Network Library (oneDNN) to use the following CPU instructions in performance-critical operations:  AVX2 FMA\n",
      "To enable them in other operations, rebuild TensorFlow with the appropriate compiler flags.\n",
      "2023-03-13 12:19:22.973894: W tensorflow/stream_executor/platform/default/dso_loader.cc:64] Could not load dynamic library 'libcudart.so.11.0'; dlerror: libcudart.so.11.0: cannot open shared object file: No such file or directory\n",
      "2023-03-13 12:19:22.973907: I tensorflow/stream_executor/cuda/cudart_stub.cc:29] Ignore above cudart dlerror if you do not have a GPU set up on your machine.\n",
      "2023-03-13 12:19:22.995699: E tensorflow/stream_executor/cuda/cuda_blas.cc:2981] Unable to register cuBLAS factory: Attempting to register factory for plugin cuBLAS when one has already been registered\n",
      "2023-03-13 12:19:23.454817: W tensorflow/stream_executor/platform/default/dso_loader.cc:64] Could not load dynamic library 'libnvinfer.so.7'; dlerror: libnvinfer.so.7: cannot open shared object file: No such file or directory\n",
      "2023-03-13 12:19:23.454879: W tensorflow/stream_executor/platform/default/dso_loader.cc:64] Could not load dynamic library 'libnvinfer_plugin.so.7'; dlerror: libnvinfer_plugin.so.7: cannot open shared object file: No such file or directory\n",
      "2023-03-13 12:19:23.454887: W tensorflow/compiler/tf2tensorrt/utils/py_utils.cc:38] TF-TRT Warning: Cannot dlopen some TensorRT libraries. If you would like to use Nvidia GPU with TensorRT, please make sure the missing libraries mentioned above are installed properly.\n"
     ]
    }
   ],
   "source": [
    "import os\n",
    "import sounddevice as sd\n",
    "import numpy as np\n",
    "import time\n",
    "from time import time\n",
    "from time import sleep\n",
    "from scipy.io.wavfile import write\n",
    "import argparse as ap\n",
    "import tensorflow as tf\n",
    "import tensorflow_io as tfio\n",
    "import uuid\n",
    "import redis\n",
    "import psutil\n",
    "# import myConnection as mc\n",
    "from datetime import datetime\n",
    "import argparse as ap\n",
    "import pandas as pd"
   ]
  },
  {
   "cell_type": "code",
   "execution_count": 2,
   "id": "60b549b4",
   "metadata": {},
   "outputs": [],
   "source": [
    "try:\n",
    "    os.chdir('./datasets/dsl_data/')\n",
    "except:\n",
    "    print(\"\")"
   ]
  },
  {
   "cell_type": "code",
   "execution_count": 3,
   "id": "46591eb6",
   "metadata": {},
   "outputs": [],
   "source": [
    "parser = ap.ArgumentParser()\n",
    "\n",
    "parser.add_argument('--resolution', default=8000, type=int, help=\"Resolution for capturing audio\")\n",
    "# blocksize\n",
    "parser.add_argument('--blocksize', default=32000, type=int, help=\"Blocksize for captured audio, change only if you previously changed\")\n",
    "parser.add_argument('--device', default=0, type=int, help=\"Default device is 0, change for others\")\n",
    "#redis args\n",
    "parser.add_argument('--host', default='redis-18608.c250.eu-central-1-1.ec2.cloud.redislabs.com', type=str, help=\"Default host change for others\")\n",
    "parser.add_argument('--port', default=18608, type=int, help=\"Default port change for others\")\n",
    "parser.add_argument('--user', default='default', type=str, help=\"Default user change for others\")\n",
    "parser.add_argument('--password', default='SKVpCpkigmS5xrgsjdhG6TH8N7adlmIB', type=str, help=\"Default password change for others\")\n",
    "parser.add_argument('--flushDB', default=0, type=int, help=\"Set 1 to flush all database. Default is 0\")\n",
    "\n",
    "parser.add_argument('--output_directory', default='./AudioFiles',type=str, help='Used to specify output folder')\n",
    "\n",
    "\n",
    "['--task','tsp','--nodes','10']\n",
    "args = parser.parse_args(['--device','14','--flushDB','1'])\n",
    "#args = parser.parse_args()"
   ]
  },
  {
   "cell_type": "code",
   "execution_count": 4,
   "id": "b5459695",
   "metadata": {},
   "outputs": [],
   "source": [
    "LABELS = ['change languagenone', 'activatemusic', 'deactivatelights', 'increasevolume', 'decreasevolume', 'increaseheat', 'decreaseheat', 'nannan']"
   ]
  },
  {
   "cell_type": "code",
   "execution_count": 5,
   "id": "5c543c6e",
   "metadata": {},
   "outputs": [
    {
     "name": "stdout",
     "output_type": "stream",
     "text": [
      "['change languagenone', 'activatemusic', 'deactivatelights', 'increasevolume', 'decreasevolume', 'increaseheat', 'decreaseheat', 'nannan']\n"
     ]
    }
   ],
   "source": [
    "print(LABELS)"
   ]
  },
  {
   "cell_type": "markdown",
   "id": "cdc5da4b",
   "metadata": {},
   "source": [
    "# Necessary preprocessing args"
   ]
  },
  {
   "cell_type": "code",
   "execution_count": 6,
   "id": "8adbe54b",
   "metadata": {},
   "outputs": [
    {
     "name": "stderr",
     "output_type": "stream",
     "text": [
      "2023-03-13 12:19:24.176064: I tensorflow/stream_executor/cuda/cuda_gpu_executor.cc:980] successful NUMA node read from SysFS had negative value (-1), but there must be at least one NUMA node, so returning NUMA node zero\n",
      "2023-03-13 12:19:24.176294: W tensorflow/stream_executor/platform/default/dso_loader.cc:64] Could not load dynamic library 'libcudart.so.11.0'; dlerror: libcudart.so.11.0: cannot open shared object file: No such file or directory\n",
      "2023-03-13 12:19:24.176352: W tensorflow/stream_executor/platform/default/dso_loader.cc:64] Could not load dynamic library 'libcublas.so.11'; dlerror: libcublas.so.11: cannot open shared object file: No such file or directory\n",
      "2023-03-13 12:19:24.176404: W tensorflow/stream_executor/platform/default/dso_loader.cc:64] Could not load dynamic library 'libcublasLt.so.11'; dlerror: libcublasLt.so.11: cannot open shared object file: No such file or directory\n",
      "2023-03-13 12:19:24.176454: W tensorflow/stream_executor/platform/default/dso_loader.cc:64] Could not load dynamic library 'libcufft.so.10'; dlerror: libcufft.so.10: cannot open shared object file: No such file or directory\n",
      "2023-03-13 12:19:24.176505: W tensorflow/stream_executor/platform/default/dso_loader.cc:64] Could not load dynamic library 'libcurand.so.10'; dlerror: libcurand.so.10: cannot open shared object file: No such file or directory\n",
      "2023-03-13 12:19:24.176555: W tensorflow/stream_executor/platform/default/dso_loader.cc:64] Could not load dynamic library 'libcusolver.so.11'; dlerror: libcusolver.so.11: cannot open shared object file: No such file or directory\n",
      "2023-03-13 12:19:24.176606: W tensorflow/stream_executor/platform/default/dso_loader.cc:64] Could not load dynamic library 'libcusparse.so.11'; dlerror: libcusparse.so.11: cannot open shared object file: No such file or directory\n",
      "2023-03-13 12:19:24.176656: W tensorflow/stream_executor/platform/default/dso_loader.cc:64] Could not load dynamic library 'libcudnn.so.8'; dlerror: libcudnn.so.8: cannot open shared object file: No such file or directory\n",
      "2023-03-13 12:19:24.176664: W tensorflow/core/common_runtime/gpu/gpu_device.cc:1934] Cannot dlopen some GPU libraries. Please make sure the missing libraries mentioned above are installed properly if you would like to use GPU. Follow the guide at https://www.tensorflow.org/install/gpu for how to download and setup the required libraries for your platform.\n",
      "Skipping registering GPU devices...\n",
      "2023-03-13 12:19:24.177817: I tensorflow/core/platform/cpu_feature_guard.cc:193] This TensorFlow binary is optimized with oneAPI Deep Neural Network Library (oneDNN) to use the following CPU instructions in performance-critical operations:  AVX2 FMA\n",
      "To enable them in other operations, rebuild TensorFlow with the appropriate compiler flags.\n"
     ]
    }
   ],
   "source": [
    "frame_length_in_s = 0.04#0.032*2 # /2 for resnet18\n",
    "frame_step_in_s  = frame_length_in_s#frame_length_in_s\n",
    "\n",
    "PREPROCESSING_ARGS = {\n",
    "    'downsampling_rate': args.resolution,\n",
    "    'frame_length_in_s': frame_length_in_s,\n",
    "    'frame_step_in_s': frame_step_in_s,\n",
    "}\n",
    "\n",
    "num_mel_bins = (int) ((args.resolution - args.resolution * PREPROCESSING_ARGS['frame_length_in_s'])/(args.resolution*PREPROCESSING_ARGS['frame_step_in_s']))+1\n",
    "# print(num_mel_bins)\n",
    "\n",
    "PREPROCESSING_ARGS = {\n",
    "    **PREPROCESSING_ARGS,\n",
    "    'num_mel_bins': num_mel_bins,\n",
    "    'lower_frequency': 20,   #40\n",
    "    'upper_frequency': args.resolution/2, #4000\n",
    "}\n",
    "\n",
    "downsampling_rate = PREPROCESSING_ARGS['downsampling_rate']\n",
    "sampling_rate_int64 = tf.cast(downsampling_rate, tf.int64)\n",
    "frame_length = int(downsampling_rate * PREPROCESSING_ARGS['frame_length_in_s'])\n",
    "#print(\"Frame_length: {}\".format(frame_length))\n",
    "frame_step = int(downsampling_rate * PREPROCESSING_ARGS['frame_step_in_s'])\n",
    "#print(\"Frame_length: {}\".format(frame_step))\n",
    "num_spectrogram_bins = frame_length // 2 + 1\n",
    "num_mel_bins = PREPROCESSING_ARGS['num_mel_bins']\n",
    "lower_frequency = PREPROCESSING_ARGS['lower_frequency']\n",
    "upper_frequency = PREPROCESSING_ARGS['upper_frequency']\n",
    "\n",
    "linear_to_mel_weight_matrix = tf.signal.linear_to_mel_weight_matrix(\n",
    "    num_mel_bins=num_mel_bins,\n",
    "    num_spectrogram_bins=num_spectrogram_bins,\n",
    "    sample_rate=downsampling_rate,\n",
    "    lower_edge_hertz=lower_frequency,\n",
    "    upper_edge_hertz=upper_frequency\n",
    ")"
   ]
  },
  {
   "cell_type": "code",
   "execution_count": 7,
   "id": "6351949e",
   "metadata": {},
   "outputs": [
    {
     "name": "stderr",
     "output_type": "stream",
     "text": [
      "INFO: Created TensorFlow Lite XNNPACK delegate for CPU.\n"
     ]
    }
   ],
   "source": [
    "modelName = \"model_23\"\n",
    "\n",
    "interpreter = tf.lite.Interpreter(model_path=f'./tflite_models/{modelName}.tflite')\n",
    "interpreter.allocate_tensors()\n",
    "input_details = interpreter.get_input_details()\n",
    "output_details = interpreter.get_output_details()"
   ]
  },
  {
   "cell_type": "code",
   "execution_count": 8,
   "id": "41a9b9c6",
   "metadata": {},
   "outputs": [],
   "source": [
    "def get_audio_from_numpy(indata):\n",
    "    indata = tf.convert_to_tensor(indata, dtype=tf.float32)\n",
    "    #print(\"Shape of indata: \",tf.reduce_max(indata))\n",
    "    indata = 2 * ((indata + 32768) / (32767 + 32768)) -1\n",
    "    indata = tf.squeeze(indata)\n",
    "    #print(\"After of indata: \",tf.reduce_max(indata))\n",
    "    return indata\n",
    "\n",
    "def get_spectrogram(indata, downsampling_rate, frame_length_in_s, frame_step_in_s):\n",
    "    data = get_audio_from_numpy(indata)\n",
    "    \n",
    "    sampling_rate_float32 = tf.cast(downsampling_rate, tf.float32)\n",
    "    frame_length = int(frame_length_in_s * sampling_rate_float32)\n",
    "    frame_step = int(frame_step_in_s * sampling_rate_float32)\n",
    "\n",
    "    stft = tf.signal.stft(\n",
    "        data,\n",
    "        frame_length=frame_length,\n",
    "        frame_step=frame_step,\n",
    "        fft_length=frame_length\n",
    "    )\n",
    "    spectrogram = tf.abs(stft)\n",
    "\n",
    "    return spectrogram"
   ]
  },
  {
   "cell_type": "code",
   "execution_count": 9,
   "id": "7549592e",
   "metadata": {},
   "outputs": [],
   "source": [
    "state = False"
   ]
  },
  {
   "cell_type": "code",
   "execution_count": 10,
   "id": "efe2bb0e",
   "metadata": {},
   "outputs": [],
   "source": [
    "def send_prediction_as_mqtt(predicted_label):\n",
    "    #print(type(predicted_label))\n",
    "    #print(predicted_label.shape)\n",
    "    #print(predicted_label)\n",
    "    print(\"MAX: \")\n",
    "    print(predicted_label.max())\n",
    "    print(np.where(predicted_label == predicted_label.max()))\n",
    "    print()"
   ]
  },
  {
   "cell_type": "code",
   "execution_count": 11,
   "id": "2fd3fda4",
   "metadata": {},
   "outputs": [],
   "source": [
    "def prediction_on_indata(indata):\n",
    "    frame_length_in_s = 0.04\n",
    "    frame_step_in_s   = frame_length_in_s\n",
    "    global state\n",
    "    audio = get_audio_from_numpy(indata)\n",
    "    \n",
    "    frame_length = int(frame_length_in_s * args.resolution)\n",
    "    frame_step = int(frame_step_in_s * args.resolution)\n",
    "    stft = tf.signal.stft(\n",
    "        audio,\n",
    "        frame_length=frame_length,\n",
    "        frame_step=frame_step,\n",
    "        fft_length=frame_length\n",
    "    )\n",
    "    \n",
    "    spectrogram = tf.abs(stft)\n",
    "    \n",
    "    mel_spectrogram = tf.matmul(spectrogram, linear_to_mel_weight_matrix)\n",
    "    log_mel_spectrogram = tf.math.log(mel_spectrogram + 1.e-6)\n",
    "    log_mel_spectrogram = tf.expand_dims(log_mel_spectrogram, 0)  # batch axis\n",
    "    log_mel_spectrogram = tf.expand_dims(log_mel_spectrogram, -1)  # channel axis\n",
    "    mfcss = tf.signal.mfccs_from_log_mel_spectrograms(log_mel_spectrogram)\n",
    "    #print(\"Shape \",input_details[0])\n",
    "    interpreter.set_tensor(input_details[0]['index'], mfcss)\n",
    "    interpreter.invoke()\n",
    "    output = interpreter.get_tensor(output_details[0]['index'])\n",
    "\n",
    "    threshold = 0.8\n",
    "    print(\"change languagenone\",output[0][0]*100,\"%\")\n",
    "    print(\"activatemusic\",output[0][1]*100,\"%\")\n",
    "    print(\"deactivatelights\",output[0][2]*100,\"%\")\n",
    "    print(\"increasevolume\",output[0][3]*100,\"%\")\n",
    "    print(\"decreasevolume\",output[0][4]*100,\"%\")\n",
    "    print(\"increaseheat\",output[0][5]*100,\"%\")\n",
    "    print(\"decreaseheat\",output[0][6]*100,\"%\")\n",
    "    #print(\"nannan\",output[0][7]*100,\"%\")\n",
    "    \n",
    "    send_prediction_as_mqtt(output[0])\n",
    "    \n",
    "    if (output[0][1] > threshold):\n",
    "        print(\"Start monitoring\")\n",
    "        state = True\n",
    "    if (output[0][5] > threshold):\n",
    "        print(\"Stop monitoring\")\n",
    "        state = False\n",
    "    return state"
   ]
  },
  {
   "cell_type": "code",
   "execution_count": 12,
   "id": "7f469c8a",
   "metadata": {},
   "outputs": [],
   "source": [
    "values = sd.query_devices()\n",
    "device = 0\n",
    "\n",
    "for value in values:\n",
    "    if value['name'] == 'default':\n",
    "        device = value['index']"
   ]
  },
  {
   "cell_type": "markdown",
   "id": "d1c32035",
   "metadata": {},
   "source": [
    "# Redis"
   ]
  },
  {
   "cell_type": "code",
   "execution_count": 13,
   "id": "1b3deb47",
   "metadata": {},
   "outputs": [
    {
     "name": "stdout",
     "output_type": "stream",
     "text": [
      "Redis Connected: True\n"
     ]
    }
   ],
   "source": [
    "# Connect to Redis\n",
    "# redis_host, redis_port, REDIS_USERNAME, REDIS_PASSWORD = mc.getMyConnectionDetails()\n",
    "\n",
    "redis_host     = args.host\n",
    "redis_port     = args.port\n",
    "REDIS_USERNAME = args.user\n",
    "REDIS_PASSWORD = args.password\n",
    "\n",
    "redis_client = redis.Redis(host=redis_host, port=redis_port, username=REDIS_USERNAME, password=REDIS_PASSWORD)\n",
    "is_connected = redis_client.ping()\n",
    "print('Redis Connected:', is_connected)\n",
    "\n",
    "mac_address = hex(uuid.getnode())\n",
    "\n",
    "bucket_1d_in_ms=86400000\n",
    "one_mb_time_in_ms = 655359000\n",
    "five_mb_time_in_ms = 3276799000"
   ]
  },
  {
   "cell_type": "markdown",
   "id": "00f4c3a5",
   "metadata": {},
   "source": [
    "# Redis TS"
   ]
  },
  {
   "cell_type": "code",
   "execution_count": 14,
   "id": "8096826a",
   "metadata": {},
   "outputs": [
    {
     "name": "stdout",
     "output_type": "stream",
     "text": [
      "Flusing DB\n"
     ]
    }
   ],
   "source": [
    "if args.flushDB == 1:\n",
    "    try:\n",
    "        print(\"Flusing DB\")\n",
    "        redis_client.flushall()\n",
    "    except redis.ResponseError:\n",
    "        print(\"Cannot flush\")\n",
    "        pass\n",
    "try:\n",
    "    prefix_TS = \"prediction\"\n",
    "    redis_client.ts().create('{prefix_TS}:CL', chunk_size=128, retention=five_mb_time_in_ms)\n",
    "    redis_client.ts().create('{prefix_TS}:AM', chunk_size=128, retention=five_mb_time_in_ms)\n",
    "    redis_client.ts().create('{prefix_TS}:DL', chunk_size=128, retention=five_mb_time_in_ms)\n",
    "    redis_client.ts().create('{prefix_TS}:IV', chunk_size=128, retention=five_mb_time_in_ms)\n",
    "    redis_client.ts().create('{prefix_TS}:DV', chunk_size=128, retention=five_mb_time_in_ms)\n",
    "    redis_client.ts().create('{prefix_TS}:IH', chunk_size=128, retention=five_mb_time_in_ms)\n",
    "    redis_client.ts().create('{prefix_TS}:DH', chunk_size=128, retention=five_mb_time_in_ms)\n",
    "    redis_client.ts().create('{prefix_TS}:NN', chunk_size=128, retention=five_mb_time_in_ms)\n",
    "except redis.ResponseError:\n",
    "    print(\"Cannot create some TimeSeries as they already exist\")\n",
    "    pass"
   ]
  },
  {
   "cell_type": "code",
   "execution_count": 15,
   "id": "ddeb2816",
   "metadata": {},
   "outputs": [],
   "source": [
    "def callback(indata, frames, callback_time, status):\n",
    "    timestamp = time()\n",
    "    global state\n",
    "    global mac_address\n",
    "    #if is_silence(indata) == 0 :\n",
    "        #calculate next step of FSM!\n",
    "    prediction_on_indata(indata)\n",
    "    print(\"Elapsed time: \",time()-timestamp)"
   ]
  },
  {
   "cell_type": "code",
   "execution_count": 16,
   "id": "91ebee3b",
   "metadata": {},
   "outputs": [
    {
     "name": "stdout",
     "output_type": "stream",
     "text": [
      "['change languagenone', 'activatemusic', 'deactivatelights', 'increasevolume', 'decreasevolume', 'increaseheat', 'decreaseheat', 'nannan']\n"
     ]
    }
   ],
   "source": [
    "print(LABELS)"
   ]
  },
  {
   "cell_type": "code",
   "execution_count": 17,
   "id": "9d42e962",
   "metadata": {},
   "outputs": [
    {
     "name": "stdout",
     "output_type": "stream",
     "text": [
      "\n",
      "change languagenone 99.96378421783447 %\n",
      "activatemusic 7.157687823436052e-25 %\n",
      "deactivatelights 1.801657964417647e-20 %\n",
      "increasevolume 1.5546101696268907e-25 %\n",
      "decreasevolume 4.014272421415388e-10 %\n",
      "increaseheat 2.0336556457559047e-21 %\n",
      "decreaseheat 0.03621423966251314 %\n",
      "<class 'numpy.ndarray'>\n",
      "(7,)\n",
      "[9.9963784e-01 7.1576878e-27 1.8016580e-22 1.5546102e-27 4.0142724e-12\n",
      " 2.0336556e-23 3.6214240e-04]\n",
      "0.99963784\n",
      "(array([0]),)\n",
      "\n",
      "Elapsed time:  0.03651237487792969\n",
      "\n",
      "change languagenone 99.99654293060303 %\n",
      "activatemusic 2.185687434520531e-25 %\n",
      "deactivatelights 1.1373639072315511e-17 %\n",
      "increasevolume 7.1510256465724275e-25 %\n",
      "decreasevolume 1.5977132949984707e-07 %\n",
      "increaseheat 6.177053044892824e-23 %\n",
      "decreaseheat 0.0034609784052008763 %\n",
      "<class 'numpy.ndarray'>\n",
      "(7,)\n",
      "[9.9996543e-01 2.1856874e-27 1.1373639e-19 7.1510256e-27 1.5977133e-09\n",
      " 6.1770530e-25 3.4609784e-05]\n",
      "0.9999654\n",
      "(array([0]),)\n",
      "\n",
      "Elapsed time:  0.011457204818725586\n",
      "\n",
      "change languagenone 97.79790043830872 %\n",
      "activatemusic 1.288862147586917e-22 %\n",
      "deactivatelights 4.4283486324301985e-17 %\n",
      "increasevolume 2.876388759523739e-23 %\n",
      "decreasevolume 8.488544311902047e-08 %\n",
      "increaseheat 6.593907310496344e-20 %\n",
      "decreaseheat 2.2021006792783737 %\n",
      "<class 'numpy.ndarray'>\n",
      "(7,)\n",
      "[9.7797900e-01 1.2888621e-24 4.4283486e-19 2.8763888e-25 8.4885443e-10\n",
      " 6.5939073e-22 2.2021007e-02]\n",
      "0.977979\n",
      "(array([0]),)\n",
      "\n",
      "Elapsed time:  0.012163639068603516\n"
     ]
    },
    {
     "ename": "KeyboardInterrupt",
     "evalue": "",
     "output_type": "error",
     "traceback": [
      "\u001b[0;31m---------------------------------------------------------------------------\u001b[0m",
      "\u001b[0;31mKeyboardInterrupt\u001b[0m                         Traceback (most recent call last)",
      "Cell \u001b[0;32mIn [17], line 9\u001b[0m\n\u001b[1;32m      6\u001b[0m             \u001b[38;5;28mprint\u001b[39m(\u001b[38;5;124m\"\u001b[39m\u001b[38;5;124m\"\u001b[39m) \u001b[38;5;66;03m# to print a new line, improving readability in the terminal\u001b[39;00m\n\u001b[1;32m      8\u001b[0m \u001b[38;5;28;01mif\u001b[39;00m \u001b[38;5;18m__name__\u001b[39m \u001b[38;5;241m==\u001b[39m \u001b[38;5;124m'\u001b[39m\u001b[38;5;124m__main__\u001b[39m\u001b[38;5;124m'\u001b[39m:\n\u001b[0;32m----> 9\u001b[0m     \u001b[43mmain\u001b[49m\u001b[43m(\u001b[49m\u001b[43m)\u001b[49m\n",
      "Cell \u001b[0;32mIn [17], line 5\u001b[0m, in \u001b[0;36mmain\u001b[0;34m()\u001b[0m\n\u001b[1;32m      1\u001b[0m \u001b[38;5;28;01mdef\u001b[39;00m \u001b[38;5;21mmain\u001b[39m():\n\u001b[1;32m      2\u001b[0m \n\u001b[1;32m      3\u001b[0m     \u001b[38;5;66;03m#print(LABELS)\u001b[39;00m\n\u001b[1;32m      4\u001b[0m     \u001b[38;5;28;01mwhile\u001b[39;00m \u001b[38;5;28;01mTrue\u001b[39;00m:\n\u001b[0;32m----> 5\u001b[0m         \u001b[38;5;28;01mwith\u001b[39;00m sd\u001b[38;5;241m.\u001b[39mInputStream(device\u001b[38;5;241m=\u001b[39margs\u001b[38;5;241m.\u001b[39mdevice, channels\u001b[38;5;241m=\u001b[39m\u001b[38;5;241m1\u001b[39m, dtype\u001b[38;5;241m=\u001b[39m\u001b[38;5;124m'\u001b[39m\u001b[38;5;124mint16\u001b[39m\u001b[38;5;124m'\u001b[39m, samplerate\u001b[38;5;241m=\u001b[39margs\u001b[38;5;241m.\u001b[39mresolution, blocksize\u001b[38;5;241m=\u001b[39margs\u001b[38;5;241m.\u001b[39mblocksize, callback\u001b[38;5;241m=\u001b[39mcallback):\n\u001b[1;32m      6\u001b[0m             \u001b[38;5;28mprint\u001b[39m(\u001b[38;5;124m\"\u001b[39m\u001b[38;5;124m\"\u001b[39m)\n",
      "File \u001b[0;32m~/.local/lib/python3.10/site-packages/sounddevice.py:1100\u001b[0m, in \u001b[0;36m_StreamBase.__exit__\u001b[0;34m(self, *args)\u001b[0m\n\u001b[1;32m   1098\u001b[0m \u001b[38;5;28;01mdef\u001b[39;00m \u001b[38;5;21m__exit__\u001b[39m(\u001b[38;5;28mself\u001b[39m, \u001b[38;5;241m*\u001b[39margs):\n\u001b[1;32m   1099\u001b[0m \u001b[38;5;250m    \u001b[39m\u001b[38;5;124;03m\"\"\"Stop and close the stream when exiting a \"with\" statement.\"\"\"\u001b[39;00m\n\u001b[0;32m-> 1100\u001b[0m     \u001b[38;5;28;43mself\u001b[39;49m\u001b[38;5;241;43m.\u001b[39;49m\u001b[43mstop\u001b[49m\u001b[43m(\u001b[49m\u001b[43m)\u001b[49m\n\u001b[1;32m   1101\u001b[0m     \u001b[38;5;28mself\u001b[39m\u001b[38;5;241m.\u001b[39mclose()\n",
      "File \u001b[0;32m~/.local/lib/python3.10/site-packages/sounddevice.py:1126\u001b[0m, in \u001b[0;36m_StreamBase.stop\u001b[0;34m(self, ignore_errors)\u001b[0m\n\u001b[1;32m   1115\u001b[0m \u001b[38;5;28;01mdef\u001b[39;00m \u001b[38;5;21mstop\u001b[39m(\u001b[38;5;28mself\u001b[39m, ignore_errors\u001b[38;5;241m=\u001b[39m\u001b[38;5;28;01mTrue\u001b[39;00m):\n\u001b[1;32m   1116\u001b[0m \u001b[38;5;250m    \u001b[39m\u001b[38;5;124;03m\"\"\"Terminate audio processing.\u001b[39;00m\n\u001b[1;32m   1117\u001b[0m \n\u001b[1;32m   1118\u001b[0m \u001b[38;5;124;03m    This waits until all pending audio buffers have been played\u001b[39;00m\n\u001b[0;32m   (...)\u001b[0m\n\u001b[1;32m   1124\u001b[0m \n\u001b[1;32m   1125\u001b[0m \u001b[38;5;124;03m    \"\"\"\u001b[39;00m\n\u001b[0;32m-> 1126\u001b[0m     err \u001b[38;5;241m=\u001b[39m \u001b[43m_lib\u001b[49m\u001b[38;5;241;43m.\u001b[39;49m\u001b[43mPa_StopStream\u001b[49m\u001b[43m(\u001b[49m\u001b[38;5;28;43mself\u001b[39;49m\u001b[38;5;241;43m.\u001b[39;49m\u001b[43m_ptr\u001b[49m\u001b[43m)\u001b[49m\n\u001b[1;32m   1127\u001b[0m     \u001b[38;5;28;01mif\u001b[39;00m \u001b[38;5;129;01mnot\u001b[39;00m ignore_errors:\n\u001b[1;32m   1128\u001b[0m         _check(err, \u001b[38;5;124m'\u001b[39m\u001b[38;5;124mError stopping stream\u001b[39m\u001b[38;5;124m'\u001b[39m)\n",
      "\u001b[0;31mKeyboardInterrupt\u001b[0m: "
     ]
    }
   ],
   "source": [
    "def main():\n",
    "\n",
    "    #print(LABELS)\n",
    "    while True:\n",
    "        with sd.InputStream(device=args.device, channels=1, dtype='int16', samplerate=args.resolution, blocksize=args.blocksize, callback=callback):\n",
    "            print(\"\") # to print a new line, improving readability in the terminal\n",
    "\n",
    "if __name__ == '__main__':\n",
    "    main()"
   ]
  },
  {
   "cell_type": "markdown",
   "id": "30f82724",
   "metadata": {},
   "source": [
    "# Test"
   ]
  },
  {
   "cell_type": "code",
   "execution_count": null,
   "id": "626b4d14",
   "metadata": {},
   "outputs": [],
   "source": [
    "print(\"Test\")\n",
    "def callback(indata, frames, callback_time, status):\n",
    "    \"\"\"This is called (from a separate thread) for each audio block.\"\"\"\n",
    "    timestamp = time()\n",
    "    # print(is_silence(indata))\n",
    "    # print(type(indata))  # Type is numpy.ndarray\n",
    "    \n",
    "    print(\"Noise!\")\n",
    "    write(f'./{args.output_directory}/{timestamp}.wav', args.resolution, indata)\n",
    "    filesize_in_bytes = os.path.getsize(f'./{args.output_directory}/{timestamp}.wav')\n",
    "    filesize_in_kb = filesize_in_bytes / 1024\n",
    "    print(f'Size: {filesize_in_kb:.2f}KB')\n",
    "\n",
    "\n",
    "def test():\n",
    "    with sd.InputStream(device=args.device, channels=1, dtype='int16', samplerate=args.resolution, blocksize=args.blocksize, callback=callback):\n",
    "        while True:\n",
    "            key = input()\n",
    "            if key in ('q', 'Q'):\n",
    "                print('Stop recording.')\n",
    "                break\n",
    "                \n",
    "test()"
   ]
  }
 ],
 "metadata": {
  "kernelspec": {
   "display_name": "Python 3 (ipykernel)",
   "language": "python",
   "name": "python3"
  },
  "language_info": {
   "codemirror_mode": {
    "name": "ipython",
    "version": 3
   },
   "file_extension": ".py",
   "mimetype": "text/x-python",
   "name": "python",
   "nbconvert_exporter": "python",
   "pygments_lexer": "ipython3",
   "version": "3.10.9"
  }
 },
 "nbformat": 4,
 "nbformat_minor": 5
}
