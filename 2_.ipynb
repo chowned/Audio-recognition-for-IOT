{
 "cells": [
  {
   "cell_type": "code",
   "execution_count": 3,
   "id": "5df89252",
   "metadata": {},
   "outputs": [],
   "source": [
    "import os\n",
    "import sounddevice as sd\n",
    "import numpy as np\n",
    "import time\n",
    "from time import time\n",
    "from time import sleep\n",
    "from scipy.io.wavfile import write\n",
    "import argparse as ap\n",
    "import tensorflow as tf\n",
    "import tensorflow_io as tfio\n",
    "import uuid\n",
    "import redis\n",
    "import psutil\n",
    "# import myConnection as mc\n",
    "from datetime import datetime\n",
    "import argparse as ap\n",
    "import pandas as pd\n",
    "import random"
   ]
  },
  {
   "cell_type": "code",
   "execution_count": 4,
   "id": "60b549b4",
   "metadata": {},
   "outputs": [
    {
     "name": "stdout",
     "output_type": "stream",
     "text": [
      "\n"
     ]
    }
   ],
   "source": [
    "try:\n",
    "    os.chdir('./datasets/dsl_data/')\n",
    "except:\n",
    "    print(\"\")\n",
    "\n",
    "seed = 42\n",
    "os.environ['PYTHONHASHSEED'] = str(seed)\n",
    "os.environ['TF_DETERMINISTIC_OPS'] = '1'\n",
    "random.seed(seed)\n",
    "tf.random.set_seed(seed)\n",
    "np.random.seed(seed)"
   ]
  },
  {
   "cell_type": "code",
   "execution_count": 5,
   "id": "46591eb6",
   "metadata": {},
   "outputs": [],
   "source": [
    "parser = ap.ArgumentParser()\n",
    "\n",
    "parser.add_argument('--resolution', default=8000, type=int, help=\"Resolution for capturing audio\")\n",
    "# blocksize\n",
    "#parser.add_argument('--blocksize', default=32000, type=int, help=\"Blocksize for captured audio, change only if you previously changed\")\n",
    "parser.add_argument('--downsampling_rate', default=8000, type=int, help=\"Resolution for capturing audio\")\n",
    "parser.add_argument('--device', default=0, type=int, help=\"Default device is 0, change for others\")\n",
    "\n",
    "\n",
    "parser.add_argument('--output_directory', default='./AudioFiles',type=str, help='Used to specify output folder')\n",
    "\n",
    "\n",
    "args = parser.parse_args(['--device','14','--resolution','16000' ])\n",
    "#args = parser.parse_args()"
   ]
  },
  {
   "cell_type": "code",
   "execution_count": 6,
   "id": "b5459695",
   "metadata": {},
   "outputs": [],
   "source": [
    "blocksize = 4 * args.resolution\n",
    "LABELS = ['change languagenone', 'activatemusic', 'deactivatelights', 'increasevolume', 'decreasevolume', 'increaseheat', 'decreaseheat', 'nannan']"
   ]
  },
  {
   "cell_type": "code",
   "execution_count": 7,
   "id": "5c543c6e",
   "metadata": {},
   "outputs": [
    {
     "name": "stdout",
     "output_type": "stream",
     "text": [
      "['change languagenone', 'activatemusic', 'deactivatelights', 'increasevolume', 'decreasevolume', 'increaseheat', 'decreaseheat', 'nannan']\n"
     ]
    }
   ],
   "source": [
    "print(LABELS)"
   ]
  },
  {
   "cell_type": "markdown",
   "id": "8f95bfe3",
   "metadata": {},
   "source": [
    "# Necessary preprocessing args"
   ]
  },
  {
   "cell_type": "code",
   "execution_count": 8,
   "id": "d136a1bd",
   "metadata": {},
   "outputs": [
    {
     "name": "stderr",
     "output_type": "stream",
     "text": [
      "2023-03-13 14:24:09.248637: I tensorflow/stream_executor/cuda/cuda_gpu_executor.cc:980] successful NUMA node read from SysFS had negative value (-1), but there must be at least one NUMA node, so returning NUMA node zero\n",
      "2023-03-13 14:24:09.248843: W tensorflow/stream_executor/platform/default/dso_loader.cc:64] Could not load dynamic library 'libcudart.so.11.0'; dlerror: libcudart.so.11.0: cannot open shared object file: No such file or directory\n",
      "2023-03-13 14:24:09.248894: W tensorflow/stream_executor/platform/default/dso_loader.cc:64] Could not load dynamic library 'libcublas.so.11'; dlerror: libcublas.so.11: cannot open shared object file: No such file or directory\n",
      "2023-03-13 14:24:09.248943: W tensorflow/stream_executor/platform/default/dso_loader.cc:64] Could not load dynamic library 'libcublasLt.so.11'; dlerror: libcublasLt.so.11: cannot open shared object file: No such file or directory\n",
      "2023-03-13 14:24:09.248990: W tensorflow/stream_executor/platform/default/dso_loader.cc:64] Could not load dynamic library 'libcufft.so.10'; dlerror: libcufft.so.10: cannot open shared object file: No such file or directory\n",
      "2023-03-13 14:24:09.249036: W tensorflow/stream_executor/platform/default/dso_loader.cc:64] Could not load dynamic library 'libcurand.so.10'; dlerror: libcurand.so.10: cannot open shared object file: No such file or directory\n",
      "2023-03-13 14:24:09.249083: W tensorflow/stream_executor/platform/default/dso_loader.cc:64] Could not load dynamic library 'libcusolver.so.11'; dlerror: libcusolver.so.11: cannot open shared object file: No such file or directory\n",
      "2023-03-13 14:24:09.249130: W tensorflow/stream_executor/platform/default/dso_loader.cc:64] Could not load dynamic library 'libcusparse.so.11'; dlerror: libcusparse.so.11: cannot open shared object file: No such file or directory\n",
      "2023-03-13 14:24:09.249177: W tensorflow/stream_executor/platform/default/dso_loader.cc:64] Could not load dynamic library 'libcudnn.so.8'; dlerror: libcudnn.so.8: cannot open shared object file: No such file or directory\n",
      "2023-03-13 14:24:09.249186: W tensorflow/core/common_runtime/gpu/gpu_device.cc:1934] Cannot dlopen some GPU libraries. Please make sure the missing libraries mentioned above are installed properly if you would like to use GPU. Follow the guide at https://www.tensorflow.org/install/gpu for how to download and setup the required libraries for your platform.\n",
      "Skipping registering GPU devices...\n",
      "2023-03-13 14:24:09.249508: I tensorflow/core/platform/cpu_feature_guard.cc:193] This TensorFlow binary is optimized with oneAPI Deep Neural Network Library (oneDNN) to use the following CPU instructions in performance-critical operations:  AVX2 FMA\n",
      "To enable them in other operations, rebuild TensorFlow with the appropriate compiler flags.\n"
     ]
    }
   ],
   "source": [
    "frame_length_in_s = 0.04#0.032*2 # /2 for resnet18\n",
    "frame_step_in_s  = frame_length_in_s#frame_length_in_s\n",
    "\n",
    "PREPROCESSING_ARGS = {\n",
    "    'downsampling_rate': args.resolution,\n",
    "    'frame_length_in_s': frame_length_in_s,\n",
    "    'frame_step_in_s': frame_step_in_s,\n",
    "}\n",
    "\n",
    "num_mel_bins = (int) ((args.resolution - args.resolution * PREPROCESSING_ARGS['frame_length_in_s'])/(args.resolution*PREPROCESSING_ARGS['frame_step_in_s']))+1\n",
    "# print(num_mel_bins)\n",
    "\n",
    "PREPROCESSING_ARGS = {\n",
    "    **PREPROCESSING_ARGS,\n",
    "    'num_mel_bins': num_mel_bins,\n",
    "    'lower_frequency': 20,   #40\n",
    "    'upper_frequency': args.resolution/2, #4000\n",
    "}\n",
    "\n",
    "downsampling_rate = PREPROCESSING_ARGS['downsampling_rate']\n",
    "sampling_rate_int64 = tf.cast(downsampling_rate, tf.int64)\n",
    "frame_length = int(downsampling_rate * PREPROCESSING_ARGS['frame_length_in_s'])\n",
    "#print(\"Frame_length: {}\".format(frame_length))\n",
    "frame_step = int(downsampling_rate * PREPROCESSING_ARGS['frame_step_in_s'])\n",
    "#print(\"Frame_length: {}\".format(frame_step))\n",
    "num_spectrogram_bins = frame_length // 2 + 1\n",
    "num_mel_bins = PREPROCESSING_ARGS['num_mel_bins']\n",
    "lower_frequency = PREPROCESSING_ARGS['lower_frequency']\n",
    "upper_frequency = PREPROCESSING_ARGS['upper_frequency']\n",
    "\n",
    "linear_to_mel_weight_matrix = tf.signal.linear_to_mel_weight_matrix(\n",
    "    num_mel_bins=num_mel_bins,\n",
    "    num_spectrogram_bins=num_spectrogram_bins,\n",
    "    sample_rate=downsampling_rate,\n",
    "    lower_edge_hertz=lower_frequency,\n",
    "    upper_edge_hertz=upper_frequency\n",
    ")"
   ]
  },
  {
   "cell_type": "code",
   "execution_count": 9,
   "id": "6351949e",
   "metadata": {},
   "outputs": [
    {
     "name": "stderr",
     "output_type": "stream",
     "text": [
      "INFO: Created TensorFlow Lite XNNPACK delegate for CPU.\n"
     ]
    }
   ],
   "source": [
    "modelName = \"model_24\"\n",
    "\n",
    "interpreter = tf.lite.Interpreter(model_path=f'./tflite_models/{modelName}.tflite')\n",
    "interpreter.allocate_tensors()\n",
    "input_details = interpreter.get_input_details()\n",
    "output_details = interpreter.get_output_details()"
   ]
  },
  {
   "cell_type": "code",
   "execution_count": 10,
   "id": "41a9b9c6",
   "metadata": {},
   "outputs": [],
   "source": [
    "def get_audio_from_numpy(indata):\n",
    "    indata = tf.convert_to_tensor(indata, dtype=tf.float32)\n",
    "    #print(\"Shape of indata: \",tf.reduce_max(indata))\n",
    "    indata = 2 * ((indata + 32768) / (32767 + 32768)) -1\n",
    "    indata = tf.squeeze(indata)\n",
    "    #print(\"After of indata: \",tf.reduce_max(indata))\n",
    "    return indata\n",
    "\n",
    "def get_spectrogram(indata, frame_length_in_s, frame_step_in_s):\n",
    "    data = get_audio_from_numpy(indata)\n",
    "    \n",
    "    sampling_rate_float32 = tf.cast(args.downsampling_rate, tf.float32)\n",
    "    frame_length = int(frame_length_in_s * sampling_rate_float32)\n",
    "    frame_step = int(frame_step_in_s * sampling_rate_float32)\n",
    "\n",
    "    stft = tf.signal.stft(\n",
    "        data,\n",
    "        frame_length=frame_length,\n",
    "        frame_step=frame_step,\n",
    "        fft_length=frame_length\n",
    "    )\n",
    "    spectrogram = tf.abs(stft)\n",
    "\n",
    "    return spectrogram"
   ]
  },
  {
   "cell_type": "code",
   "execution_count": 11,
   "id": "7549592e",
   "metadata": {},
   "outputs": [],
   "source": [
    "state = False"
   ]
  },
  {
   "cell_type": "code",
   "execution_count": 12,
   "id": "9c114621",
   "metadata": {},
   "outputs": [],
   "source": [
    "def send_prediction_as_mqtt(predicted_label):\n",
    "    #print(type(predicted_label))\n",
    "    #print(predicted_label.shape)\n",
    "    #print(predicted_label)\n",
    "    print(\"MAX: \")\n",
    "    print(predicted_label.max())\n",
    "    index = ( np.where(predicted_label == predicted_label.max() )  )\n",
    "    index = index[0][0]\n",
    "    print(index)\n",
    "    print(LABELS[index])\n",
    "    print()"
   ]
  },
  {
   "cell_type": "markdown",
   "id": "76ffc4cd",
   "metadata": {},
   "source": [
    "print(LABELS[index])"
   ]
  },
  {
   "cell_type": "code",
   "execution_count": 13,
   "id": "2fd3fda4",
   "metadata": {},
   "outputs": [],
   "source": [
    "def prediction_on_indata(indata):\n",
    "    frame_length_in_s = 0.04\n",
    "    frame_step_in_s   = frame_length_in_s\n",
    "    global state\n",
    "    audio = get_audio_from_numpy(indata)\n",
    "    \n",
    "    frame_length = int(frame_length_in_s * args.resolution)\n",
    "    frame_step = int(frame_step_in_s * args.resolution)\n",
    "    stft = tf.signal.stft(\n",
    "        audio,\n",
    "        frame_length=frame_length,\n",
    "        frame_step=frame_step,\n",
    "        fft_length=frame_length\n",
    "    )\n",
    "    \n",
    "    spectrogram = tf.abs(stft)\n",
    "    \n",
    "    mel_spectrogram = tf.matmul(spectrogram, linear_to_mel_weight_matrix)\n",
    "    log_mel_spectrogram = tf.math.log(mel_spectrogram + 1.e-6)\n",
    "    log_mel_spectrogram = tf.expand_dims(log_mel_spectrogram, 0)  # batch axis\n",
    "    log_mel_spectrogram = tf.expand_dims(log_mel_spectrogram, -1)  # channel axis\n",
    "    mfcss = tf.signal.mfccs_from_log_mel_spectrograms(log_mel_spectrogram)\n",
    "    #print(\"Shape \",input_details[0])\n",
    "    interpreter.set_tensor(input_details[0]['index'], mfcss)\n",
    "    interpreter.invoke()\n",
    "    output = interpreter.get_tensor(output_details[0]['index'])\n",
    "\n",
    "    threshold = 0.8\n",
    "    print(\"change languagenone\",output[0][0]*100,\"%\")\n",
    "    print(\"activatemusic\",output[0][1]*100,\"%\")\n",
    "    print(\"deactivatelights\",output[0][2]*100,\"%\")\n",
    "    print(\"increasevolume\",output[0][3]*100,\"%\")\n",
    "    print(\"decreasevolume\",output[0][4]*100,\"%\")\n",
    "    print(\"increaseheat\",output[0][5]*100,\"%\")\n",
    "    print(\"decreaseheat\",output[0][6]*100,\"%\")\n",
    "    #print(\"nannan\",output[0][7]*100,\"%\")\n",
    "    \n",
    "    send_prediction_as_mqtt(output[0])\n",
    "    \n",
    "    if (output[0][1] > threshold):\n",
    "        print(\"Start monitoring\")\n",
    "        state = True\n",
    "    if (output[0][5] > threshold):\n",
    "        print(\"Stop monitoring\")\n",
    "        state = False\n",
    "    return state"
   ]
  },
  {
   "cell_type": "code",
   "execution_count": 14,
   "id": "7f469c8a",
   "metadata": {},
   "outputs": [],
   "source": [
    "values = sd.query_devices()\n",
    "device = 0\n",
    "\n",
    "for value in values:\n",
    "    if value['name'] == 'default':\n",
    "        device = value['index']"
   ]
  },
  {
   "cell_type": "code",
   "execution_count": 15,
   "id": "ddeb2816",
   "metadata": {},
   "outputs": [],
   "source": [
    "def callback(indata, frames, callback_time, status):\n",
    "    timestamp = time()\n",
    "    global state\n",
    "    global mac_address\n",
    "    #if is_silence(indata) == 0 :\n",
    "        #calculate next step of FSM!\n",
    "    prediction_on_indata(indata)\n",
    "    print(\"Elapsed time: \",time()-timestamp)"
   ]
  },
  {
   "cell_type": "code",
   "execution_count": 16,
   "id": "91ebee3b",
   "metadata": {},
   "outputs": [
    {
     "name": "stdout",
     "output_type": "stream",
     "text": [
      "['change languagenone', 'activatemusic', 'deactivatelights', 'increasevolume', 'decreasevolume', 'increaseheat', 'decreaseheat', 'nannan']\n"
     ]
    }
   ],
   "source": [
    "print(LABELS)"
   ]
  },
  {
   "cell_type": "code",
   "execution_count": 17,
   "id": "1d502267",
   "metadata": {},
   "outputs": [
    {
     "name": "stdout",
     "output_type": "stream",
     "text": [
      "\n",
      "change languagenone 10.611309856176376 %\n",
      "activatemusic 29.77244257926941 %\n",
      "deactivatelights 19.482383131980896 %\n",
      "increasevolume 10.55290400981903 %\n",
      "decreasevolume 15.701436996459961 %\n",
      "increaseheat 8.356352895498276 %\n",
      "decreaseheat 5.523171275854111 %\n",
      "MAX: \n",
      "0.29772443\n",
      "1\n",
      "activatemusic\n",
      "\n",
      "Elapsed time:  0.1684856414794922\n",
      "\n",
      "change languagenone 12.623538076877594 %\n",
      "activatemusic 27.134987711906433 %\n",
      "deactivatelights 19.95556354522705 %\n",
      "increasevolume 10.034121572971344 %\n",
      "decreasevolume 16.14125370979309 %\n",
      "increaseheat 8.09742957353592 %\n",
      "decreaseheat 6.013109907507896 %\n",
      "MAX: \n",
      "0.27134988\n",
      "1\n",
      "activatemusic\n",
      "\n",
      "Elapsed time:  0.11675405502319336\n",
      "\n",
      "change languagenone 7.996156066656113 %\n",
      "activatemusic 35.82159876823425 %\n",
      "deactivatelights 20.026396214962006 %\n",
      "increasevolume 12.150074541568756 %\n",
      "decreasevolume 9.088749438524246 %\n",
      "increaseheat 10.973664373159409 %\n",
      "decreaseheat 3.9433643221855164 %\n",
      "MAX: \n",
      "0.358216\n",
      "1\n",
      "activatemusic\n",
      "\n",
      "Elapsed time:  0.11530256271362305\n",
      "\n",
      "change languagenone 7.909988611936569 %\n",
      "activatemusic 27.364936470985413 %\n",
      "deactivatelights 20.518934726715088 %\n",
      "increasevolume 14.122097194194794 %\n",
      "decreasevolume 12.864500284194946 %\n",
      "increaseheat 12.154295295476913 %\n",
      "decreaseheat 5.065245181322098 %\n",
      "MAX: \n",
      "0.27364936\n",
      "1\n",
      "activatemusic\n",
      "\n",
      "Elapsed time:  0.11781740188598633\n",
      "\n",
      "change languagenone 11.3789401948452 %\n",
      "activatemusic 27.968630194664 %\n",
      "deactivatelights 19.523045420646667 %\n",
      "increasevolume 10.473351180553436 %\n",
      "decreasevolume 16.583210229873657 %\n",
      "increaseheat 8.319530636072159 %\n",
      "decreaseheat 5.753282457590103 %\n",
      "MAX: \n",
      "0.2796863\n",
      "1\n",
      "activatemusic\n",
      "\n",
      "Elapsed time:  0.11418557167053223\n",
      "\n",
      "change languagenone 7.162696123123169 %\n",
      "activatemusic 31.412601470947266 %\n",
      "deactivatelights 19.353027641773224 %\n",
      "increasevolume 12.786291539669037 %\n",
      "decreasevolume 13.104593753814697 %\n",
      "increaseheat 11.60668432712555 %\n",
      "decreaseheat 4.574108868837357 %\n",
      "MAX: \n",
      "0.314126\n",
      "1\n",
      "activatemusic\n",
      "\n",
      "Elapsed time:  0.1277477741241455\n",
      "\n",
      "change languagenone 12.209171056747437 %\n",
      "activatemusic 27.44915783405304 %\n",
      "deactivatelights 19.782428443431854 %\n",
      "increasevolume 10.122581571340561 %\n",
      "decreasevolume 16.399961709976196 %\n",
      "increaseheat 8.177375793457031 %\n",
      "decreaseheat 5.859316512942314 %\n",
      "MAX: \n",
      "0.27449158\n",
      "1\n",
      "activatemusic\n",
      "\n",
      "Elapsed time:  0.11805391311645508\n",
      "\n",
      "change languagenone 6.238823756575584 %\n",
      "activatemusic 32.57374465465546 %\n",
      "deactivatelights 18.52850764989853 %\n",
      "increasevolume 12.655453383922577 %\n",
      "decreasevolume 14.278544485569 %\n",
      "increaseheat 11.438973248004913 %\n",
      "decreaseheat 4.28595058619976 %\n",
      "MAX: \n",
      "0.32573745\n",
      "1\n",
      "activatemusic\n",
      "\n",
      "Elapsed time:  0.11744356155395508\n",
      "\n",
      "change languagenone 10.168912261724472 %\n",
      "activatemusic 28.506770730018616 %\n",
      "deactivatelights 19.21093910932541 %\n",
      "increasevolume 10.980299860239029 %\n",
      "decreasevolume 16.723597049713135 %\n",
      "increaseheat 9.005258232355118 %\n",
      "decreaseheat 5.404217913746834 %\n",
      "MAX: \n",
      "0.2850677\n",
      "1\n",
      "activatemusic\n",
      "\n",
      "Elapsed time:  0.14975357055664062\n"
     ]
    },
    {
     "ename": "KeyboardInterrupt",
     "evalue": "",
     "output_type": "error",
     "traceback": [
      "\u001b[0;31m---------------------------------------------------------------------------\u001b[0m",
      "\u001b[0;31mKeyboardInterrupt\u001b[0m                         Traceback (most recent call last)",
      "Cell \u001b[0;32mIn [17], line 9\u001b[0m\n\u001b[1;32m      6\u001b[0m             \u001b[38;5;28mprint\u001b[39m(\u001b[38;5;124m\"\u001b[39m\u001b[38;5;124m\"\u001b[39m) \u001b[38;5;66;03m# to print a new line, improving readability in the terminal\u001b[39;00m\n\u001b[1;32m      8\u001b[0m \u001b[38;5;28;01mif\u001b[39;00m \u001b[38;5;18m__name__\u001b[39m \u001b[38;5;241m==\u001b[39m \u001b[38;5;124m'\u001b[39m\u001b[38;5;124m__main__\u001b[39m\u001b[38;5;124m'\u001b[39m:\n\u001b[0;32m----> 9\u001b[0m     \u001b[43mmain\u001b[49m\u001b[43m(\u001b[49m\u001b[43m)\u001b[49m\n",
      "Cell \u001b[0;32mIn [17], line 5\u001b[0m, in \u001b[0;36mmain\u001b[0;34m()\u001b[0m\n\u001b[1;32m      1\u001b[0m \u001b[38;5;28;01mdef\u001b[39;00m \u001b[38;5;21mmain\u001b[39m():\n\u001b[1;32m      2\u001b[0m \n\u001b[1;32m      3\u001b[0m     \u001b[38;5;66;03m#print(LABELS)\u001b[39;00m\n\u001b[1;32m      4\u001b[0m     \u001b[38;5;28;01mwhile\u001b[39;00m \u001b[38;5;28;01mTrue\u001b[39;00m:\n\u001b[0;32m----> 5\u001b[0m         \u001b[38;5;28;01mwith\u001b[39;00m sd\u001b[38;5;241m.\u001b[39mInputStream(device\u001b[38;5;241m=\u001b[39margs\u001b[38;5;241m.\u001b[39mdevice, channels\u001b[38;5;241m=\u001b[39m\u001b[38;5;241m1\u001b[39m, dtype\u001b[38;5;241m=\u001b[39m\u001b[38;5;124m'\u001b[39m\u001b[38;5;124mint16\u001b[39m\u001b[38;5;124m'\u001b[39m, samplerate\u001b[38;5;241m=\u001b[39margs\u001b[38;5;241m.\u001b[39mresolution, blocksize\u001b[38;5;241m=\u001b[39mblocksize, callback\u001b[38;5;241m=\u001b[39mcallback):\n\u001b[1;32m      6\u001b[0m             \u001b[38;5;28mprint\u001b[39m(\u001b[38;5;124m\"\u001b[39m\u001b[38;5;124m\"\u001b[39m)\n",
      "File \u001b[0;32m~/.local/lib/python3.10/site-packages/sounddevice.py:1100\u001b[0m, in \u001b[0;36m_StreamBase.__exit__\u001b[0;34m(self, *args)\u001b[0m\n\u001b[1;32m   1098\u001b[0m \u001b[38;5;28;01mdef\u001b[39;00m \u001b[38;5;21m__exit__\u001b[39m(\u001b[38;5;28mself\u001b[39m, \u001b[38;5;241m*\u001b[39margs):\n\u001b[1;32m   1099\u001b[0m \u001b[38;5;250m    \u001b[39m\u001b[38;5;124;03m\"\"\"Stop and close the stream when exiting a \"with\" statement.\"\"\"\u001b[39;00m\n\u001b[0;32m-> 1100\u001b[0m     \u001b[38;5;28;43mself\u001b[39;49m\u001b[38;5;241;43m.\u001b[39;49m\u001b[43mstop\u001b[49m\u001b[43m(\u001b[49m\u001b[43m)\u001b[49m\n\u001b[1;32m   1101\u001b[0m     \u001b[38;5;28mself\u001b[39m\u001b[38;5;241m.\u001b[39mclose()\n",
      "File \u001b[0;32m~/.local/lib/python3.10/site-packages/sounddevice.py:1126\u001b[0m, in \u001b[0;36m_StreamBase.stop\u001b[0;34m(self, ignore_errors)\u001b[0m\n\u001b[1;32m   1115\u001b[0m \u001b[38;5;28;01mdef\u001b[39;00m \u001b[38;5;21mstop\u001b[39m(\u001b[38;5;28mself\u001b[39m, ignore_errors\u001b[38;5;241m=\u001b[39m\u001b[38;5;28;01mTrue\u001b[39;00m):\n\u001b[1;32m   1116\u001b[0m \u001b[38;5;250m    \u001b[39m\u001b[38;5;124;03m\"\"\"Terminate audio processing.\u001b[39;00m\n\u001b[1;32m   1117\u001b[0m \n\u001b[1;32m   1118\u001b[0m \u001b[38;5;124;03m    This waits until all pending audio buffers have been played\u001b[39;00m\n\u001b[0;32m   (...)\u001b[0m\n\u001b[1;32m   1124\u001b[0m \n\u001b[1;32m   1125\u001b[0m \u001b[38;5;124;03m    \"\"\"\u001b[39;00m\n\u001b[0;32m-> 1126\u001b[0m     err \u001b[38;5;241m=\u001b[39m \u001b[43m_lib\u001b[49m\u001b[38;5;241;43m.\u001b[39;49m\u001b[43mPa_StopStream\u001b[49m\u001b[43m(\u001b[49m\u001b[38;5;28;43mself\u001b[39;49m\u001b[38;5;241;43m.\u001b[39;49m\u001b[43m_ptr\u001b[49m\u001b[43m)\u001b[49m\n\u001b[1;32m   1127\u001b[0m     \u001b[38;5;28;01mif\u001b[39;00m \u001b[38;5;129;01mnot\u001b[39;00m ignore_errors:\n\u001b[1;32m   1128\u001b[0m         _check(err, \u001b[38;5;124m'\u001b[39m\u001b[38;5;124mError stopping stream\u001b[39m\u001b[38;5;124m'\u001b[39m)\n",
      "\u001b[0;31mKeyboardInterrupt\u001b[0m: "
     ]
    }
   ],
   "source": [
    "def main():\n",
    "\n",
    "    #print(LABELS)\n",
    "    while True:\n",
    "        with sd.InputStream(device=args.device, channels=1, dtype='int16', samplerate=args.resolution, blocksize=blocksize, callback=callback):\n",
    "            print(\"\") # to print a new line, improving readability in the terminal\n",
    "\n",
    "if __name__ == '__main__':\n",
    "    main()"
   ]
  },
  {
   "cell_type": "markdown",
   "id": "c0e283f1",
   "metadata": {},
   "source": [
    "# Test"
   ]
  },
  {
   "cell_type": "code",
   "execution_count": null,
   "id": "05ba4269",
   "metadata": {},
   "outputs": [],
   "source": [
    "print(\"Test\")\n",
    "def callback(indata, frames, callback_time, status):\n",
    "    \"\"\"This is called (from a separate thread) for each audio block.\"\"\"\n",
    "    timestamp = time()\n",
    "    # print(is_silence(indata))\n",
    "    # print(type(indata))  # Type is numpy.ndarray\n",
    "    \n",
    "    print(\"Noise!\")\n",
    "    write(f'./{args.output_directory}/{timestamp}.wav', args.resolution, indata)\n",
    "    filesize_in_bytes = os.path.getsize(f'./{args.output_directory}/{timestamp}.wav')\n",
    "    filesize_in_kb = filesize_in_bytes / 1024\n",
    "    print(f'Size: {filesize_in_kb:.2f}KB')\n",
    "\n",
    "# 10 fron on screen microphone\n",
    "# 14 from microphone nada?\n",
    "\n",
    "def test():\n",
    "    with sd.InputStream(device=args.device, channels=1, dtype='int16', samplerate=args.resolution, blocksize=blocksize, callback=callback):\n",
    "        while True:\n",
    "            key = input()\n",
    "            if key in ('q', 'Q'):\n",
    "                print('Stop recording.')\n",
    "                break\n",
    "                \n",
    "test()"
   ]
  },
  {
   "cell_type": "code",
   "execution_count": null,
   "id": "42fd8ace",
   "metadata": {},
   "outputs": [],
   "source": []
  }
 ],
 "metadata": {
  "kernelspec": {
   "display_name": "Python 3 (ipykernel)",
   "language": "python",
   "name": "python3"
  },
  "language_info": {
   "codemirror_mode": {
    "name": "ipython",
    "version": 3
   },
   "file_extension": ".py",
   "mimetype": "text/x-python",
   "name": "python",
   "nbconvert_exporter": "python",
   "pygments_lexer": "ipython3",
   "version": "3.10.9"
  }
 },
 "nbformat": 4,
 "nbformat_minor": 5
}
