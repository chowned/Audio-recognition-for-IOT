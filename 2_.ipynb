{
 "cells": [
  {
   "cell_type": "code",
   "execution_count": 1,
   "id": "5df89252",
   "metadata": {},
   "outputs": [
    {
     "name": "stderr",
     "output_type": "stream",
     "text": [
      "2023-03-26 21:25:16.795680: I tensorflow/core/platform/cpu_feature_guard.cc:193] This TensorFlow binary is optimized with oneAPI Deep Neural Network Library (oneDNN) to use the following CPU instructions in performance-critical operations:  AVX2 AVX512F AVX512_VNNI FMA\n",
      "To enable them in other operations, rebuild TensorFlow with the appropriate compiler flags.\n",
      "2023-03-26 21:25:16.870521: I tensorflow/core/util/util.cc:169] oneDNN custom operations are on. You may see slightly different numerical results due to floating-point round-off errors from different computation orders. To turn them off, set the environment variable `TF_ENABLE_ONEDNN_OPTS=0`.\n",
      "2023-03-26 21:25:16.891778: E tensorflow/stream_executor/cuda/cuda_blas.cc:2981] Unable to register cuBLAS factory: Attempting to register factory for plugin cuBLAS when one has already been registered\n",
      "2023-03-26 21:25:17.303307: W tensorflow/stream_executor/platform/default/dso_loader.cc:64] Could not load dynamic library 'libnvinfer.so.7'; dlerror: libnvinfer.so.7: cannot open shared object file: No such file or directory\n",
      "2023-03-26 21:25:17.303342: W tensorflow/stream_executor/platform/default/dso_loader.cc:64] Could not load dynamic library 'libnvinfer_plugin.so.7'; dlerror: libnvinfer_plugin.so.7: cannot open shared object file: No such file or directory\n",
      "2023-03-26 21:25:17.303346: W tensorflow/compiler/tf2tensorrt/utils/py_utils.cc:38] TF-TRT Warning: Cannot dlopen some TensorRT libraries. If you would like to use Nvidia GPU with TensorRT, please make sure the missing libraries mentioned above are installed properly.\n"
     ]
    }
   ],
   "source": [
    "import os\n",
    "import sounddevice as sd\n",
    "import numpy as np\n",
    "import time\n",
    "from time import time\n",
    "from time import sleep\n",
    "from scipy.io.wavfile import write\n",
    "import argparse as ap\n",
    "import tensorflow as tf\n",
    "import tensorflow_io as tfio\n",
    "import uuid\n",
    "import redis\n",
    "import psutil\n",
    "# import myConnection as mc\n",
    "from datetime import datetime\n",
    "import argparse as ap\n",
    "import pandas as pd\n",
    "import random"
   ]
  },
  {
   "cell_type": "code",
   "execution_count": 2,
   "id": "0d918d3f",
   "metadata": {},
   "outputs": [
    {
     "name": "stderr",
     "output_type": "stream",
     "text": [
      "/home/gulistan/.local/lib/python3.10/site-packages/tqdm/auto.py:21: TqdmWarning: IProgress not found. Please update jupyter and ipywidgets. See https://ipywidgets.readthedocs.io/en/stable/user_install.html\n",
      "  from .autonotebook import tqdm as notebook_tqdm\n"
     ]
    }
   ],
   "source": [
    "import noisereduce as nr\n",
    "from scipy.io.wavfile import write\n",
    "from scipy.io import wavfile"
   ]
  },
  {
   "cell_type": "code",
   "execution_count": 3,
   "id": "60b549b4",
   "metadata": {},
   "outputs": [],
   "source": [
    "try:\n",
    "    os.chdir('./datasets/dsl_data/')\n",
    "except:\n",
    "    print(\"\")\n",
    "\n",
    "seed = 42\n",
    "os.environ['PYTHONHASHSEED'] = str(seed)\n",
    "os.environ['TF_DETERMINISTIC_OPS'] = '1'\n",
    "random.seed(seed)\n",
    "tf.random.set_seed(seed)\n",
    "np.random.seed(seed)"
   ]
  },
  {
   "cell_type": "code",
   "execution_count": 4,
   "id": "46591eb6",
   "metadata": {},
   "outputs": [],
   "source": [
    "parser = ap.ArgumentParser()\n",
    "\n",
    "parser.add_argument('--resolution', default=8000, type=int, help=\"Resolution for capturing audio\")\n",
    "# blocksize\n",
    "#parser.add_argument('--blocksize', default=32000, type=int, help=\"Blocksize for captured audio, change only if you previously changed\")\n",
    "parser.add_argument('--downsampling_rate', default=8000, type=int, help=\"Resolution for capturing audio\")\n",
    "parser.add_argument('--device', default=0, type=int, help=\"Default device is 0, change for others\")\n",
    "\n",
    "\n",
    "parser.add_argument('--output_directory', default='./AudioFiles',type=str, help='Used to specify output folder')\n",
    "\n",
    "\n",
    "args = parser.parse_args(['--device','31','--resolution','8000' ])\n",
    "#args = parser.parse_args()"
   ]
  },
  {
   "cell_type": "code",
   "execution_count": 5,
   "id": "b5459695",
   "metadata": {},
   "outputs": [],
   "source": [
    "blocksize = 4 * args.resolution\n",
    "LABELS = ['change languagenone', 'activatemusic', 'deactivatelights', 'increasevolume', 'decreasevolume', 'increaseheat', 'decreaseheat', 'nannan']"
   ]
  },
  {
   "cell_type": "code",
   "execution_count": 6,
   "id": "5c543c6e",
   "metadata": {},
   "outputs": [
    {
     "name": "stdout",
     "output_type": "stream",
     "text": [
      "['change languagenone', 'activatemusic', 'deactivatelights', 'increasevolume', 'decreasevolume', 'increaseheat', 'decreaseheat', 'nannan']\n"
     ]
    }
   ],
   "source": [
    "print(LABELS)"
   ]
  },
  {
   "cell_type": "markdown",
   "id": "07481e54",
   "metadata": {},
   "source": [
    "# Necessary preprocessing args"
   ]
  },
  {
   "cell_type": "code",
   "execution_count": 7,
   "id": "9af86cd7",
   "metadata": {},
   "outputs": [
    {
     "name": "stderr",
     "output_type": "stream",
     "text": [
      "2023-03-26 21:25:18.211955: I tensorflow/stream_executor/cuda/cuda_gpu_executor.cc:980] successful NUMA node read from SysFS had negative value (-1), but there must be at least one NUMA node, so returning NUMA node zero\n",
      "2023-03-26 21:25:18.228029: W tensorflow/stream_executor/platform/default/dso_loader.cc:64] Could not load dynamic library 'libcudnn.so.8'; dlerror: libcudnn.so.8: cannot open shared object file: No such file or directory\n",
      "2023-03-26 21:25:18.228053: W tensorflow/core/common_runtime/gpu/gpu_device.cc:1934] Cannot dlopen some GPU libraries. Please make sure the missing libraries mentioned above are installed properly if you would like to use GPU. Follow the guide at https://www.tensorflow.org/install/gpu for how to download and setup the required libraries for your platform.\n",
      "Skipping registering GPU devices...\n",
      "2023-03-26 21:25:18.228763: I tensorflow/core/platform/cpu_feature_guard.cc:193] This TensorFlow binary is optimized with oneAPI Deep Neural Network Library (oneDNN) to use the following CPU instructions in performance-critical operations:  AVX2 AVX512F AVX512_VNNI FMA\n",
      "To enable them in other operations, rebuild TensorFlow with the appropriate compiler flags.\n"
     ]
    }
   ],
   "source": [
    "frame_length_in_s = 0.04#0.032*2 # /2 for resnet18\n",
    "frame_step_in_s  = frame_length_in_s#frame_length_in_s\n",
    "\n",
    "PREPROCESSING_ARGS = {\n",
    "    'downsampling_rate': args.resolution,\n",
    "    'frame_length_in_s': frame_length_in_s,\n",
    "    'frame_step_in_s': frame_step_in_s,\n",
    "}\n",
    "\n",
    "num_mel_bins = (int) ((args.resolution - args.resolution * PREPROCESSING_ARGS['frame_length_in_s'])/(args.resolution*PREPROCESSING_ARGS['frame_step_in_s']))+1\n",
    "# print(num_mel_bins)\n",
    "\n",
    "PREPROCESSING_ARGS = {\n",
    "    **PREPROCESSING_ARGS,\n",
    "    'num_mel_bins': num_mel_bins,\n",
    "    'lower_frequency': 20,   #40\n",
    "    'upper_frequency': args.resolution/2, #4000\n",
    "}\n",
    "\n",
    "downsampling_rate = PREPROCESSING_ARGS['downsampling_rate']\n",
    "sampling_rate_int64 = tf.cast(downsampling_rate, tf.int64)\n",
    "frame_length = int(downsampling_rate * PREPROCESSING_ARGS['frame_length_in_s'])\n",
    "#print(\"Frame_length: {}\".format(frame_length))\n",
    "frame_step = int(downsampling_rate * PREPROCESSING_ARGS['frame_step_in_s'])\n",
    "#print(\"Frame_length: {}\".format(frame_step))\n",
    "num_spectrogram_bins = frame_length // 2 + 1\n",
    "num_mel_bins = PREPROCESSING_ARGS['num_mel_bins']\n",
    "lower_frequency = PREPROCESSING_ARGS['lower_frequency']\n",
    "upper_frequency = PREPROCESSING_ARGS['upper_frequency']\n",
    "\n",
    "linear_to_mel_weight_matrix = tf.signal.linear_to_mel_weight_matrix(\n",
    "    num_mel_bins=num_mel_bins,\n",
    "    num_spectrogram_bins=num_spectrogram_bins,\n",
    "    sample_rate=downsampling_rate,\n",
    "    lower_edge_hertz=lower_frequency,\n",
    "    upper_edge_hertz=upper_frequency\n",
    ")"
   ]
  },
  {
   "cell_type": "code",
   "execution_count": 8,
   "id": "6351949e",
   "metadata": {},
   "outputs": [
    {
     "name": "stderr",
     "output_type": "stream",
     "text": [
      "INFO: Created TensorFlow Lite XNNPACK delegate for CPU.\n"
     ]
    }
   ],
   "source": [
    "modelName = \"model_24\"\n",
    "\n",
    "interpreter = tf.lite.Interpreter(model_path=f'./tflite_models/{modelName}.tflite')\n",
    "interpreter.allocate_tensors()\n",
    "input_details = interpreter.get_input_details()\n",
    "output_details = interpreter.get_output_details()"
   ]
  },
  {
   "cell_type": "code",
   "execution_count": 9,
   "id": "41a9b9c6",
   "metadata": {},
   "outputs": [],
   "source": [
    "def get_audio_from_numpy(indata):\n",
    "    indata = tf.convert_to_tensor(indata, dtype=tf.float32)\n",
    "    #print(\"Shape of indata: \",tf.reduce_max(indata))\n",
    "    indata = 2 * ((indata + 32768) / (32767 + 32768)) -1\n",
    "    indata = tf.squeeze(indata)\n",
    "    #print(\"After of indata: \",tf.reduce_max(indata))\n",
    "    return indata\n",
    "\n",
    "def get_spectrogram(indata, frame_length_in_s, frame_step_in_s):\n",
    "    data = get_audio_from_numpy(indata)\n",
    "    \n",
    "    sampling_rate_float32 = tf.cast(args.downsampling_rate, tf.float32)\n",
    "    frame_length = int(frame_length_in_s * sampling_rate_float32)\n",
    "    frame_step = int(frame_step_in_s * sampling_rate_float32)\n",
    "\n",
    "    stft = tf.signal.stft(\n",
    "        data,\n",
    "        frame_length=frame_length,\n",
    "        frame_step=frame_step,\n",
    "        fft_length=frame_length\n",
    "    )\n",
    "    spectrogram = tf.abs(stft)\n",
    "\n",
    "    return spectrogram"
   ]
  },
  {
   "cell_type": "code",
   "execution_count": 10,
   "id": "7549592e",
   "metadata": {},
   "outputs": [],
   "source": [
    "state = False"
   ]
  },
  {
   "cell_type": "code",
   "execution_count": 11,
   "id": "2d449f40",
   "metadata": {},
   "outputs": [],
   "source": [
    "def send_prediction_as_mqtt(predicted_label):\n",
    "    #print(type(predicted_label))\n",
    "    #print(predicted_label.shape)\n",
    "    #print(predicted_label)\n",
    "    print(\"MAX: \")\n",
    "    print(predicted_label.max())\n",
    "    index = ( np.where(predicted_label == predicted_label.max() )  )\n",
    "    index = index[0][0]\n",
    "    print(index)\n",
    "    print(LABELS[index])\n",
    "    print()"
   ]
  },
  {
   "cell_type": "markdown",
   "id": "e3d33bf7",
   "metadata": {},
   "source": [
    "print(LABELS[index])"
   ]
  },
  {
   "cell_type": "code",
   "execution_count": 12,
   "id": "2fd3fda4",
   "metadata": {},
   "outputs": [],
   "source": [
    "def prediction_on_indata(indata):\n",
    "    frame_length_in_s = 0.04\n",
    "    frame_step_in_s   = frame_length_in_s\n",
    "    global state\n",
    "    audio = get_audio_from_numpy(indata)\n",
    "    \n",
    "    frame_length = int(frame_length_in_s * args.resolution)\n",
    "    frame_step = int(frame_step_in_s * args.resolution)\n",
    "    stft = tf.signal.stft(\n",
    "        audio,\n",
    "        frame_length=frame_length,\n",
    "        frame_step=frame_step,\n",
    "        fft_length=frame_length\n",
    "    )\n",
    "    \n",
    "    spectrogram = tf.abs(stft)\n",
    "    \n",
    "    mel_spectrogram = tf.matmul(spectrogram, linear_to_mel_weight_matrix)\n",
    "    log_mel_spectrogram = tf.math.log(mel_spectrogram + 1.e-6)\n",
    "    log_mel_spectrogram = tf.expand_dims(log_mel_spectrogram, 0)  # batch axis\n",
    "    log_mel_spectrogram = tf.expand_dims(log_mel_spectrogram, -1)  # channel axis\n",
    "    mfcss = tf.signal.mfccs_from_log_mel_spectrograms(log_mel_spectrogram)\n",
    "    #print(\"Shape \",input_details[0])\n",
    "    interpreter.set_tensor(input_details[0]['index'], mfcss)\n",
    "    interpreter.invoke()\n",
    "    output = interpreter.get_tensor(output_details[0]['index'])\n",
    "\n",
    "    print(\"change languagenone\",output[0][0]*100,\"%\")\n",
    "    print(\"activatemusic\",output[0][1]*100,\"%\")\n",
    "    print(\"deactivatelights\",output[0][2]*100,\"%\")\n",
    "    print(\"increasevolume\",output[0][3]*100,\"%\")\n",
    "    print(\"decreasevolume\",output[0][4]*100,\"%\")\n",
    "    print(\"increaseheat\",output[0][5]*100,\"%\")\n",
    "    print(\"decreaseheat\",output[0][6]*100,\"%\")\n",
    "    #print(\"nannan\",output[0][7]*100,\"%\")\n",
    "    \n",
    "    send_prediction_as_mqtt(output[0])\n",
    "    \n",
    "    return state"
   ]
  },
  {
   "cell_type": "code",
   "execution_count": 13,
   "id": "7f469c8a",
   "metadata": {},
   "outputs": [],
   "source": [
    "values = sd.query_devices()\n",
    "device = 0\n",
    "\n",
    "for value in values:\n",
    "    if value['name'] == 'default':\n",
    "        device = value['index']"
   ]
  },
  {
   "cell_type": "code",
   "execution_count": 14,
   "id": "ddeb2816",
   "metadata": {},
   "outputs": [],
   "source": [
    "def callback(indata, frames, callback_time, status):\n",
    "    timestamp = time()\n",
    "    global state\n",
    "    global mac_address\n",
    "    #if is_silence(indata) == 0 :\n",
    "        #calculate next step of FSM!\n",
    "    prediction_on_indata(indata)\n",
    "    print(\"Elapsed time: \",time()-timestamp)"
   ]
  },
  {
   "cell_type": "code",
   "execution_count": 15,
   "id": "91ebee3b",
   "metadata": {},
   "outputs": [
    {
     "name": "stdout",
     "output_type": "stream",
     "text": [
      "['change languagenone', 'activatemusic', 'deactivatelights', 'increasevolume', 'decreasevolume', 'increaseheat', 'decreaseheat', 'nannan']\n"
     ]
    }
   ],
   "source": [
    "print(LABELS)"
   ]
  },
  {
   "cell_type": "markdown",
   "id": "8b4d33d3",
   "metadata": {},
   "source": [
    "def main():\n",
    "\n",
    "    #print(LABELS)\n",
    "    while True:\n",
    "        with sd.InputStream(device=args.device, channels=1, dtype='int16', samplerate=args.resolution, blocksize=blocksize, callback=callback):\n",
    "            print(\"\") # to print a new line, improving readability in the terminal\n",
    "\n",
    "if __name__ == '__main__':\n",
    "    main()"
   ]
  },
  {
   "cell_type": "markdown",
   "id": "2f127f79",
   "metadata": {},
   "source": [
    "# Test"
   ]
  },
  {
   "cell_type": "code",
   "execution_count": 19,
   "id": "275c126c",
   "metadata": {
    "scrolled": true
   },
   "outputs": [
    {
     "name": "stdout",
     "output_type": "stream",
     "text": [
      "Test area\n"
     ]
    }
   ],
   "source": [
    "import functools\n",
    "\n",
    "print(\"Test area\")\n",
    "\n",
    "blocksize = 4 * args.resolution\n",
    "\n",
    "identifier = 0\n",
    "label = \"\"\n",
    "\n",
    "def callback2(indata, frames, callback_time, status):\n",
    "    \"\"\"This is called (from a separate thread) for each audio block.\"\"\"\n",
    "    # print(is_silence(indata))\n",
    "    # print(type(indata))  # Type is numpy.ndarray \n",
    "    global identifier\n",
    "    global label\n",
    "    \n",
    "    write(f'./{args.output_directory}/{identifier}_{label}.wav', args.resolution, indata)\n",
    "    filesize_in_bytes = os.path.getsize(f'./{args.output_directory}/{identifier}_{label}.wav')\n",
    "    filesize_in_kb = filesize_in_bytes / 1024\n",
    "    print(f'Size: {filesize_in_kb:.2f}KB')\n",
    "    \n",
    "\n",
    "\n",
    "# set up your global variables as before\n",
    "\n",
    "def callback(indata, frames, callback_time, status):\n",
    "    global identifier\n",
    "    global label\n",
    "    \n",
    "    # reduce noise in the audio data\n",
    "    \n",
    "    # write the audio data to file\n",
    "    write(f'./{args.output_directory}/{identifier}_{label}.wav', args.resolution, indata)\n",
    "    filesize_in_bytes = os.path.getsize(f'./{args.output_directory}/{identifier}_{label}.wav')\n",
    "    filesize_in_kb = filesize_in_bytes / 1024\n",
    "    print(f'Size: {filesize_in_kb:.2f}KB')\n",
    "    \n",
    "    \n",
    "    rate,data = wavfile.read(f'./{args.output_directory}/{identifier}_{label}.wav')\n",
    "    reduced_noise = nr.reduce_noise(y=data, sr=rate)\n",
    "    os.remove(f'./{args.output_directory}/{identifier}_{label}.wav')\n",
    "    wavfile.write(f'./{args.output_directory}/{identifier}_{label}.wav',rate,reduced_noise)\n",
    "    \n",
    "    \n",
    "#callback_with_args = functools.partial(my_callback, identifier=identifier, label=label)\n",
    "\n",
    "# 10 fron on screen microphone\n",
    "# 14 from microphone nada?\n",
    "\n",
    "def test(ident,lab):\n",
    "    print(\"New Recording!\")\n",
    "    global identifier\n",
    "    global label\n",
    "    identifier = ident\n",
    "    label = lab\n",
    "    with sd.InputStream(device=args.device, channels=1, dtype='int16', samplerate=args.resolution, blocksize=blocksize, callback=callback):\n",
    "        print(\"\")"
   ]
  },
  {
   "cell_type": "code",
   "execution_count": null,
   "id": "d3fa8238",
   "metadata": {},
   "outputs": [],
   "source": []
  },
  {
   "cell_type": "code",
   "execution_count": 17,
   "id": "285f1638",
   "metadata": {},
   "outputs": [],
   "source": [
    "filename1 = \"./Train_Dataset_Truncated/0_change languagenone.wav\"\n",
    "filename2 = \"./Train_Dataset_Truncated/15_deactivatelights.wav\"\n",
    "    \n",
    "    \n",
    "filename21 = \"./Train_Dataset_Truncated/113_increasevolume.wav\"\n",
    "filename22 = \"./Train_Dataset_Truncated/151_increasevolume.wav\"\n",
    "filename23 = \"./Train_Dataset_Truncated/212_increaseheat.wav\"\n",
    "    \n",
    "filename3 = \"./AudioFiles/1678717382.0476763.wav\"   \n",
    "filename4 = \"./AudioFiles/1678717386.5524414.wav\"\n",
    "filename5 = \"./AudioFiles/1678717391.0566754.wav\"\n",
    "filename6 = \"./AudioFiles/1678717395.5633824.wav\"  \n",
    "direct=\"./AudioFiles/\"\n",
    "filename7 = direct+\"4_increasevolume.wav\"\n",
    "\n",
    "                \n",
    "def test2(filename):\n",
    "    print(\"Prediction for\",filename)\n",
    "    frame_length_in_s = 0.04\n",
    "    frame_step_in_s   = frame_length_in_s\n",
    "    global state\n",
    "    audio_binary = tf.io.read_file(filename)\n",
    "    audio, sampling_rate = tf.audio.decode_wav(audio_binary)\n",
    "    audio = tf.squeeze(audio, axis=-1) #all our audio are mono, drop extra axis\n",
    "    \n",
    "    frame_length = int(frame_length_in_s * args.resolution)\n",
    "    frame_step = int(frame_step_in_s * args.resolution)\n",
    "    stft = tf.signal.stft(\n",
    "        audio,\n",
    "        frame_length=frame_length,\n",
    "        frame_step=frame_step,\n",
    "        fft_length=frame_length\n",
    "    )\n",
    "    \n",
    "    spectrogram = tf.abs(stft)\n",
    "    \n",
    "    mel_spectrogram = tf.matmul(spectrogram, linear_to_mel_weight_matrix)\n",
    "    log_mel_spectrogram = tf.math.log(mel_spectrogram + 1.e-6)\n",
    "    log_mel_spectrogram = tf.expand_dims(log_mel_spectrogram, 0)  # batch axis\n",
    "    log_mel_spectrogram = tf.expand_dims(log_mel_spectrogram, -1)  # channel axis\n",
    "    mfcss = tf.signal.mfccs_from_log_mel_spectrograms(log_mel_spectrogram)\n",
    "    #print(\"Shape \",input_details[0])\n",
    "    interpreter.set_tensor(input_details[0]['index'], mfcss)\n",
    "    interpreter.invoke()\n",
    "    output = interpreter.get_tensor(output_details[0]['index'])\n",
    "\n",
    "    print(\"change languagenone\",output[0][0]*100,\"%\")\n",
    "    print(\"activatemusic\",output[0][1]*100,\"%\")\n",
    "    print(\"deactivatelights\",output[0][2]*100,\"%\")\n",
    "    print(\"increasevolume\",output[0][3]*100,\"%\")\n",
    "    print(\"decreasevolume\",output[0][4]*100,\"%\")\n",
    "    print(\"increaseheat\",output[0][5]*100,\"%\")\n",
    "    print(\"decreaseheat\",output[0][6]*100,\"%\")\n",
    "    #print(\"nannan\",output[0][7]*100,\"%\")\n",
    "    \n",
    "    send_prediction_as_mqtt(output[0])"
   ]
  },
  {
   "cell_type": "code",
   "execution_count": 350,
   "id": "1fda8bf7",
   "metadata": {},
   "outputs": [
    {
     "name": "stdout",
     "output_type": "stream",
     "text": [
      "New Recording!\n",
      "\n",
      "Size: 62.54KB\n"
     ]
    }
   ],
   "source": [
    "test(16,\"decreaseheat\")"
   ]
  },
  {
   "cell_type": "code",
   "execution_count": 351,
   "id": "fa60a52d",
   "metadata": {},
   "outputs": [],
   "source": [
    "direct=\"./AudioFiles/\"\n",
    "filename7 = direct+\"16_decreaseheat.wav\""
   ]
  },
  {
   "cell_type": "code",
   "execution_count": 352,
   "id": "114dafc4",
   "metadata": {
    "scrolled": true
   },
   "outputs": [
    {
     "name": "stdout",
     "output_type": "stream",
     "text": [
      "Prediction for ./AudioFiles/16_decreaseheat.wav\n",
      "change languagenone 0.007370126695604995 %\n",
      "activatemusic 1.5081245141601585e-07 %\n",
      "deactivatelights 1.0879887267947197 %\n",
      "increasevolume 83.01810026168823 %\n",
      "decreasevolume 1.066472101956606 %\n",
      "increaseheat 14.333534240722656 %\n",
      "decreaseheat 0.486527057364583 %\n",
      "MAX: \n",
      "0.830181\n",
      "3\n",
      "increasevolume\n",
      "\n"
     ]
    }
   ],
   "source": [
    "test2(filename7)"
   ]
  },
  {
   "cell_type": "code",
   "execution_count": null,
   "id": "0dc2ca2f",
   "metadata": {},
   "outputs": [],
   "source": []
  },
  {
   "cell_type": "code",
   "execution_count": null,
   "id": "ade4443c",
   "metadata": {},
   "outputs": [],
   "source": []
  }
 ],
 "metadata": {
  "kernelspec": {
   "display_name": "Python 3 (ipykernel)",
   "language": "python",
   "name": "python3"
  },
  "language_info": {
   "codemirror_mode": {
    "name": "ipython",
    "version": 3
   },
   "file_extension": ".py",
   "mimetype": "text/x-python",
   "name": "python",
   "nbconvert_exporter": "python",
   "pygments_lexer": "ipython3",
   "version": "3.10.9"
  }
 },
 "nbformat": 4,
 "nbformat_minor": 5
}
