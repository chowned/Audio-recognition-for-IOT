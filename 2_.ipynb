{
 "cells": [
  {
   "cell_type": "markdown",
   "id": "5806340e",
   "metadata": {},
   "source": [
    "# new release of tensorflow, version 2.10 cannot be retrieved\n",
    "!pip install tensorflow\n",
    "!pip install tensorflow-io\n",
    "!pip install cherrypy==18.8.0\n",
    "!pip install paho-mqtt==1.6.1\n",
    "!pip install redis==4.3.4\n",
    "!pip install librosa\n",
    "!pip install tensorflow_model_optimization\n",
    "!pip install pandas\n",
    "!pip install keras\n",
    "!pip install pydub\n",
    "!pip install noisereduce"
   ]
  },
  {
   "cell_type": "code",
   "execution_count": 44,
   "id": "5df89252",
   "metadata": {},
<<<<<<< Updated upstream
   "outputs": [],
=======
   "outputs": [
    {
     "name": "stderr",
     "output_type": "stream",
     "text": [
      "2023-05-14 16:03:56.555087: I tensorflow/core/util/port.cc:110] oneDNN custom operations are on. You may see slightly different numerical results due to floating-point round-off errors from different computation orders. To turn them off, set the environment variable `TF_ENABLE_ONEDNN_OPTS=0`.\n",
      "2023-05-14 16:03:56.556620: I tensorflow/tsl/cuda/cudart_stub.cc:28] Could not find cuda drivers on your machine, GPU will not be used.\n",
      "2023-05-14 16:03:56.583965: I tensorflow/tsl/cuda/cudart_stub.cc:28] Could not find cuda drivers on your machine, GPU will not be used.\n",
      "2023-05-14 16:03:56.584410: I tensorflow/core/platform/cpu_feature_guard.cc:182] This TensorFlow binary is optimized to use available CPU instructions in performance-critical operations.\n",
      "To enable the following instructions: AVX2 AVX512F AVX512_VNNI FMA, in other operations, rebuild TensorFlow with the appropriate compiler flags.\n",
      "2023-05-14 16:03:57.045664: W tensorflow/compiler/tf2tensorrt/utils/py_utils.cc:38] TF-TRT Warning: Could not find TensorRT\n"
     ]
    }
   ],
>>>>>>> Stashed changes
   "source": [
    "import os\n",
    "import sounddevice as sd\n",
    "import numpy as np\n",
    "import time\n",
    "from time import time\n",
    "from time import sleep\n",
    "from scipy.io.wavfile import write\n",
    "import argparse as ap\n",
    "import tensorflow as tf\n",
    "import tensorflow_io as tfio\n",
    "import uuid\n",
    "import redis\n",
    "import psutil\n",
    "# import myConnection as mc\n",
    "from datetime import datetime\n",
    "import argparse as ap\n",
    "import pandas as pd\n",
    "import random\n",
    "import paho.mqtt.client as mqtt"
   ]
  },
  {
   "cell_type": "code",
   "execution_count": 45,
   "id": "0d918d3f",
   "metadata": {},
   "outputs": [],
   "source": [
    "import noisereduce as nr\n",
    "from scipy.io.wavfile import write\n",
    "from scipy.io import wavfile\n",
    "import threading"
   ]
  },
  {
   "cell_type": "code",
   "execution_count": 46,
   "id": "60b549b4",
   "metadata": {},
   "outputs": [
    {
     "name": "stdout",
     "output_type": "stream",
     "text": [
      "\n"
     ]
    }
   ],
   "source": [
    "try:\n",
    "    os.chdir('./datasets/dsl_data/')\n",
    "except:\n",
    "    print(\"\")\n",
    "\n",
    "seed = 42\n",
    "os.environ['PYTHONHASHSEED'] = str(seed)\n",
    "os.environ['TF_DETERMINISTIC_OPS'] = '1'\n",
    "random.seed(seed)\n",
    "tf.random.set_seed(seed)\n",
    "np.random.seed(seed)"
   ]
  },
  {
   "cell_type": "code",
   "execution_count": 47,
   "id": "46591eb6",
   "metadata": {},
   "outputs": [],
   "source": [
    "parser = ap.ArgumentParser()\n",
    "\n",
    "parser.add_argument('--resolution', default=8000, type=int, help=\"Resolution for capturing audio\")\n",
    "# blocksize\n",
    "#parser.add_argument('--blocksize', default=32000, type=int, help=\"Blocksize for captured audio, change only if you previously changed\")\n",
    "parser.add_argument('--downsampling_rate', default=8000, type=int, help=\"Resolution for capturing audio\")\n",
    "parser.add_argument('--device', default=0, type=int, help=\"Default device is 0, change for others\")\n",
    "\n",
    "\n",
    "parser.add_argument('--output_directory', default='.',type=str, help='Used to specify output folder')\n",
    "\n",
    "\n",
    "args = parser.parse_args(['--device','31','--resolution','8000' ])\n",
    "#args = parser.parse_args()"
   ]
  },
  {
   "cell_type": "code",
   "execution_count": 48,
   "id": "b5459695",
   "metadata": {},
   "outputs": [],
   "source": [
    "blocksize = 4 * args.resolution\n",
    "LABELS = ['change languagenone', 'activatemusic', 'deactivatelights', 'increasevolume', 'decreasevolume', 'increaseheat', 'decreaseheat', 'nannan']"
   ]
  },
  {
   "cell_type": "code",
   "execution_count": 49,
   "id": "5c543c6e",
   "metadata": {},
   "outputs": [
    {
     "name": "stdout",
     "output_type": "stream",
     "text": [
      "['change languagenone', 'activatemusic', 'deactivatelights', 'increasevolume', 'decreasevolume', 'increaseheat', 'decreaseheat', 'nannan']\n"
     ]
    }
   ],
   "source": [
    "print(LABELS)"
   ]
  },
  {
   "cell_type": "markdown",
   "id": "07481e54",
   "metadata": {},
   "source": [
    "# Necessary preprocessing args"
   ]
  },
  {
   "cell_type": "code",
   "execution_count": 50,
   "id": "9af86cd7",
   "metadata": {},
<<<<<<< Updated upstream
   "outputs": [],
=======
   "outputs": [
    {
     "name": "stderr",
     "output_type": "stream",
     "text": [
      "2023-05-14 16:03:57.831691: I tensorflow/compiler/xla/stream_executor/cuda/cuda_gpu_executor.cc:996] successful NUMA node read from SysFS had negative value (-1), but there must be at least one NUMA node, so returning NUMA node zero. See more at https://github.com/torvalds/linux/blob/v6.0/Documentation/ABI/testing/sysfs-bus-pci#L344-L355\n",
      "2023-05-14 16:03:57.832078: W tensorflow/core/common_runtime/gpu/gpu_device.cc:1956] Cannot dlopen some GPU libraries. Please make sure the missing libraries mentioned above are installed properly if you would like to use GPU. Follow the guide at https://www.tensorflow.org/install/gpu for how to download and setup the required libraries for your platform.\n",
      "Skipping registering GPU devices...\n"
     ]
    }
   ],
>>>>>>> Stashed changes
   "source": [
    "frame_length_in_s = 0.04#0.032*2 # /2 for resnet18\n",
    "frame_step_in_s  = frame_length_in_s#frame_length_in_s\n",
    "\n",
    "PREPROCESSING_ARGS = {\n",
    "    'downsampling_rate': args.resolution,\n",
    "    'frame_length_in_s': frame_length_in_s,\n",
    "    'frame_step_in_s': frame_step_in_s,\n",
    "}\n",
    "\n",
    "num_mel_bins = (int) ((args.resolution - args.resolution * PREPROCESSING_ARGS['frame_length_in_s'])/(args.resolution*PREPROCESSING_ARGS['frame_step_in_s']))+1\n",
    "# print(num_mel_bins)\n",
    "\n",
    "PREPROCESSING_ARGS = {\n",
    "    **PREPROCESSING_ARGS,\n",
    "    'num_mel_bins': num_mel_bins,\n",
    "    'lower_frequency': 20,   #40\n",
    "    'upper_frequency': args.resolution/2, #4000\n",
    "}\n",
    "\n",
    "downsampling_rate = PREPROCESSING_ARGS['downsampling_rate']\n",
    "sampling_rate_int64 = tf.cast(downsampling_rate, tf.int64)\n",
    "frame_length = int(downsampling_rate * PREPROCESSING_ARGS['frame_length_in_s'])\n",
    "#print(\"Frame_length: {}\".format(frame_length))\n",
    "frame_step = int(downsampling_rate * PREPROCESSING_ARGS['frame_step_in_s'])\n",
    "#print(\"Frame_length: {}\".format(frame_step))\n",
    "num_spectrogram_bins = frame_length // 2 + 1\n",
    "num_mel_bins = PREPROCESSING_ARGS['num_mel_bins']\n",
    "lower_frequency = PREPROCESSING_ARGS['lower_frequency']\n",
    "upper_frequency = PREPROCESSING_ARGS['upper_frequency']\n",
    "\n",
    "linear_to_mel_weight_matrix = tf.signal.linear_to_mel_weight_matrix(\n",
    "    num_mel_bins=num_mel_bins,\n",
    "    num_spectrogram_bins=num_spectrogram_bins,\n",
    "    sample_rate=downsampling_rate,\n",
    "    lower_edge_hertz=lower_frequency,\n",
    "    upper_edge_hertz=upper_frequency\n",
    ")"
   ]
  },
  {
   "cell_type": "code",
   "execution_count": 51,
   "id": "6351949e",
   "metadata": {},
   "outputs": [],
   "source": [
    "modelName = \"model_24\"\n",
    "\n",
    "interpreter = tf.lite.Interpreter(model_path=f'./tflite_models/{modelName}.tflite')\n",
    "interpreter.allocate_tensors()\n",
    "input_details = interpreter.get_input_details()\n",
    "output_details = interpreter.get_output_details()"
   ]
  },
  {
   "cell_type": "code",
   "execution_count": 52,
   "id": "b37cd396",
   "metadata": {},
   "outputs": [
    {
     "data": {
      "text/plain": [
       "0"
      ]
     },
     "execution_count": 52,
     "metadata": {},
     "output_type": "execute_result"
    }
   ],
   "source": [
    "mqtt_topic = \"topic/ML4IOT_Project_Polito\"\n",
    "client = mqtt.Client()\n",
    "client.connect(\"test.mosquitto.org\",1883,60)"
   ]
  },
  {
   "cell_type": "code",
   "execution_count": 53,
   "id": "41a9b9c6",
   "metadata": {},
   "outputs": [],
   "source": [
    "def get_audio_from_numpy(indata):\n",
    "    indata = tf.convert_to_tensor(indata, dtype=tf.float32)\n",
    "    #print(\"Shape of indata: \",tf.reduce_max(indata))\n",
    "    indata = 2 * ((indata + 32768) / (32767 + 32768)) -1\n",
    "    indata = tf.squeeze(indata)\n",
    "    #print(\"After of indata: \",tf.reduce_max(indata))\n",
    "    return indata\n",
    "\n",
    "def get_spectrogram(indata, frame_length_in_s, frame_step_in_s):\n",
    "    data = get_audio_from_numpy(indata)\n",
    "    \n",
    "    sampling_rate_float32 = tf.cast(args.downsampling_rate, tf.float32)\n",
    "    frame_length = int(frame_length_in_s * sampling_rate_float32)\n",
    "    frame_step = int(frame_step_in_s * sampling_rate_float32)\n",
    "\n",
    "    stft = tf.signal.stft(\n",
    "        data,\n",
    "        frame_length=frame_length,\n",
    "        frame_step=frame_step,\n",
    "        fft_length=frame_length\n",
    "    )\n",
    "    spectrogram = tf.abs(stft)\n",
    "\n",
    "    return spectrogram"
   ]
  },
  {
   "cell_type": "code",
   "execution_count": 54,
   "id": "2d449f40",
   "metadata": {},
   "outputs": [],
   "source": [
    "def send_prediction_as_mqtt(predicted_label):\n",
    "    # f'./{args.output_directory}/{timestamp}.wav'\n",
    "    \n",
    "    #print(type(predicted_label))\n",
    "    #print(predicted_label.shape)\n",
    "    #print(predicted_label)\n",
    "    #print(\"predicted label:\",predicted_label)\n",
    "    #print(\"max:\",predicted_label.max())\n",
    "    if predicted_label.max() > 0.6:\n",
    "        print(predicted_label.max(),\"% confidence, sending label to mqtt\")\n",
    "        index = ( np.where(predicted_label == predicted_label.max() )  )\n",
    "        index = index[0][0]\n",
    "        print(\"The predicted label is\",LABELS[index])\n",
    "        client.publish(mqtt_topic, int(index))\n",
    "        \n",
    "    else:\n",
    "        print(\"Low confidence, sending noise to mqtt\")\n",
    "        client.publish(mqtt_topic, 7 )\n",
    "    \n",
    "    #print(\"index\",index)\n",
    "    #print(\"label\",LABELS[index])\n",
    "    print()\n",
    "    "
   ]
  },
  {
   "cell_type": "markdown",
   "id": "e3d33bf7",
   "metadata": {},
   "source": [
    "print(LABELS[index])"
   ]
  },
  {
   "cell_type": "code",
<<<<<<< Updated upstream
   "execution_count": 55,
=======
   "execution_count": 69,
>>>>>>> Stashed changes
   "id": "2fd3fda4",
   "metadata": {},
   "outputs": [],
   "source": [
    "def prediction_on_indata(indata):\n",
    "    timestamp = time()\n",
    "    frame_length_in_s = 0.04\n",
    "    frame_step_in_s   = frame_length_in_s\n",
    "    #audio = get_audio_from_numpy(indata)\n",
    "    \n",
    "    rate,data = wavfile.read(f'{indata}.wav')\n",
    "    reduced_noise = nr.reduce_noise(y=data, sr=rate)\n",
    "    os.remove(f'{indata}.wav')\n",
    "    wavfile.write(f'{indata}.wav',rate,reduced_noise)\n",
    "    \n",
    "    \n",
    "    audio_binary = tf.io.read_file(f'{indata}.wav')\n",
    "    audio, sampling_rate = tf.audio.decode_wav(audio_binary)\n",
    "    audio = tf.squeeze(audio, axis=-1) #all our audio are mono, drop extra axis\n",
    "    \n",
    "    \n",
    "    \n",
    "    frame_length = int(frame_length_in_s * args.resolution)\n",
    "    frame_step = int(frame_step_in_s * args.resolution)\n",
    "    stft = tf.signal.stft(\n",
    "        audio,\n",
    "        frame_length=frame_length,\n",
    "        frame_step=frame_step,\n",
    "        fft_length=frame_length\n",
    "    )\n",
    "    \n",
    "    spectrogram = tf.abs(stft)\n",
    "    \n",
    "    mel_spectrogram = tf.matmul(spectrogram, linear_to_mel_weight_matrix)\n",
    "    log_mel_spectrogram = tf.math.log(mel_spectrogram + 1.e-6)\n",
    "    log_mel_spectrogram = tf.expand_dims(log_mel_spectrogram, 0)  # batch axis\n",
    "    log_mel_spectrogram = tf.expand_dims(log_mel_spectrogram, -1)  # channel axis\n",
    "    mfcss = tf.signal.mfccs_from_log_mel_spectrograms(log_mel_spectrogram)\n",
    "    #print(\"Shape \",input_details[0])\n",
    "    interpreter.set_tensor(input_details[0]['index'], mfcss)\n",
    "    interpreter.invoke()\n",
    "    output = interpreter.get_tensor(output_details[0]['index'])\n",
    "\n",
    "    print(\"change languagenone\",output[0][0]*100,\"%\")\n",
    "    print(\"activatemusic\",output[0][1]*100,\"%\")\n",
    "    print(\"deactivatelights\",output[0][2]*100,\"%\")\n",
    "    print(\"increasevolume\",output[0][3]*100,\"%\")\n",
    "    print(\"decreasevolume\",output[0][4]*100,\"%\")\n",
    "    print(\"increaseheat\",output[0][5]*100,\"%\")\n",
    "    print(\"decreaseheat\",output[0][6]*100,\"%\")\n",
    "    print(\"nannan\",output[0][7]*100,\"%\")\n",
    "    \n",
    "    send_prediction_as_mqtt(output[0])\n",
    "    print(\"Elapsed time prediction: \",time()-timestamp)\n",
    "    return"
   ]
  },
  {
   "cell_type": "code",
<<<<<<< Updated upstream
   "execution_count": 56,
=======
   "execution_count": 70,
>>>>>>> Stashed changes
   "id": "7f469c8a",
   "metadata": {},
   "outputs": [],
   "source": [
    "values = sd.query_devices()\n",
    "device = 0\n",
    "\n",
    "for value in values:\n",
    "    if value['name'] == 'default':\n",
    "        device = value['index']"
   ]
  },
  {
   "cell_type": "code",
<<<<<<< Updated upstream
   "execution_count": 57,
=======
   "execution_count": 71,
>>>>>>> Stashed changes
   "id": "ddeb2816",
   "metadata": {},
   "outputs": [],
   "source": [
    "def callback(indata, frames, callback_time, status):\n",
    "    timestamp = time()*1000\n",
    "\n",
    "    #indata = indata.squeeze()\n",
    "    #print(indata.shape)\n",
    "    #indata = nr.reduce_noise(y=indata, sr=32000) #sr=indata.shape[0])\n",
    "    #print(data.shape)\n",
    "    write(f'{timestamp}.wav', args.resolution, indata)\n",
    "    \n",
    "    slow_thread = threading.Thread(target=prediction_on_indata, args=(timestamp,))\n",
    "    slow_thread.start()\n",
    "    #print(\"Elapsed time callback: \",time()-timestamp)\n",
    "    #print()"
   ]
  },
  {
   "cell_type": "code",
<<<<<<< Updated upstream
   "execution_count": 58,
=======
   "execution_count": 72,
   "id": "2598db64",
   "metadata": {},
   "outputs": [],
   "source": [
    "def main_test():\n",
    "    with sd.InputStream(device=device, channels=1, dtype='int16', samplerate=args.resolution, blocksize=blocksize, callback=callback):\n",
    "            print(\"TALK NOW OR SHUT UP\")"
   ]
  },
  {
   "cell_type": "code",
   "execution_count": 112,
>>>>>>> Stashed changes
   "id": "58d4840f",
   "metadata": {},
   "outputs": [
    {
     "name": "stdout",
     "output_type": "stream",
     "text": [
<<<<<<< Updated upstream
      "TALK NOW OR SHUT UP\n",
      "Elapsed time:  0.0007364749908447266\n",
      "\n",
      "TALK NOW OR SHUT UP\n",
      "0.9999958 % confidence, sending label to mqtt\n",
      "The predicted label is increasevolume\n",
      "\n",
      "Elapsed time:  0.0005395412445068359\n",
      "\n",
      "TALK NOW OR SHUT UP\n",
      "0.99996257 % confidence, sending label to mqtt\n",
      "The predicted label is increasevolume\n",
      "\n",
      "Elapsed time:  0.0006146430969238281\n",
      "\n",
      "TALK NOW OR SHUT UP\n",
      "0.9989961 % confidence, sending label to mqtt\n",
      "The predicted label is decreaseheat\n",
      "\n",
      "Elapsed time:  0.0005295276641845703\n",
      "\n",
      "TALK NOW OR SHUT UP\n",
      "0.7491865 % confidence, sending label to mqtt\n",
      "The predicted label is change languagenone\n",
      "\n",
      "Elapsed time:  0.0005538463592529297\n",
      "\n",
      "TALK NOW OR SHUT UP\n",
      "0.9999635 % confidence, sending label to mqtt\n",
      "The predicted label is change languagenone\n",
      "\n",
      "Elapsed time:  0.0008072853088378906\n",
      "\n",
      "TALK NOW OR SHUT UP\n",
      "0.844646 % confidence, sending label to mqtt\n",
      "The predicted label is decreaseheat\n",
      "\n",
      "Elapsed time:  0.0005338191986083984\n",
      "\n",
      "TALK NOW OR SHUT UP\n",
      "0.9869638 % confidence, sending label to mqtt\n",
      "The predicted label is increasevolume\n",
      "\n",
      "Elapsed time:  0.0005478858947753906\n",
      "\n",
      "TALK NOW OR SHUT UP\n",
      "0.70617706 % confidence, sending label to mqtt\n",
      "The predicted label is decreasevolume\n",
      "\n",
      "Elapsed time:  0.0008118152618408203\n",
      "\n",
      "TALK NOW OR SHUT UP\n",
      "0.66862077 % confidence, sending label to mqtt\n",
      "The predicted label is increasevolume\n",
      "\n",
      "Elapsed time:  0.001157522201538086\n",
      "\n",
      "TALK NOW OR SHUT UP\n",
      "0.92527765 % confidence, sending label to mqtt\n",
      "The predicted label is increasevolume\n",
      "\n",
      "Elapsed time:  0.00042438507080078125\n",
      "\n",
      "TALK NOW OR SHUT UP\n",
      "0.99821174 % confidence, sending label to mqtt\n",
      "The predicted label is increaseheat\n",
      "\n",
      "Elapsed time:  0.00067901611328125\n",
      "\n",
      "TALK NOW OR SHUT UP\n",
      "0.99762577 % confidence, sending label to mqtt\n",
      "The predicted label is increasevolume\n",
      "\n",
      "Elapsed time:  0.00070953369140625\n",
      "\n",
      "TALK NOW OR SHUT UP\n",
      "0.9998084 % confidence, sending label to mqtt\n",
      "The predicted label is increasevolume\n",
      "\n",
      "Elapsed time:  0.0005135536193847656\n",
      "\n",
      "TALK NOW OR SHUT UP\n",
      "0.9971836 % confidence, sending label to mqtt\n",
      "The predicted label is increasevolume\n",
      "\n",
      "Elapsed time:  0.00039768218994140625\n",
      "\n",
      "TALK NOW OR SHUT UP\n",
      "0.89487994 % confidence, sending label to mqtt\n",
      "The predicted label is decreasevolume\n",
      "\n",
      "Elapsed time:  0.0007107257843017578\n",
      "\n",
      "TALK NOW OR SHUT UP\n",
      "0.99856645 % confidence, sending label to mqtt\n",
      "The predicted label is increasevolume\n",
      "\n",
      "Elapsed time:  0.0009069442749023438\n",
      "\n",
      "TALK NOW OR SHUT UP\n",
      "0.8169483 % confidence, sending label to mqtt\n",
      "The predicted label is increaseheat\n",
      "\n",
      "Elapsed time:  0.0006656646728515625\n",
      "\n",
      "TALK NOW OR SHUT UP\n",
      "0.8822918 % confidence, sending label to mqtt\n",
      "The predicted label is change languagenone\n",
      "\n",
      "Elapsed time:  0.0005915164947509766\n",
      "\n",
      "TALK NOW OR SHUT UP\n",
      "0.99725515 % confidence, sending label to mqtt\n",
      "The predicted label is increasevolume\n",
      "\n",
      "Elapsed time:  0.0007755756378173828\n",
      "\n",
      "TALK NOW OR SHUT UP\n",
      "0.9271764 % confidence, sending label to mqtt\n",
      "The predicted label is change languagenone\n",
      "\n",
      "Elapsed time:  0.0004146099090576172\n",
      "\n",
      "TALK NOW OR SHUT UP\n",
      "0.9998555 % confidence, sending label to mqtt\n",
      "The predicted label is increasevolume\n",
      "\n",
      "Elapsed time:  0.0006272792816162109\n",
      "\n",
      "TALK NOW OR SHUT UP\n",
      "0.99964714 % confidence, sending label to mqtt\n",
      "The predicted label is increasevolume\n",
      "\n",
      "Elapsed time:  0.0008676052093505859\n",
      "\n",
      "TALK NOW OR SHUT UP\n",
      "1.0 % confidence, sending label to mqtt\n",
      "The predicted label is increasevolume\n",
      "\n",
      "Elapsed time:  0.0004830360412597656\n",
      "\n",
      "TALK NOW OR SHUT UP\n",
      "0.8673884 % confidence, sending label to mqtt\n",
      "The predicted label is increasevolume\n",
      "\n",
      "Elapsed time:  0.00043702125549316406\n",
      "\n",
      "TALK NOW OR SHUT UP\n",
      "0.75742614 % confidence, sending label to mqtt\n",
      "The predicted label is increasevolume\n",
      "\n",
      "Elapsed time:  0.0007851123809814453\n",
      "\n",
      "TALK NOW OR SHUT UP\n",
      "0.9996846 % confidence, sending label to mqtt\n",
      "The predicted label is increasevolume\n",
      "\n",
      "Elapsed time:  0.0007913112640380859\n",
      "\n",
      "TALK NOW OR SHUT UP\n",
      "Low confidence, sending noise to mqtt\n",
      "\n",
      "Elapsed time:  0.0006535053253173828\n",
      "\n",
      "TALK NOW OR SHUT UP\n",
      "0.9999981 % confidence, sending label to mqtt\n",
      "The predicted label is increasevolume\n",
      "\n",
      "Elapsed time:  0.0012979507446289062\n",
      "\n",
      "TALK NOW OR SHUT UP\n",
      "0.9561905 % confidence, sending label to mqtt\n",
      "The predicted label is increasevolume\n",
      "\n",
      "Elapsed time:  0.0006422996520996094\n",
      "\n"
     ]
    },
    {
     "ename": "KeyboardInterrupt",
     "evalue": "",
     "output_type": "error",
     "traceback": [
      "\u001b[0;31m---------------------------------------------------------------------------\u001b[0m",
      "\u001b[0;31mKeyboardInterrupt\u001b[0m                         Traceback (most recent call last)",
      "Cell \u001b[0;32mIn [58], line 7\u001b[0m\n\u001b[1;32m      4\u001b[0m             \u001b[38;5;28mprint\u001b[39m(\u001b[38;5;124m\"\u001b[39m\u001b[38;5;124mTALK NOW OR SHUT UP\u001b[39m\u001b[38;5;124m\"\u001b[39m)\n\u001b[1;32m      6\u001b[0m \u001b[38;5;28;01mif\u001b[39;00m \u001b[38;5;18m__name__\u001b[39m \u001b[38;5;241m==\u001b[39m \u001b[38;5;124m'\u001b[39m\u001b[38;5;124m__main__\u001b[39m\u001b[38;5;124m'\u001b[39m:\n\u001b[0;32m----> 7\u001b[0m     \u001b[43mmain\u001b[49m\u001b[43m(\u001b[49m\u001b[43m)\u001b[49m\n",
      "Cell \u001b[0;32mIn [58], line 3\u001b[0m, in \u001b[0;36mmain\u001b[0;34m()\u001b[0m\n\u001b[1;32m      1\u001b[0m \u001b[38;5;28;01mdef\u001b[39;00m \u001b[38;5;21mmain\u001b[39m():\n\u001b[1;32m      2\u001b[0m     \u001b[38;5;28;01mwhile\u001b[39;00m \u001b[38;5;28;01mTrue\u001b[39;00m:\n\u001b[0;32m----> 3\u001b[0m         \u001b[38;5;28;01mwith\u001b[39;00m sd\u001b[38;5;241m.\u001b[39mInputStream(device\u001b[38;5;241m=\u001b[39mdevice, channels\u001b[38;5;241m=\u001b[39m\u001b[38;5;241m1\u001b[39m, dtype\u001b[38;5;241m=\u001b[39m\u001b[38;5;124m'\u001b[39m\u001b[38;5;124mint16\u001b[39m\u001b[38;5;124m'\u001b[39m, samplerate\u001b[38;5;241m=\u001b[39margs\u001b[38;5;241m.\u001b[39mresolution, blocksize\u001b[38;5;241m=\u001b[39mblocksize, callback\u001b[38;5;241m=\u001b[39mcallback):\n\u001b[1;32m      4\u001b[0m             \u001b[38;5;28mprint\u001b[39m(\u001b[38;5;124m\"\u001b[39m\u001b[38;5;124mTALK NOW OR SHUT UP\u001b[39m\u001b[38;5;124m\"\u001b[39m)\n",
      "File \u001b[0;32m~/.local/lib/python3.10/site-packages/sounddevice.py:1100\u001b[0m, in \u001b[0;36m_StreamBase.__exit__\u001b[0;34m(self, *args)\u001b[0m\n\u001b[1;32m   1098\u001b[0m \u001b[38;5;28;01mdef\u001b[39;00m \u001b[38;5;21m__exit__\u001b[39m(\u001b[38;5;28mself\u001b[39m, \u001b[38;5;241m*\u001b[39margs):\n\u001b[1;32m   1099\u001b[0m \u001b[38;5;250m    \u001b[39m\u001b[38;5;124;03m\"\"\"Stop and close the stream when exiting a \"with\" statement.\"\"\"\u001b[39;00m\n\u001b[0;32m-> 1100\u001b[0m     \u001b[38;5;28;43mself\u001b[39;49m\u001b[38;5;241;43m.\u001b[39;49m\u001b[43mstop\u001b[49m\u001b[43m(\u001b[49m\u001b[43m)\u001b[49m\n\u001b[1;32m   1101\u001b[0m     \u001b[38;5;28mself\u001b[39m\u001b[38;5;241m.\u001b[39mclose()\n",
      "File \u001b[0;32m~/.local/lib/python3.10/site-packages/sounddevice.py:1126\u001b[0m, in \u001b[0;36m_StreamBase.stop\u001b[0;34m(self, ignore_errors)\u001b[0m\n\u001b[1;32m   1115\u001b[0m \u001b[38;5;28;01mdef\u001b[39;00m \u001b[38;5;21mstop\u001b[39m(\u001b[38;5;28mself\u001b[39m, ignore_errors\u001b[38;5;241m=\u001b[39m\u001b[38;5;28;01mTrue\u001b[39;00m):\n\u001b[1;32m   1116\u001b[0m \u001b[38;5;250m    \u001b[39m\u001b[38;5;124;03m\"\"\"Terminate audio processing.\u001b[39;00m\n\u001b[1;32m   1117\u001b[0m \n\u001b[1;32m   1118\u001b[0m \u001b[38;5;124;03m    This waits until all pending audio buffers have been played\u001b[39;00m\n\u001b[0;32m   (...)\u001b[0m\n\u001b[1;32m   1124\u001b[0m \n\u001b[1;32m   1125\u001b[0m \u001b[38;5;124;03m    \"\"\"\u001b[39;00m\n\u001b[0;32m-> 1126\u001b[0m     err \u001b[38;5;241m=\u001b[39m \u001b[43m_lib\u001b[49m\u001b[38;5;241;43m.\u001b[39;49m\u001b[43mPa_StopStream\u001b[49m\u001b[43m(\u001b[49m\u001b[38;5;28;43mself\u001b[39;49m\u001b[38;5;241;43m.\u001b[39;49m\u001b[43m_ptr\u001b[49m\u001b[43m)\u001b[49m\n\u001b[1;32m   1127\u001b[0m     \u001b[38;5;28;01mif\u001b[39;00m \u001b[38;5;129;01mnot\u001b[39;00m ignore_errors:\n\u001b[1;32m   1128\u001b[0m         _check(err, \u001b[38;5;124m'\u001b[39m\u001b[38;5;124mError stopping stream\u001b[39m\u001b[38;5;124m'\u001b[39m)\n",
      "\u001b[0;31mKeyboardInterrupt\u001b[0m: "
=======
      "TALK NOW OR SHUT UP\n"
     ]
    },
    {
     "name": "stderr",
     "output_type": "stream",
     "text": [
      "Exception in thread Thread-77 (prediction_on_indata):\n",
      "Traceback (most recent call last):\n",
      "  File \"/usr/lib/python3.11/threading.py\", line 1038, in _bootstrap_inner\n",
      "    self.run()\n",
      "  File \"/usr/lib/python3.11/threading.py\", line 975, in run\n",
      "    self._target(*self._args, **self._kwargs)\n",
      "  File \"/tmp/ipykernel_6191/3109801969.py\", line 47, in prediction_on_indata\n",
      "IndexError: index 7 is out of bounds for axis 0 with size 7\n"
     ]
    },
    {
     "name": "stdout",
     "output_type": "stream",
     "text": [
      "change languagenone 0.00020912361833325122 %\n",
      "activatemusic 14.00495320558548 %\n",
      "deactivatelights 8.565930329496041e-05 %\n",
      "increasevolume 85.08492708206177 %\n",
      "decreasevolume 0.8710245601832867 %\n",
      "increaseheat 0.038029925781302154 %\n",
      "decreaseheat 0.0007718725100858137 %\n"
>>>>>>> Stashed changes
     ]
    }
   ],
   "source": [
    "def main():\n",
    "    while True:\n",
    "        with sd.InputStream(device=device, channels=1, dtype='int16', samplerate=args.resolution, blocksize=blocksize, callback=callback):\n",
    "            print(\"TALK NOW OR SHUT UP\")\n",
    "\n",
    "if __name__ == '__main__':\n",
    "    main_test()"
   ]
  },
  {
   "cell_type": "code",
   "execution_count": 53,
   "id": "275c126c",
   "metadata": {
    "scrolled": true
   },
   "outputs": [
    {
     "name": "stdout",
     "output_type": "stream",
     "text": [
      "Test area\n"
     ]
    }
   ],
   "source": [
    "import functools\n",
    "\n",
    "print(\"Test area\")\n",
    "\n",
    "blocksize = 4 * args.resolution\n",
    "\n",
    "identifier = 0\n",
    "label = \"\"\n",
    "\n",
    "def callback2(indata, frames, callback_time, status):\n",
    "    \"\"\"This is called (from a separate thread) for each audio block.\"\"\"\n",
    "    # print(is_silence(indata))\n",
    "    # print(type(indata))  # Type is numpy.ndarray \n",
    "    global identifier\n",
    "    global label\n",
    "    \n",
    "    write(f'./{args.output_directory}/{identifier}_{label}.wav', args.resolution, indata)\n",
    "    filesize_in_bytes = os.path.getsize(f'./{args.output_directory}/{identifier}_{label}.wav')\n",
    "    filesize_in_kb = filesize_in_bytes / 1024\n",
    "    print(f'Size: {filesize_in_kb:.2f}KB')\n",
    "    \n",
    "\n",
    "\n",
    "# set up your global variables as before\n",
    "\n",
    "def callback(indata, frames, callback_time, status):\n",
    "    global identifier\n",
    "    global label\n",
    "    \n",
    "    # reduce noise in the audio data\n",
    "    \n",
    "    # write the audio data to file\n",
    "    write(f'./{identifier}_{label}.wav', args.resolution, indata)\n",
    "    filesize_in_bytes = os.path.getsize(f'./{identifier}_{label}.wav')\n",
    "    filesize_in_kb = filesize_in_bytes / 1024\n",
    "    print(f'Size: {filesize_in_kb:.2f}KB')\n",
    "    \n",
    "    \n",
    "    #rate,data = wavfile.read(f'./{identifier}_{label}.wav')\n",
    "    #reduced_noise = nr.reduce_noise(y=data, sr=rate)\n",
    "    #os.remove(f'./{identifier}_{label}.wav')\n",
    "    #wavfile.write(f'./{identifier}_{label}.wav',rate,reduced_noise)\n",
    "    \n",
    "    \n",
    "#callback_with_args = functools.partial(my_callback, identifier=identifier, label=label)\n",
    "\n",
    "# 10 fron on screen microphone\n",
    "# 14 from microphone nada?\n",
    "\n",
    "def test(ident,lab):\n",
    "    print(\"New Recording!\")\n",
    "    global identifier\n",
    "    global label\n",
    "    identifier = ident\n",
    "    label = lab\n",
    "    with sd.InputStream(device=device, channels=1, dtype='int16', samplerate=args.resolution, blocksize=blocksize, callback=callback):\n",
    "        print(\"\")"
   ]
  },
  {
   "cell_type": "code",
   "execution_count": 60,
   "id": "d3fa8238",
   "metadata": {},
   "outputs": [
    {
     "name": "stdout",
     "output_type": "stream",
     "text": [
      "New Recording!\n",
      "\n",
      "Size: 62.54KB\n"
     ]
    }
   ],
   "source": [
    "test(30,\"activate_music\")"
   ]
  },
  {
   "cell_type": "code",
   "execution_count": 61,
   "id": "1071ba79",
   "metadata": {},
   "outputs": [
    {
     "name": "stdout",
     "output_type": "stream",
     "text": [
      "Prediction for ./30_activate_music.wav\n",
      "change languagenone 0.00474334774480667 %\n",
      "activatemusic 2.5007942383581394e-07 %\n",
      "deactivatelights 1.1366487306929685e-06 %\n",
      "increasevolume 99.8005211353302 %\n",
      "decreasevolume 0.1819285098463297 %\n",
      "increaseheat 0.004574196645990014 %\n",
      "decreaseheat 0.008237065048888326 %\n",
      "0.9980052 % confidence, sending label to mqtt\n",
      "The predicted label is increasevolume\n",
      "\n"
     ]
    }
   ],
   "source": [
    "test2(\"./30_activate_music.wav\")"
   ]
  },
  {
   "cell_type": "code",
   "execution_count": 18,
   "id": "285f1638",
   "metadata": {},
   "outputs": [],
   "source": [
    "filename1 = \"./Train_Dataset_Truncated/0_change languagenone.wav\"\n",
    "filename2 = \"./Train_Dataset_Truncated/15_deactivatelights.wav\"\n",
    "    \n",
    "    \n",
    "filename21 = \"./Train_Dataset_Truncated/113_increasevolume.wav\"\n",
    "filename22 = \"./Train_Dataset_Truncated/151_increasevolume.wav\"\n",
    "filename23 = \"./Train_Dataset_Truncated/212_increaseheat.wav\"\n",
    "    \n",
    "filename3 = \"./AudioFiles/1678717382.0476763.wav\"   \n",
    "filename4 = \"./AudioFiles/1678717386.5524414.wav\"\n",
    "filename5 = \"./AudioFiles/1678717391.0566754.wav\"\n",
    "filename6 = \"./AudioFiles/1678717395.5633824.wav\"  \n",
    "direct=\"./AudioFiles/\"\n",
    "filename7 = direct+\"4_increasevolume.wav\"\n",
    "\n",
    "                \n",
    "def test2(filename):\n",
    "    print(\"Prediction for\",filename)\n",
    "    frame_length_in_s = 0.04\n",
    "    frame_step_in_s   = frame_length_in_s\n",
    "    global state\n",
    "    audio_binary = tf.io.read_file(filename)\n",
    "    audio, sampling_rate = tf.audio.decode_wav(audio_binary)\n",
    "    audio = tf.squeeze(audio, axis=-1) #all our audio are mono, drop extra axis\n",
    "    \n",
    "    frame_length = int(frame_length_in_s * args.resolution)\n",
    "    frame_step = int(frame_step_in_s * args.resolution)\n",
    "    stft = tf.signal.stft(\n",
    "        audio,\n",
    "        frame_length=frame_length,\n",
    "        frame_step=frame_step,\n",
    "        fft_length=frame_length\n",
    "    )\n",
    "    \n",
    "    spectrogram = tf.abs(stft)\n",
    "    \n",
    "    mel_spectrogram = tf.matmul(spectrogram, linear_to_mel_weight_matrix)\n",
    "    log_mel_spectrogram = tf.math.log(mel_spectrogram + 1.e-6)\n",
    "    log_mel_spectrogram = tf.expand_dims(log_mel_spectrogram, 0)  # batch axis\n",
    "    log_mel_spectrogram = tf.expand_dims(log_mel_spectrogram, -1)  # channel axis\n",
    "    mfcss = tf.signal.mfccs_from_log_mel_spectrograms(log_mel_spectrogram)\n",
    "    #print(\"Shape \",input_details[0])\n",
    "    interpreter.set_tensor(input_details[0]['index'], mfcss)\n",
    "    interpreter.invoke()\n",
    "    output = interpreter.get_tensor(output_details[0]['index'])\n",
    "\n",
    "    print(\"change languagenone\",output[0][0]*100,\"%\")\n",
    "    print(\"activatemusic\",output[0][1]*100,\"%\")\n",
    "    print(\"deactivatelights\",output[0][2]*100,\"%\")\n",
    "    print(\"increasevolume\",output[0][3]*100,\"%\")\n",
    "    print(\"decreasevolume\",output[0][4]*100,\"%\")\n",
    "    print(\"increaseheat\",output[0][5]*100,\"%\")\n",
    "    print(\"decreaseheat\",output[0][6]*100,\"%\")\n",
    "    #print(\"nannan\",output[0][7]*100,\"%\")\n",
    "    \n",
    "    send_prediction_as_mqtt(output[0])"
   ]
  },
  {
   "cell_type": "code",
   "execution_count": 63,
   "id": "1fda8bf7",
   "metadata": {},
   "outputs": [
    {
     "name": "stdout",
     "output_type": "stream",
     "text": [
      "New Recording!\n",
      "\n",
      "0.9998976 % confidence, sending label to mqtt\n",
      "The predicted label is decreasevolume\n",
      "\n",
      "Elapsed time prediction:  0.08303117752075195\n"
     ]
    }
   ],
   "source": [
    "test(16,\"decreaseheat\")"
   ]
  },
  {
   "cell_type": "code",
   "execution_count": 20,
   "id": "fa60a52d",
   "metadata": {},
   "outputs": [],
   "source": [
    "direct=\"./AudioFiles/\"\n",
    "filename7 = direct+\"16_decreaseheat.wav\""
   ]
  },
  {
   "cell_type": "code",
   "execution_count": 21,
   "id": "114dafc4",
   "metadata": {
    "scrolled": true
   },
   "outputs": [
    {
     "name": "stdout",
     "output_type": "stream",
     "text": [
      "Prediction for ./AudioFiles/16_decreaseheat.wav\n"
     ]
    },
    {
     "name": "stderr",
     "output_type": "stream",
     "text": [
      "2023-05-14 16:06:02.238100: W tensorflow/core/framework/op_kernel.cc:1830] OP_REQUIRES failed at whole_file_read_ops.cc:114 : NOT_FOUND: ./AudioFiles/16_decreaseheat.wav; No such file or directory\n"
     ]
    },
    {
     "ename": "NotFoundError",
     "evalue": "{{function_node __wrapped__ReadFile_device_/job:localhost/replica:0/task:0/device:CPU:0}} ./AudioFiles/16_decreaseheat.wav; No such file or directory [Op:ReadFile]",
     "output_type": "error",
     "traceback": [
      "\u001b[0;31m---------------------------------------------------------------------------\u001b[0m",
      "\u001b[0;31mNotFoundError\u001b[0m                             Traceback (most recent call last)",
      "Cell \u001b[0;32mIn[21], line 1\u001b[0m\n\u001b[0;32m----> 1\u001b[0m \u001b[43mtest2\u001b[49m\u001b[43m(\u001b[49m\u001b[43mfilename7\u001b[49m\u001b[43m)\u001b[49m\n",
      "Cell \u001b[0;32mIn[18], line 22\u001b[0m, in \u001b[0;36mtest2\u001b[0;34m(filename)\u001b[0m\n\u001b[1;32m     20\u001b[0m frame_step_in_s   \u001b[38;5;241m=\u001b[39m frame_length_in_s\n\u001b[1;32m     21\u001b[0m \u001b[38;5;28;01mglobal\u001b[39;00m state\n\u001b[0;32m---> 22\u001b[0m audio_binary \u001b[38;5;241m=\u001b[39m \u001b[43mtf\u001b[49m\u001b[38;5;241;43m.\u001b[39;49m\u001b[43mio\u001b[49m\u001b[38;5;241;43m.\u001b[39;49m\u001b[43mread_file\u001b[49m\u001b[43m(\u001b[49m\u001b[43mfilename\u001b[49m\u001b[43m)\u001b[49m\n\u001b[1;32m     23\u001b[0m audio, sampling_rate \u001b[38;5;241m=\u001b[39m tf\u001b[38;5;241m.\u001b[39maudio\u001b[38;5;241m.\u001b[39mdecode_wav(audio_binary)\n\u001b[1;32m     24\u001b[0m audio \u001b[38;5;241m=\u001b[39m tf\u001b[38;5;241m.\u001b[39msqueeze(audio, axis\u001b[38;5;241m=\u001b[39m\u001b[38;5;241m-\u001b[39m\u001b[38;5;241m1\u001b[39m) \u001b[38;5;66;03m#all our audio are mono, drop extra axis\u001b[39;00m\n",
      "File \u001b[0;32m~/.local/lib/python3.11/site-packages/tensorflow/python/ops/io_ops.py:133\u001b[0m, in \u001b[0;36mread_file\u001b[0;34m(filename, name)\u001b[0m\n\u001b[1;32m     96\u001b[0m \u001b[38;5;129m@tf_export\u001b[39m(\u001b[38;5;124m\"\u001b[39m\u001b[38;5;124mio.read_file\u001b[39m\u001b[38;5;124m\"\u001b[39m, v1\u001b[38;5;241m=\u001b[39m[\u001b[38;5;124m\"\u001b[39m\u001b[38;5;124mio.read_file\u001b[39m\u001b[38;5;124m\"\u001b[39m, \u001b[38;5;124m\"\u001b[39m\u001b[38;5;124mread_file\u001b[39m\u001b[38;5;124m\"\u001b[39m])\n\u001b[1;32m     97\u001b[0m \u001b[38;5;28;01mdef\u001b[39;00m \u001b[38;5;21mread_file\u001b[39m(filename, name\u001b[38;5;241m=\u001b[39m\u001b[38;5;28;01mNone\u001b[39;00m):\n\u001b[1;32m     98\u001b[0m \u001b[38;5;250m  \u001b[39m\u001b[38;5;124;03m\"\"\"Reads the contents of file.\u001b[39;00m\n\u001b[1;32m     99\u001b[0m \n\u001b[1;32m    100\u001b[0m \u001b[38;5;124;03m  This operation returns a tensor with the entire contents of the input\u001b[39;00m\n\u001b[0;32m   (...)\u001b[0m\n\u001b[1;32m    131\u001b[0m \u001b[38;5;124;03m    A tensor of dtype \"string\", with the file contents.\u001b[39;00m\n\u001b[1;32m    132\u001b[0m \u001b[38;5;124;03m  \"\"\"\u001b[39;00m\n\u001b[0;32m--> 133\u001b[0m   \u001b[38;5;28;01mreturn\u001b[39;00m \u001b[43mgen_io_ops\u001b[49m\u001b[38;5;241;43m.\u001b[39;49m\u001b[43mread_file\u001b[49m\u001b[43m(\u001b[49m\u001b[43mfilename\u001b[49m\u001b[43m,\u001b[49m\u001b[43m \u001b[49m\u001b[43mname\u001b[49m\u001b[43m)\u001b[49m\n",
      "File \u001b[0;32m~/.local/lib/python3.11/site-packages/tensorflow/python/ops/gen_io_ops.py:581\u001b[0m, in \u001b[0;36mread_file\u001b[0;34m(filename, name)\u001b[0m\n\u001b[1;32m    579\u001b[0m   \u001b[38;5;28;01mpass\u001b[39;00m\n\u001b[1;32m    580\u001b[0m \u001b[38;5;28;01mtry\u001b[39;00m:\n\u001b[0;32m--> 581\u001b[0m   \u001b[38;5;28;01mreturn\u001b[39;00m \u001b[43mread_file_eager_fallback\u001b[49m\u001b[43m(\u001b[49m\n\u001b[1;32m    582\u001b[0m \u001b[43m      \u001b[49m\u001b[43mfilename\u001b[49m\u001b[43m,\u001b[49m\u001b[43m \u001b[49m\u001b[43mname\u001b[49m\u001b[38;5;241;43m=\u001b[39;49m\u001b[43mname\u001b[49m\u001b[43m,\u001b[49m\u001b[43m \u001b[49m\u001b[43mctx\u001b[49m\u001b[38;5;241;43m=\u001b[39;49m\u001b[43m_ctx\u001b[49m\u001b[43m)\u001b[49m\n\u001b[1;32m    583\u001b[0m \u001b[38;5;28;01mexcept\u001b[39;00m _core\u001b[38;5;241m.\u001b[39m_SymbolicException:\n\u001b[1;32m    584\u001b[0m   \u001b[38;5;28;01mpass\u001b[39;00m  \u001b[38;5;66;03m# Add nodes to the TensorFlow graph.\u001b[39;00m\n",
      "File \u001b[0;32m~/.local/lib/python3.11/site-packages/tensorflow/python/ops/gen_io_ops.py:604\u001b[0m, in \u001b[0;36mread_file_eager_fallback\u001b[0;34m(filename, name, ctx)\u001b[0m\n\u001b[1;32m    602\u001b[0m _inputs_flat \u001b[38;5;241m=\u001b[39m [filename]\n\u001b[1;32m    603\u001b[0m _attrs \u001b[38;5;241m=\u001b[39m \u001b[38;5;28;01mNone\u001b[39;00m\n\u001b[0;32m--> 604\u001b[0m _result \u001b[38;5;241m=\u001b[39m \u001b[43m_execute\u001b[49m\u001b[38;5;241;43m.\u001b[39;49m\u001b[43mexecute\u001b[49m\u001b[43m(\u001b[49m\u001b[38;5;124;43mb\u001b[39;49m\u001b[38;5;124;43m\"\u001b[39;49m\u001b[38;5;124;43mReadFile\u001b[39;49m\u001b[38;5;124;43m\"\u001b[39;49m\u001b[43m,\u001b[49m\u001b[43m \u001b[49m\u001b[38;5;241;43m1\u001b[39;49m\u001b[43m,\u001b[49m\u001b[43m \u001b[49m\u001b[43minputs\u001b[49m\u001b[38;5;241;43m=\u001b[39;49m\u001b[43m_inputs_flat\u001b[49m\u001b[43m,\u001b[49m\n\u001b[1;32m    605\u001b[0m \u001b[43m                           \u001b[49m\u001b[43mattrs\u001b[49m\u001b[38;5;241;43m=\u001b[39;49m\u001b[43m_attrs\u001b[49m\u001b[43m,\u001b[49m\u001b[43m \u001b[49m\u001b[43mctx\u001b[49m\u001b[38;5;241;43m=\u001b[39;49m\u001b[43mctx\u001b[49m\u001b[43m,\u001b[49m\u001b[43m \u001b[49m\u001b[43mname\u001b[49m\u001b[38;5;241;43m=\u001b[39;49m\u001b[43mname\u001b[49m\u001b[43m)\u001b[49m\n\u001b[1;32m    606\u001b[0m \u001b[38;5;28;01mif\u001b[39;00m _execute\u001b[38;5;241m.\u001b[39mmust_record_gradient():\n\u001b[1;32m    607\u001b[0m   _execute\u001b[38;5;241m.\u001b[39mrecord_gradient(\n\u001b[1;32m    608\u001b[0m       \u001b[38;5;124m\"\u001b[39m\u001b[38;5;124mReadFile\u001b[39m\u001b[38;5;124m\"\u001b[39m, _inputs_flat, _attrs, _result)\n",
      "File \u001b[0;32m~/.local/lib/python3.11/site-packages/tensorflow/python/eager/execute.py:52\u001b[0m, in \u001b[0;36mquick_execute\u001b[0;34m(op_name, num_outputs, inputs, attrs, ctx, name)\u001b[0m\n\u001b[1;32m     50\u001b[0m \u001b[38;5;28;01mtry\u001b[39;00m:\n\u001b[1;32m     51\u001b[0m   ctx\u001b[38;5;241m.\u001b[39mensure_initialized()\n\u001b[0;32m---> 52\u001b[0m   tensors \u001b[38;5;241m=\u001b[39m \u001b[43mpywrap_tfe\u001b[49m\u001b[38;5;241;43m.\u001b[39;49m\u001b[43mTFE_Py_Execute\u001b[49m\u001b[43m(\u001b[49m\u001b[43mctx\u001b[49m\u001b[38;5;241;43m.\u001b[39;49m\u001b[43m_handle\u001b[49m\u001b[43m,\u001b[49m\u001b[43m \u001b[49m\u001b[43mdevice_name\u001b[49m\u001b[43m,\u001b[49m\u001b[43m \u001b[49m\u001b[43mop_name\u001b[49m\u001b[43m,\u001b[49m\n\u001b[1;32m     53\u001b[0m \u001b[43m                                      \u001b[49m\u001b[43minputs\u001b[49m\u001b[43m,\u001b[49m\u001b[43m \u001b[49m\u001b[43mattrs\u001b[49m\u001b[43m,\u001b[49m\u001b[43m \u001b[49m\u001b[43mnum_outputs\u001b[49m\u001b[43m)\u001b[49m\n\u001b[1;32m     54\u001b[0m \u001b[38;5;28;01mexcept\u001b[39;00m core\u001b[38;5;241m.\u001b[39m_NotOkStatusException \u001b[38;5;28;01mas\u001b[39;00m e:\n\u001b[1;32m     55\u001b[0m   \u001b[38;5;28;01mif\u001b[39;00m name \u001b[38;5;129;01mis\u001b[39;00m \u001b[38;5;129;01mnot\u001b[39;00m \u001b[38;5;28;01mNone\u001b[39;00m:\n",
      "\u001b[0;31mNotFoundError\u001b[0m: {{function_node __wrapped__ReadFile_device_/job:localhost/replica:0/task:0/device:CPU:0}} ./AudioFiles/16_decreaseheat.wav; No such file or directory [Op:ReadFile]"
     ]
    }
   ],
   "source": [
    "test2(filename7)"
   ]
  },
  {
   "cell_type": "code",
   "execution_count": 22,
   "id": "9d16b475",
   "metadata": {},
   "outputs": [
    {
     "name": "stdout",
     "output_type": "stream",
     "text": [
      "Prediction for 1684073048.7274985.wav\n",
      "change languagenone 4.6031846778760155e-06 %\n",
      "activatemusic 2.696489076470243e-06 %\n",
      "deactivatelights 1.3059490988620581e-08 %\n",
      "increasevolume 0.007561837992398068 %\n",
      "decreasevolume 6.421094553843432e-05 %\n",
      "increaseheat 58.59284996986389 %\n",
      "decreaseheat 41.39951467514038 %\n",
      "Low confidence, sending noise to mqtt\n",
      "\n"
     ]
    }
   ],
   "source": [
    "test2(\"1684073048.7274985.wav\")"
   ]
  },
  {
   "cell_type": "code",
   "execution_count": 29,
   "id": "47a6cf2a",
   "metadata": {},
   "outputs": [
    {
     "name": "stdout",
     "output_type": "stream",
     "text": [
      "New Recording!\n",
      "\n",
      "Size: 62.54KB\n"
     ]
    }
   ],
   "source": [
    "test(30,\"activate_music\")"
   ]
  },
  {
   "cell_type": "code",
   "execution_count": 28,
   "id": "0f4da042",
   "metadata": {},
   "outputs": [
    {
     "name": "stdout",
     "output_type": "stream",
     "text": [
      "Prediction for 30_activate_music\n"
     ]
    },
    {
     "name": "stderr",
     "output_type": "stream",
     "text": [
      "2023-05-14 16:09:45.995674: W tensorflow/core/framework/op_kernel.cc:1830] OP_REQUIRES failed at whole_file_read_ops.cc:114 : NOT_FOUND: 30_activate_music; No such file or directory\n"
     ]
    },
    {
     "ename": "NotFoundError",
     "evalue": "{{function_node __wrapped__ReadFile_device_/job:localhost/replica:0/task:0/device:CPU:0}} 30_activate_music; No such file or directory [Op:ReadFile]",
     "output_type": "error",
     "traceback": [
      "\u001b[0;31m---------------------------------------------------------------------------\u001b[0m",
      "\u001b[0;31mNotFoundError\u001b[0m                             Traceback (most recent call last)",
      "Cell \u001b[0;32mIn[28], line 1\u001b[0m\n\u001b[0;32m----> 1\u001b[0m \u001b[43mtest2\u001b[49m\u001b[43m(\u001b[49m\u001b[38;5;124;43m\"\u001b[39;49m\u001b[38;5;124;43m30_activate_music\u001b[39;49m\u001b[38;5;124;43m\"\u001b[39;49m\u001b[43m)\u001b[49m\n",
      "Cell \u001b[0;32mIn[18], line 22\u001b[0m, in \u001b[0;36mtest2\u001b[0;34m(filename)\u001b[0m\n\u001b[1;32m     20\u001b[0m frame_step_in_s   \u001b[38;5;241m=\u001b[39m frame_length_in_s\n\u001b[1;32m     21\u001b[0m \u001b[38;5;28;01mglobal\u001b[39;00m state\n\u001b[0;32m---> 22\u001b[0m audio_binary \u001b[38;5;241m=\u001b[39m \u001b[43mtf\u001b[49m\u001b[38;5;241;43m.\u001b[39;49m\u001b[43mio\u001b[49m\u001b[38;5;241;43m.\u001b[39;49m\u001b[43mread_file\u001b[49m\u001b[43m(\u001b[49m\u001b[43mfilename\u001b[49m\u001b[43m)\u001b[49m\n\u001b[1;32m     23\u001b[0m audio, sampling_rate \u001b[38;5;241m=\u001b[39m tf\u001b[38;5;241m.\u001b[39maudio\u001b[38;5;241m.\u001b[39mdecode_wav(audio_binary)\n\u001b[1;32m     24\u001b[0m audio \u001b[38;5;241m=\u001b[39m tf\u001b[38;5;241m.\u001b[39msqueeze(audio, axis\u001b[38;5;241m=\u001b[39m\u001b[38;5;241m-\u001b[39m\u001b[38;5;241m1\u001b[39m) \u001b[38;5;66;03m#all our audio are mono, drop extra axis\u001b[39;00m\n",
      "File \u001b[0;32m~/.local/lib/python3.11/site-packages/tensorflow/python/ops/io_ops.py:133\u001b[0m, in \u001b[0;36mread_file\u001b[0;34m(filename, name)\u001b[0m\n\u001b[1;32m     96\u001b[0m \u001b[38;5;129m@tf_export\u001b[39m(\u001b[38;5;124m\"\u001b[39m\u001b[38;5;124mio.read_file\u001b[39m\u001b[38;5;124m\"\u001b[39m, v1\u001b[38;5;241m=\u001b[39m[\u001b[38;5;124m\"\u001b[39m\u001b[38;5;124mio.read_file\u001b[39m\u001b[38;5;124m\"\u001b[39m, \u001b[38;5;124m\"\u001b[39m\u001b[38;5;124mread_file\u001b[39m\u001b[38;5;124m\"\u001b[39m])\n\u001b[1;32m     97\u001b[0m \u001b[38;5;28;01mdef\u001b[39;00m \u001b[38;5;21mread_file\u001b[39m(filename, name\u001b[38;5;241m=\u001b[39m\u001b[38;5;28;01mNone\u001b[39;00m):\n\u001b[1;32m     98\u001b[0m \u001b[38;5;250m  \u001b[39m\u001b[38;5;124;03m\"\"\"Reads the contents of file.\u001b[39;00m\n\u001b[1;32m     99\u001b[0m \n\u001b[1;32m    100\u001b[0m \u001b[38;5;124;03m  This operation returns a tensor with the entire contents of the input\u001b[39;00m\n\u001b[0;32m   (...)\u001b[0m\n\u001b[1;32m    131\u001b[0m \u001b[38;5;124;03m    A tensor of dtype \"string\", with the file contents.\u001b[39;00m\n\u001b[1;32m    132\u001b[0m \u001b[38;5;124;03m  \"\"\"\u001b[39;00m\n\u001b[0;32m--> 133\u001b[0m   \u001b[38;5;28;01mreturn\u001b[39;00m \u001b[43mgen_io_ops\u001b[49m\u001b[38;5;241;43m.\u001b[39;49m\u001b[43mread_file\u001b[49m\u001b[43m(\u001b[49m\u001b[43mfilename\u001b[49m\u001b[43m,\u001b[49m\u001b[43m \u001b[49m\u001b[43mname\u001b[49m\u001b[43m)\u001b[49m\n",
      "File \u001b[0;32m~/.local/lib/python3.11/site-packages/tensorflow/python/ops/gen_io_ops.py:581\u001b[0m, in \u001b[0;36mread_file\u001b[0;34m(filename, name)\u001b[0m\n\u001b[1;32m    579\u001b[0m   \u001b[38;5;28;01mpass\u001b[39;00m\n\u001b[1;32m    580\u001b[0m \u001b[38;5;28;01mtry\u001b[39;00m:\n\u001b[0;32m--> 581\u001b[0m   \u001b[38;5;28;01mreturn\u001b[39;00m \u001b[43mread_file_eager_fallback\u001b[49m\u001b[43m(\u001b[49m\n\u001b[1;32m    582\u001b[0m \u001b[43m      \u001b[49m\u001b[43mfilename\u001b[49m\u001b[43m,\u001b[49m\u001b[43m \u001b[49m\u001b[43mname\u001b[49m\u001b[38;5;241;43m=\u001b[39;49m\u001b[43mname\u001b[49m\u001b[43m,\u001b[49m\u001b[43m \u001b[49m\u001b[43mctx\u001b[49m\u001b[38;5;241;43m=\u001b[39;49m\u001b[43m_ctx\u001b[49m\u001b[43m)\u001b[49m\n\u001b[1;32m    583\u001b[0m \u001b[38;5;28;01mexcept\u001b[39;00m _core\u001b[38;5;241m.\u001b[39m_SymbolicException:\n\u001b[1;32m    584\u001b[0m   \u001b[38;5;28;01mpass\u001b[39;00m  \u001b[38;5;66;03m# Add nodes to the TensorFlow graph.\u001b[39;00m\n",
      "File \u001b[0;32m~/.local/lib/python3.11/site-packages/tensorflow/python/ops/gen_io_ops.py:604\u001b[0m, in \u001b[0;36mread_file_eager_fallback\u001b[0;34m(filename, name, ctx)\u001b[0m\n\u001b[1;32m    602\u001b[0m _inputs_flat \u001b[38;5;241m=\u001b[39m [filename]\n\u001b[1;32m    603\u001b[0m _attrs \u001b[38;5;241m=\u001b[39m \u001b[38;5;28;01mNone\u001b[39;00m\n\u001b[0;32m--> 604\u001b[0m _result \u001b[38;5;241m=\u001b[39m \u001b[43m_execute\u001b[49m\u001b[38;5;241;43m.\u001b[39;49m\u001b[43mexecute\u001b[49m\u001b[43m(\u001b[49m\u001b[38;5;124;43mb\u001b[39;49m\u001b[38;5;124;43m\"\u001b[39;49m\u001b[38;5;124;43mReadFile\u001b[39;49m\u001b[38;5;124;43m\"\u001b[39;49m\u001b[43m,\u001b[49m\u001b[43m \u001b[49m\u001b[38;5;241;43m1\u001b[39;49m\u001b[43m,\u001b[49m\u001b[43m \u001b[49m\u001b[43minputs\u001b[49m\u001b[38;5;241;43m=\u001b[39;49m\u001b[43m_inputs_flat\u001b[49m\u001b[43m,\u001b[49m\n\u001b[1;32m    605\u001b[0m \u001b[43m                           \u001b[49m\u001b[43mattrs\u001b[49m\u001b[38;5;241;43m=\u001b[39;49m\u001b[43m_attrs\u001b[49m\u001b[43m,\u001b[49m\u001b[43m \u001b[49m\u001b[43mctx\u001b[49m\u001b[38;5;241;43m=\u001b[39;49m\u001b[43mctx\u001b[49m\u001b[43m,\u001b[49m\u001b[43m \u001b[49m\u001b[43mname\u001b[49m\u001b[38;5;241;43m=\u001b[39;49m\u001b[43mname\u001b[49m\u001b[43m)\u001b[49m\n\u001b[1;32m    606\u001b[0m \u001b[38;5;28;01mif\u001b[39;00m _execute\u001b[38;5;241m.\u001b[39mmust_record_gradient():\n\u001b[1;32m    607\u001b[0m   _execute\u001b[38;5;241m.\u001b[39mrecord_gradient(\n\u001b[1;32m    608\u001b[0m       \u001b[38;5;124m\"\u001b[39m\u001b[38;5;124mReadFile\u001b[39m\u001b[38;5;124m\"\u001b[39m, _inputs_flat, _attrs, _result)\n",
      "File \u001b[0;32m~/.local/lib/python3.11/site-packages/tensorflow/python/eager/execute.py:52\u001b[0m, in \u001b[0;36mquick_execute\u001b[0;34m(op_name, num_outputs, inputs, attrs, ctx, name)\u001b[0m\n\u001b[1;32m     50\u001b[0m \u001b[38;5;28;01mtry\u001b[39;00m:\n\u001b[1;32m     51\u001b[0m   ctx\u001b[38;5;241m.\u001b[39mensure_initialized()\n\u001b[0;32m---> 52\u001b[0m   tensors \u001b[38;5;241m=\u001b[39m \u001b[43mpywrap_tfe\u001b[49m\u001b[38;5;241;43m.\u001b[39;49m\u001b[43mTFE_Py_Execute\u001b[49m\u001b[43m(\u001b[49m\u001b[43mctx\u001b[49m\u001b[38;5;241;43m.\u001b[39;49m\u001b[43m_handle\u001b[49m\u001b[43m,\u001b[49m\u001b[43m \u001b[49m\u001b[43mdevice_name\u001b[49m\u001b[43m,\u001b[49m\u001b[43m \u001b[49m\u001b[43mop_name\u001b[49m\u001b[43m,\u001b[49m\n\u001b[1;32m     53\u001b[0m \u001b[43m                                      \u001b[49m\u001b[43minputs\u001b[49m\u001b[43m,\u001b[49m\u001b[43m \u001b[49m\u001b[43mattrs\u001b[49m\u001b[43m,\u001b[49m\u001b[43m \u001b[49m\u001b[43mnum_outputs\u001b[49m\u001b[43m)\u001b[49m\n\u001b[1;32m     54\u001b[0m \u001b[38;5;28;01mexcept\u001b[39;00m core\u001b[38;5;241m.\u001b[39m_NotOkStatusException \u001b[38;5;28;01mas\u001b[39;00m e:\n\u001b[1;32m     55\u001b[0m   \u001b[38;5;28;01mif\u001b[39;00m name \u001b[38;5;129;01mis\u001b[39;00m \u001b[38;5;129;01mnot\u001b[39;00m \u001b[38;5;28;01mNone\u001b[39;00m:\n",
      "\u001b[0;31mNotFoundError\u001b[0m: {{function_node __wrapped__ReadFile_device_/job:localhost/replica:0/task:0/device:CPU:0}} 30_activate_music; No such file or directory [Op:ReadFile]"
     ]
    }
   ],
   "source": [
    "test2(\"30_activate_music\")"
   ]
  },
  {
   "cell_type": "code",
   "execution_count": null,
   "id": "efce98bb",
   "metadata": {},
   "outputs": [],
   "source": []
  }
 ],
 "metadata": {
  "kernelspec": {
   "display_name": "Python 3 (ipykernel)",
   "language": "python",
   "name": "python3"
  },
  "language_info": {
   "codemirror_mode": {
    "name": "ipython",
    "version": 3
   },
   "file_extension": ".py",
   "mimetype": "text/x-python",
   "name": "python",
   "nbconvert_exporter": "python",
   "pygments_lexer": "ipython3",
   "version": "3.10.9"
  }
 },
 "nbformat": 4,
 "nbformat_minor": 5
}
