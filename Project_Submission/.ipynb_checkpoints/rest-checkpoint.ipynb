{
 "cells": [
  {
   "cell_type": "code",
   "execution_count": 2,
   "id": "81e5bc91",
   "metadata": {},
   "outputs": [],
   "source": [
    "import cherrypy\n",
    "import json\n",
    "import redis\n",
    "import psutil\n",
    "import uuid\n",
    "from redis.commands.json.path import Path\n",
    "import pandas as pd\n",
    "import time\n",
    "from datetime import datetime"
   ]
  },
  {
   "cell_type": "code",
   "execution_count": 3,
   "id": "4edbb954",
   "metadata": {},
   "outputs": [],
   "source": [
    "REDIS_HOST = 'redis-15285.c55.eu-central-1-1.ec2.cloud.redislabs.com'\n",
    "REDIS_PORT = 15285\n",
    "REDIS_USERNAME = 'default'\n",
    "REDIS_PASSWORD = 'jIhc6ILZOleRAZ3hOcSIylnJr8ZyBtRT'"
   ]
  },
  {
   "cell_type": "code",
   "execution_count": 4,
   "id": "f74ee18d",
   "metadata": {},
   "outputs": [],
   "source": [
    "# Connect to Redis server\n",
    "redis_client = redis.Redis(\n",
    "    host=REDIS_HOST, \n",
    "    port=REDIS_PORT, \n",
    "    username=REDIS_USERNAME, \n",
    "    password=REDIS_PASSWORD)"
   ]
  },
  {
   "cell_type": "code",
   "execution_count": 5,
   "id": "d5144a8a",
   "metadata": {},
   "outputs": [],
   "source": [
    "try:\n",
    "    is_connected_redis = redis_client.ping()\n",
    "except:\n",
    "    is_connected_redis = False\n",
    "    pass"
   ]
  },
  {
   "cell_type": "code",
   "execution_count": 6,
   "id": "6f511c8e",
   "metadata": {},
   "outputs": [
    {
     "name": "stdout",
     "output_type": "stream",
     "text": [
      "[b'0x86ac561e351_AudioIOT', b'0xb0a46095b5ff_AudioIOT']\n"
     ]
    }
   ],
   "source": [
    "try:\n",
    "    keys = redis_client.keys('*')\n",
    "    print(keys)\n",
    "except:\n",
    "    is_connected_redis = False\n",
    "    pass"
   ]
  },
  {
   "cell_type": "code",
   "execution_count": 7,
   "id": "b5235f19",
   "metadata": {},
   "outputs": [],
   "source": [
    "#Endpoint /devices\n",
    "\n",
    "mac_addresses = set()\n",
    "\n",
    "\n",
    "class Status(object):\n",
    "    exposed = True\n",
    "\n",
    "    def GET(self, *path, **query):\n",
    "        global mac_addresses\n",
    "        mac_addresses = set()\n",
    "        \n",
    "        try:\n",
    "            is_connected_redis = redis_client.ping()\n",
    "        except redis.exceptions.ConnectionError as e:\n",
    "            raise cherrypy.HTTPError(400, \"Unable to connect to redis server on server end. Is service running?\")\n",
    "        \n",
    "        keys = redis_client.keys('*')\n",
    "        for key in keys:\n",
    "            mac_addr = str(key).split(\"_\")[0]\n",
    "            mac_addr=mac_addr[2:]\n",
    "            mac_addresses.add(mac_addr)\n",
    "        dic_mac={}\n",
    "        dic_mac[\"mac_addresses\"]=list(mac_addresses)\n",
    "        response=json.dumps(dic_mac)\n",
    "        return response"
   ]
  },
  {
   "cell_type": "code",
   "execution_count": 10,
   "id": "01a41c95",
   "metadata": {},
   "outputs": [],
   "source": [
    "class TodoDetail(object):\n",
    "    exposed = True \n",
    "    #@cherrypy.tools.json_out()\n",
    "    #@cherrypy.tools.json_in()\n",
    "    \n",
    "    def GET(self, *path, **query):\n",
    "\n",
    "        path = next(iter(path), None)\n",
    "        fromtime = query.get('fromtime',None)\n",
    "        totime = query.get('totime',None)\n",
    "        \n",
    "        mac_address_to_monitor = path\n",
    "        \n",
    "        try:\n",
    "            is_connected_redis = redis_client.ping()\n",
    "        except redis.exceptions.ConnectionError as e:\n",
    "            raise cherrypy.HTTPError(400, \"Unable to connect to redis server on server end. Is service running?\")\n",
    "        \n",
    "        \n",
    "        if path == None:\n",
    "            raise cherrypy.HTTPError(400, \"No MAC address specified\")\n",
    "        \n",
    "        #if not mac_address_to_monitor:\n",
    "        #    raise cherrypy.HTTPError(400, \"Mac address missing\")\n",
    "    \n",
    "        if fromtime and totime:\n",
    "            fromtime = int(fromtime)\n",
    "            totime   = int(totime)\n",
    "            if  fromtime > totime :\n",
    "                raise cherrypy.HTTPError(400, \"Sorry, cannot set fromtime>totime\")\n",
    "            #label\n",
    "            try:\n",
    "                values_label_predictions = redis_client.ts().range('{}_AudioIOT'.format(mac_address_to_monitor), fromtime, totime)\n",
    "            except:\n",
    "                raise cherrypy.HTTPError(400, \"Sorry, cannot get MAC address informations\")\n",
    "            result_dict = {}\n",
    "            df_predictions = pd.DataFrame(values_label_predictions, columns=['Datetime', 'Labels'])\n",
    "            result_dict[\"mac_address\"] = mac_address_to_monitor\n",
    "            result_dict[\"timestamps\"]= list(df_predictions['Datetime'])\n",
    "            result_dict[\"labels\"]=list(df_predictions[\"Labels\"])\n",
    "            result = json.dumps(result_dict)\n",
    "            return result\n",
    "        else:\n",
    "            return '''\n",
    "            <html>\n",
    "                <head>\n",
    "                    <style>\n",
    "                        input[type=\"range\"] {\n",
    "                            width: 80%;\n",
    "                            height: 30px;\n",
    "                        }\n",
    "                    </style>\n",
    "                </head>\n",
    "                <body>\n",
    "                    <form method=\"get\" action=\"\">\n",
    "                        <label for=\"fromtime\">From Time:</label>\n",
    "                        <input type=\"range\" name=\"fromtime\" id=\"fromtime\" min=\"1622505600000\" max=\"1735660800000\" value=\"1622505600000\" step=\"1000\" oninput=\"updateDisplay('fromtimeDisplay', 'fromtimeActual', this.value)\">\n",
    "                        <br>\n",
    "                        <label for=\"totime\">To Time:</label>\n",
    "                        <input type=\"range\" name=\"totime\" id=\"totime\" min=\"1622505600000\" max=\"1735660800000\" value=\"1672463999000\" step=\"1000\" oninput=\"updateDisplay('totimeDisplay', 'totimeActual', this.value)\">\n",
    "                        <br>\n",
    "                        <div>From Time: <span id=\"fromtimeDisplay\">2021-06-01 00:00:00</span></div>\n",
    "                        <div>To Time: <span id=\"totimeDisplay\">2023-12-31 23:59:59</span></div>\n",
    "                        <br>\n",
    "                        <div>From Time (raw): <span id=\"fromtimeActual\">1622505600000</span></div>\n",
    "                        <div>To Time (raw): <span id=\"totimeActual\">1672463999000</span></div>\n",
    "                        <br>\n",
    "                        <input type=\"submit\" value=\"Submit\">\n",
    "                    </form>\n",
    "                    \n",
    "                    <script>\n",
    "                        function updateDisplay(humanReadableId, actualId, timestamp) {\n",
    "                            const date = new Date(parseInt(timestamp));\n",
    "                            const formattedDate = date.toLocaleString();\n",
    "                            document.getElementById(humanReadableId).textContent = formattedDate;\n",
    "                            document.getElementById(actualId).textContent = timestamp;\n",
    "                        }\n",
    "                    </script>\n",
    "                </body>\n",
    "            </html>\n",
    "        '''"
   ]
  },
  {
   "cell_type": "code",
   "execution_count": null,
   "id": "7108fc72",
   "metadata": {},
   "outputs": [
    {
     "name": "stderr",
     "output_type": "stream",
     "text": [
      "[17/May/2023:10:43:26] ENGINE Bus STARTING\n",
      "[17/May/2023:10:43:26] ENGINE Started monitor thread 'Autoreloader'.\n",
      "[17/May/2023:10:43:26] ENGINE Serving on http://0.0.0.0:8082\n",
      "[17/May/2023:10:43:26] ENGINE Bus STARTED\n"
     ]
    },
    {
     "name": "stdout",
     "output_type": "stream",
     "text": [
      "127.0.0.1 - - [17/May/2023:10:43:30] \"GET /device/67474 HTTP/1.1\" 200 2083 \"\" \"Mozilla/5.0 (X11; Linux x86_64; rv:109.0) Gecko/20100101 Firefox/113.0\"\n",
      "127.0.0.1 - - [17/May/2023:10:43:32] \"GET /device/67474?fromtime=1622505600000&totime=1672463999000 HTTP/1.1\" 400 2997 \"http://localhost:8082/device/67474\" \"Mozilla/5.0 (X11; Linux x86_64; rv:109.0) Gecko/20100101 Firefox/113.0\"\n",
      "127.0.0.1 - - [17/May/2023:10:43:42] \"GET /device/67474?fromtime=1676628234000&totime=1672463999000 HTTP/1.1\" 400 1587 \"http://localhost:8082/device/67474\" \"Mozilla/5.0 (X11; Linux x86_64; rv:109.0) Gecko/20100101 Firefox/113.0\"\n",
      "127.0.0.1 - - [17/May/2023:10:43:50] \"GET /devices HTTP/1.1\" 200 54 \"\" \"Mozilla/5.0 (X11; Linux x86_64; rv:109.0) Gecko/20100101 Firefox/113.0\"\n",
      "127.0.0.1 - - [17/May/2023:10:43:58] \"GET /device/0xb0a46095b5ff HTTP/1.1\" 200 2083 \"\" \"Mozilla/5.0 (X11; Linux x86_64; rv:109.0) Gecko/20100101 Firefox/113.0\"\n",
      "127.0.0.1 - - [17/May/2023:10:44:00] \"GET /device/0xb0a46095b5ff?fromtime=1622505600000&totime=1672463999000 HTTP/1.1\" 200 65 \"http://localhost:8082/device/0xb0a46095b5ff\" \"Mozilla/5.0 (X11; Linux x86_64; rv:109.0) Gecko/20100101 Firefox/113.0\"\n",
      "127.0.0.1 - - [17/May/2023:10:44:07] \"GET /device/0xb0a46095b5ff?fromtime=1622505600000&totime=1716979592000 HTTP/1.1\" 200 2121 \"http://localhost:8082/device/0xb0a46095b5ff\" \"Mozilla/5.0 (X11; Linux x86_64; rv:109.0) Gecko/20100101 Firefox/113.0\"\n"
     ]
    }
   ],
   "source": [
    "if __name__ == '__main__' and is_connected_redis == True:\n",
    "    conf = {'/': {'request.dispatch': cherrypy.dispatch.MethodDispatcher()}}\n",
    "    cherrypy.tree.mount(Status(), '/devices', conf)\n",
    "    cherrypy.tree.mount(TodoDetail(), '/device', conf)\n",
    "    #cherrypy.tree.mount(TodoDetail(), '/device', conf)\n",
    "    cherrypy.config.update({'server.socket_host': '0.0.0.0'})\n",
    "    cherrypy.config.update({'server.socket_port': 8082})\n",
    "    cherrypy.engine.start() \n",
    "    #cherrypy.quickstart()\n",
    "    cherrypy.engine.block()\n"
   ]
  },
  {
   "cell_type": "code",
   "execution_count": null,
   "id": "f754f767",
   "metadata": {},
   "outputs": [],
   "source": []
  }
 ],
 "metadata": {
  "kernelspec": {
   "display_name": "Python 3 (ipykernel)",
   "language": "python",
   "name": "python3"
  },
  "language_info": {
   "codemirror_mode": {
    "name": "ipython",
    "version": 3
   },
   "file_extension": ".py",
   "mimetype": "text/x-python",
   "name": "python",
   "nbconvert_exporter": "python",
   "pygments_lexer": "ipython3",
   "version": "3.10.10"
  }
 },
 "nbformat": 4,
 "nbformat_minor": 5
}
