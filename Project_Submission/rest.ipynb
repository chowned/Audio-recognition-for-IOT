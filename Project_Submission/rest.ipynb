{
 "cells": [
  {
   "cell_type": "code",
   "execution_count": 1,
   "id": "81e5bc91",
   "metadata": {},
   "outputs": [
    {
     "name": "stdout",
     "output_type": "stream",
     "text": [
      "Redis Connected: True\n",
      "[b'AudioIOT']\n"
     ]
    }
   ],
   "source": [
    "import cherrypy\n",
    "import json\n",
    "import redis\n",
    "import psutil\n",
    "import uuid\n",
    "from redis.commands.json.path import Path\n",
    "import pandas as pd\n",
    "import time\n",
    "from datetime import datetime\n",
    "\n",
    "\n",
    "REDIS_HOST = 'redis-15285.c55.eu-central-1-1.ec2.cloud.redislabs.com'\n",
    "REDIS_PORT = 15285\n",
    "REDIS_USERNAME = 'default'\n",
    "REDIS_PASSWORD = 'jIhc6ILZOleRAZ3hOcSIylnJr8ZyBtRT'\n",
    "\n",
    "# Connect to Redis server\n",
    "\n",
    "redis_client = redis.Redis(\n",
    "    host=REDIS_HOST, \n",
    "    port=REDIS_PORT, \n",
    "    username=REDIS_USERNAME, \n",
    "    password=REDIS_PASSWORD)\n",
    "is_connected = redis_client.ping()\n",
    "print('Redis Connected:', is_connected)\n",
    "#redis_client.flushdb()\n",
    "keys = redis_client.keys('*')\n",
    "print(keys)"
   ]
  },
  {
   "cell_type": "code",
   "execution_count": null,
   "id": "b5235f19",
   "metadata": {},
   "outputs": [],
   "source": []
  }
 ],
 "metadata": {
  "kernelspec": {
   "display_name": "Python 3 (ipykernel)",
   "language": "python",
   "name": "python3"
  },
  "language_info": {
   "codemirror_mode": {
    "name": "ipython",
    "version": 3
   },
   "file_extension": ".py",
   "mimetype": "text/x-python",
   "name": "python",
   "nbconvert_exporter": "python",
   "pygments_lexer": "ipython3",
   "version": "3.10.9"
  }
 },
 "nbformat": 4,
 "nbformat_minor": 5
}
