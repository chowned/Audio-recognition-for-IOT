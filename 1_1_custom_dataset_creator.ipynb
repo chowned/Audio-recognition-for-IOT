{
 "cells": [
  {
   "cell_type": "code",
   "execution_count": 1,
   "id": "01f209ac",
   "metadata": {},
   "outputs": [
    {
     "name": "stderr",
     "output_type": "stream",
     "text": [
      "2023-03-22 21:39:12.322672: I tensorflow/core/platform/cpu_feature_guard.cc:193] This TensorFlow binary is optimized with oneAPI Deep Neural Network Library (oneDNN) to use the following CPU instructions in performance-critical operations:  AVX2 FMA\n",
      "To enable them in other operations, rebuild TensorFlow with the appropriate compiler flags.\n",
      "2023-03-22 21:39:12.420962: W tensorflow/stream_executor/platform/default/dso_loader.cc:64] Could not load dynamic library 'libcudart.so.11.0'; dlerror: libcudart.so.11.0: cannot open shared object file: No such file or directory\n",
      "2023-03-22 21:39:12.420977: I tensorflow/stream_executor/cuda/cudart_stub.cc:29] Ignore above cudart dlerror if you do not have a GPU set up on your machine.\n",
      "2023-03-22 21:39:12.442611: E tensorflow/stream_executor/cuda/cuda_blas.cc:2981] Unable to register cuBLAS factory: Attempting to register factory for plugin cuBLAS when one has already been registered\n",
      "2023-03-22 21:39:12.860299: W tensorflow/stream_executor/platform/default/dso_loader.cc:64] Could not load dynamic library 'libnvinfer.so.7'; dlerror: libnvinfer.so.7: cannot open shared object file: No such file or directory\n",
      "2023-03-22 21:39:12.860387: W tensorflow/stream_executor/platform/default/dso_loader.cc:64] Could not load dynamic library 'libnvinfer_plugin.so.7'; dlerror: libnvinfer_plugin.so.7: cannot open shared object file: No such file or directory\n",
      "2023-03-22 21:39:12.860396: W tensorflow/compiler/tf2tensorrt/utils/py_utils.cc:38] TF-TRT Warning: Cannot dlopen some TensorRT libraries. If you would like to use Nvidia GPU with TensorRT, please make sure the missing libraries mentioned above are installed properly.\n"
     ]
    }
   ],
   "source": [
    "import os\n",
    "import sounddevice as sd\n",
    "import numpy as np\n",
    "import time\n",
    "from time import time\n",
    "from time import sleep\n",
    "from scipy.io.wavfile import write\n",
    "import argparse as ap\n",
    "import tensorflow as tf\n",
    "import tensorflow_io as tfio\n",
    "import uuid\n",
    "import psutil\n",
    "# import myConnection as mc\n",
    "from datetime import datetime\n",
    "import argparse as ap\n",
    "import pandas as pd\n",
    "import random\n",
    "import re"
   ]
  },
  {
   "cell_type": "code",
   "execution_count": 2,
   "id": "690a4fc8",
   "metadata": {},
   "outputs": [],
   "source": [
    "try:\n",
    "    os.chdir('./datasets/dsl_data/')\n",
    "except:\n",
    "    print(\"wrong path for script\")\n",
    "seed = 42\n",
    "os.environ['PYTHONHASHSEED'] = str(seed)\n",
    "os.environ['TF_DETERMINISTIC_OPS'] = '1'\n",
    "random.seed(seed)\n",
    "tf.random.set_seed(seed)\n",
    "np.random.seed(seed)"
   ]
  },
  {
   "cell_type": "code",
   "execution_count": 3,
   "id": "60bb4fde",
   "metadata": {},
   "outputs": [],
   "source": [
    "parser = ap.ArgumentParser()\n",
    "\n",
    "parser.add_argument('--resolution', default=8000, type=int, help=\"Resolution for capturing audio\")\n",
    "# blocksize\n",
    "#parser.add_argument('--blocksize', default=32000, type=int, help=\"Blocksize for captured audio, change only if you previously changed\")\n",
    "parser.add_argument('--downsampling_rate', default=8000, type=int, help=\"Resolution for capturing audio\")\n",
    "parser.add_argument('--device', default=0, type=int, help=\"Default device is 0, change for others\")\n",
    "\n",
    "\n",
    "parser.add_argument('--output_directory', default='./AudioFiles',type=str, help='Used to specify output folder')\n",
    "\n",
    "\n",
    "args = parser.parse_args(['--device','19','--resolution','8000' ])\n",
    "#args = parser.parse_args()"
   ]
  },
  {
   "cell_type": "code",
   "execution_count": 4,
   "id": "47e3cf92",
   "metadata": {},
   "outputs": [],
   "source": [
    "if not os.path.exists(args.output_directory):\n",
    "    os.makedirs(args.output_directory)\n",
    "\n",
    "\n",
    "LABELS = ['change languagenone', 'activatemusic', 'deactivatelights', 'increasevolume', 'decreasevolume', 'increaseheat', 'decreaseheat']"
   ]
  },
  {
   "cell_type": "code",
   "execution_count": 5,
   "id": "da2d76fc",
   "metadata": {},
   "outputs": [
    {
     "name": "stdout",
     "output_type": "stream",
     "text": [
      "Test area\n"
     ]
    }
   ],
   "source": [
    "print(\"Test area\")\n",
    "\n",
    "blocksize = 4 * args.resolution\n",
    "\n",
    "identifier = 0\n",
    "label = \"\"\n",
    "\n",
    "def callback(indata, frames, callback_time, status):\n",
    "    \"\"\"This is called (from a separate thread) for each audio block.\"\"\"\n",
    "    # print(is_silence(indata))\n",
    "    # print(type(indata))  # Type is numpy.ndarray \n",
    "    global identifier\n",
    "    global label\n",
    "    \n",
    "    write(f'./{args.output_directory}/{identifier}_{label}.wav', args.resolution, indata)\n",
    "    filesize_in_bytes = os.path.getsize(f'./{args.output_directory}/{identifier}_{label}.wav')\n",
    "    filesize_in_kb = filesize_in_bytes / 1024\n",
    "    print(f'Size: {filesize_in_kb:.2f}KB')\n",
    "    \n",
    "#callback_with_args = functools.partial(my_callback, identifier=identifier, label=label)\n",
    "\n",
    "# 10 fron on screen microphone\n",
    "# 14 from microphone nada?\n",
    "\n",
    "def test(ident,lab):\n",
    "    print(\"New Recording!\")\n",
    "    global identifier\n",
    "    global label\n",
    "    identifier = ident\n",
    "    label = lab\n",
    "    with sd.InputStream(device=args.device, channels=1, dtype='int16', samplerate=args.resolution, blocksize=blocksize, callback=callback):\n",
    "        print(\"\")"
   ]
  },
  {
   "cell_type": "code",
   "execution_count": 6,
   "id": "49413e4e",
   "metadata": {},
   "outputs": [
    {
     "name": "stdout",
     "output_type": "stream",
     "text": [
      "The labels to create are the following:\n",
      "0 change languagenone\n",
      "1 activatemusic\n",
      "2 deactivatelights\n",
      "3 increasevolume\n",
      "4 decreasevolume\n",
      "5 increaseheat\n",
      "6 decreaseheat\n"
     ]
    }
   ],
   "source": [
    "print(\"The labels to create are the following:\")\n",
    "for i in range(0,len(LABELS)):\n",
    "    print(i,LABELS[i])"
   ]
  },
  {
   "cell_type": "code",
   "execution_count": 7,
   "id": "ece01dc3",
   "metadata": {},
   "outputs": [
    {
     "name": "stdout",
     "output_type": "stream",
     "text": [
      "What label you want to do? COPY PASTE!change languagenone\n"
     ]
    }
   ],
   "source": [
    "chosen_label = input(\"What label you want to do? COPY PASTE!\")"
   ]
  },
  {
   "cell_type": "code",
   "execution_count": 20,
   "id": "5ef3f3fd",
   "metadata": {},
   "outputs": [
    {
     "name": "stdout",
     "output_type": "stream",
     "text": [
      "Maximum integer number in folder: 3\n"
     ]
    }
   ],
   "source": [
    "# Get list of all files in the folder\n",
    "file_list = os.listdir(args.output_directory)\n",
    "\n",
    "# Initialize maximum integer variable\n",
    "min_file = 0\n",
    "\n",
    "# Loop through files and extract integer numbers from file names\n",
    "for file_name in file_list:\n",
    "    if re.match(r'^\\d+_', file_name):\n",
    "        file_int = int(re.search(r'^(\\d+)_', file_name).group(1))\n",
    "        if file_int > min_file:\n",
    "            min_file = file_int\n",
    "\n",
    "# Print the maximum integer number\n",
    "if min_file > 0:\n",
    "    print(\"Maximum integer number in folder:\", min_file)\n",
    "else:\n",
    "    print(\"No audio files found in folder.\")\n"
   ]
  },
  {
   "cell_type": "code",
   "execution_count": 18,
   "id": "a20c27b6",
   "metadata": {},
   "outputs": [
    {
     "name": "stdout",
     "output_type": "stream",
     "text": [
      "Choose how many audio files to create:2\n"
     ]
    }
   ],
   "source": [
    "audio_size = input(\"Choose how many audio files to create:\")\n",
    "audio_size = int(audio_size) + min_file + 1"
   ]
  },
  {
   "cell_type": "code",
   "execution_count": 19,
   "id": "04383c4f",
   "metadata": {},
   "outputs": [
    {
     "name": "stdout",
     "output_type": "stream",
     "text": [
      "New Recording!\n",
      "\n",
      "Size: 62.54KB\n",
      "New Recording!\n",
      "\n",
      "Size: 62.54KB\n"
     ]
    }
   ],
   "source": [
    "for i in range(  int(min_file),audio_size  ):\n",
    "    test(i,chosen_label)"
   ]
  },
  {
   "cell_type": "code",
   "execution_count": null,
   "id": "fe382f5b",
   "metadata": {},
   "outputs": [],
   "source": []
  }
 ],
 "metadata": {
  "kernelspec": {
   "display_name": "Python 3 (ipykernel)",
   "language": "python",
   "name": "python3"
  },
  "language_info": {
   "codemirror_mode": {
    "name": "ipython",
    "version": 3
   },
   "file_extension": ".py",
   "mimetype": "text/x-python",
   "name": "python",
   "nbconvert_exporter": "python",
   "pygments_lexer": "ipython3",
   "version": "3.10.9"
  }
 },
 "nbformat": 4,
 "nbformat_minor": 5
}
